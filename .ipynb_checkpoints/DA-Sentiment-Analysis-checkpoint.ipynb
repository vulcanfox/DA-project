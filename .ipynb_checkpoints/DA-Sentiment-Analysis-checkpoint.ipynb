{
 "cells": [
  {
   "cell_type": "markdown",
   "id": "0bdef17b",
   "metadata": {},
   "source": [
    "# Data analytics coursework "
   ]
  },
  {
   "cell_type": "code",
   "execution_count": 1,
   "id": "d4c81566",
   "metadata": {},
   "outputs": [
    {
     "name": "stderr",
     "output_type": "stream",
     "text": [
      "[nltk_data] Downloading package punkt to\n",
      "[nltk_data]     C:\\Users\\adnan\\AppData\\Roaming\\nltk_data...\n",
      "[nltk_data]   Package punkt is already up-to-date!\n",
      "[nltk_data] Downloading package wordnet to\n",
      "[nltk_data]     C:\\Users\\adnan\\AppData\\Roaming\\nltk_data...\n",
      "[nltk_data]   Package wordnet is already up-to-date!\n",
      "[nltk_data] Downloading package vader_lexicon to\n",
      "[nltk_data]     C:\\Users\\adnan\\AppData\\Roaming\\nltk_data...\n",
      "[nltk_data]   Package vader_lexicon is already up-to-date!\n"
     ]
    }
   ],
   "source": [
    "%load_ext autoreload\n",
    "%autoreload 2\n",
    "\n",
    "# Use HuggingFace's datasets library to access the financial_phrasebank dataset\n",
    "from datasets import load_dataset\n",
    "from sklearn.linear_model import LogisticRegression\n",
    "from sklearn.metrics import classification_report, confusion_matrix, ConfusionMatrixDisplay\n",
    "import numpy as np\n",
    "from scipy.sparse import hstack\n",
    "import nltk as nltk\n",
    "from nltk import word_tokenize          \n",
    "from nltk.stem import WordNetLemmatizer \n",
    "from sklearn.feature_extraction.text import CountVectorizer\n",
    "nltk.download('punkt')\n",
    "nltk.download('wordnet')\n",
    "nltk.download('vader_lexicon')\n",
    "from nltk.sentiment.vader import SentimentIntensityAnalyzer"
   ]
  },
  {
   "cell_type": "code",
   "execution_count": 2,
   "id": "e3db0913",
   "metadata": {},
   "outputs": [],
   "source": [
    "train_files = [\n",
    "    'data/FiQA_ABSA_task1/task1_headline_ABSA_train.json',\n",
    "    'data/FiQA_ABSA_task1/task1_post_ABSA_train.json'\n",
    "]"
   ]
  },
  {
   "cell_type": "code",
   "execution_count": 3,
   "id": "29bb0c35",
   "metadata": {},
   "outputs": [
    {
     "name": "stdout",
     "output_type": "stream",
     "text": [
      "Number of instances: 1111\n",
      "Number of labels: 1111\n",
      "Number of negative labels: 310\n",
      "Number of neutral labels: 195\n",
      "Number of positive labels: 606\n"
     ]
    }
   ],
   "source": [
    "## Loading data from JSON\n",
    "import json\n",
    "\n",
    "def load_fiqa_sa_from_json(json_files):\n",
    "    train_text = []\n",
    "    train_labels = []\n",
    "\n",
    "    for file in json_files:\n",
    "        with open(file, 'r', encoding='UTF-8') as handle:\n",
    "            dataf = json.load(handle)\n",
    "\n",
    "        dataf_text = [dataf[k][\"sentence\"] for k in dataf.keys()]\n",
    "        # print(len(dataf_text))\n",
    "        train_text.extend(dataf_text)\n",
    "\n",
    "        dataf_labels = [float(dataf[k][\"info\"][0][\"sentiment_score\"]) for k in dataf.keys()]\n",
    "        # print(len(dataf_labels))\n",
    "        train_labels.extend(dataf_labels)\n",
    "\n",
    "    train_text = np.array(train_text)\n",
    "    train_labels = np.array(train_labels)\n",
    "    \n",
    "    return train_text, train_labels\n",
    "\n",
    "\n",
    "def threshold_scores(scores):\n",
    "    \"\"\"\n",
    "    Convert sentiment scores to discrete labels.\n",
    "    0 = negative.\n",
    "    1 = neutral.\n",
    "    2 = positive.\n",
    "    \"\"\"\n",
    "    labels = []\n",
    "    for score in scores:\n",
    "        if score < -0.2:\n",
    "            labels.append(0)\n",
    "        elif score > 0.2:\n",
    "            labels.append(2)\n",
    "        else:\n",
    "            labels.append(1)\n",
    "            \n",
    "    return np.array(labels)\n",
    "\n",
    "\n",
    "all_text, all_labels = load_fiqa_sa_from_json(train_files)\n",
    "    \n",
    "print(f'Number of instances: {len(all_text)}')\n",
    "print(f'Number of labels: {len(all_labels)}')\n",
    "\n",
    "all_labels = threshold_scores(all_labels)\n",
    "print(f'Number of negative labels: {np.sum(all_labels==0)}')\n",
    "print(f'Number of neutral labels: {np.sum(all_labels==1)}')\n",
    "print(f'Number of positive labels: {np.sum(all_labels==2)}')"
   ]
  },
  {
   "cell_type": "code",
   "execution_count": 4,
   "id": "1e5f008f",
   "metadata": {},
   "outputs": [
    {
     "name": "stdout",
     "output_type": "stream",
     "text": [
      "Number of training instances = 710\n",
      "Number of validation instances = 178\n",
      "Number of test instances = 223\n"
     ]
    }
   ],
   "source": [
    "from sklearn.model_selection import train_test_split\n",
    "\n",
    "# Split test data from training data\n",
    "train_documents, test_documents, train_labels, test_labels = train_test_split(\n",
    "    all_text, \n",
    "    all_labels, \n",
    "    test_size=0.2, \n",
    "    stratify=all_labels  # make sure the same proportion of labels is in the test set and training set\n",
    ")\n",
    "\n",
    "# Split validation data from training data\n",
    "train_documents, val_documents, train_labels, val_labels = train_test_split(\n",
    "    train_documents, \n",
    "    train_labels, \n",
    "    test_size=0.2, \n",
    "    stratify=train_labels  # make sure the same proportion of labels is in the test set and training set\n",
    ")\n",
    "\n",
    "print(f'Number of training instances = {len(train_documents)}')\n",
    "print(f'Number of validation instances = {len(val_documents)}')\n",
    "print(f'Number of test instances = {len(test_documents)}')\n"
   ]
  },
  {
   "cell_type": "code",
   "execution_count": 5,
   "id": "f759bcb3",
   "metadata": {},
   "outputs": [
    {
     "name": "stdout",
     "output_type": "stream",
     "text": [
      "What does one instance look like from the training set? \n",
      "\n",
      "OCBC to Buy Barclay's Wealth Management Unit in Singapore, Hong Kong\n",
      "...and here is its corresponding label \n",
      "\n",
      "2\n"
     ]
    }
   ],
   "source": [
    "print(f'What does one instance look like from the training set? \\n\\n{train_documents[234]}')\n",
    "print(f'...and here is its corresponding label \\n\\n{train_labels[234]}')"
   ]
  },
  {
   "cell_type": "markdown",
   "id": "7a8bfb43",
   "metadata": {},
   "source": [
    "# Preprocessing using Lemmatization"
   ]
  },
  {
   "cell_type": "markdown",
   "id": "422fe568",
   "metadata": {},
   "source": [
    "We create a lemmatizer token that reduces words to their root forms. This reduces the vocabulary size.\n"
   ]
  },
  {
   "cell_type": "code",
   "execution_count": 68,
   "id": "e7aa7a95",
   "metadata": {},
   "outputs": [],
   "source": [
    "class LemmaTokenizer(object):\n",
    "    \n",
    "    def __init__(self):\n",
    "        self.wnl = WordNetLemmatizer()\n",
    "        \n",
    "    def __call__(self, tweets):\n",
    "        return [self.wnl.lemmatize(self.wnl.lemmatize(self.wnl.lemmatize(tok, pos='n'), pos='v'), pos='a') for tok in word_tokenize(tweets)]\n",
    "    "
   ]
  },
  {
   "cell_type": "markdown",
   "id": "f7932f42",
   "metadata": {},
   "source": [
    "# Using bi-grams + unigrams as feature"
   ]
  },
  {
   "cell_type": "code",
   "execution_count": 69,
   "id": "eff5b79a",
   "metadata": {},
   "outputs": [
    {
     "name": "stderr",
     "output_type": "stream",
     "text": [
      "C:\\Users\\adnan\\anaconda3\\envs\\data_analytics\\lib\\site-packages\\sklearn\\feature_extraction\\text.py:516: UserWarning: The parameter 'token_pattern' will not be used since 'tokenizer' is not None'\n",
      "  warnings.warn(\n"
     ]
    },
    {
     "name": "stdout",
     "output_type": "stream",
     "text": [
      "['ocwen', 'reach', 'settlement', 'with', 'california', 'regulator', 'ocwen reach', 'reach settlement', 'settlement with', 'with california', 'california regulator', 'rt', '@', 'cash_cow', '$', 'tlt', 'still', 'ha', 'a', 'rise']\n"
     ]
    }
   ],
   "source": [
    "vectorizer = CountVectorizer(tokenizer=LemmaTokenizer(), ngram_range=(1,2))\n",
    "vectorizer.fit(train_documents)\n",
    "X_train = vectorizer.transform(train_documents)\n",
    "X_val = vectorizer.transform(val_documents)\n",
    "X_test_documents = vectorizer.transform(test_documents)\n",
    "# Print out some of the features in the vocabulary:\n",
    "print(list(vectorizer.vocabulary_)[:20])"
   ]
  },
  {
   "cell_type": "code",
   "execution_count": 70,
   "id": "978adde5",
   "metadata": {},
   "outputs": [
    {
     "name": "stdout",
     "output_type": "stream",
     "text": [
      "Vocabulary size: 10638\n"
     ]
    }
   ],
   "source": [
    "print(f'Vocabulary size: {len(vectorizer.vocabulary_)}')\n",
    "vocabulary = vectorizer.vocabulary_"
   ]
  },
  {
   "cell_type": "markdown",
   "id": "ded1bed2",
   "metadata": {},
   "source": [
    "## Fitting to model"
   ]
  },
  {
   "cell_type": "code",
   "execution_count": 85,
   "id": "bf44eb6d",
   "metadata": {},
   "outputs": [
    {
     "name": "stdout",
     "output_type": "stream",
     "text": [
      "              precision    recall  f1-score   support\n",
      "\n",
      "           0       0.75      0.54      0.63        50\n",
      "           1       0.90      0.29      0.44        31\n",
      "           2       0.69      0.94      0.79        97\n",
      "\n",
      "    accuracy                           0.71       178\n",
      "   macro avg       0.78      0.59      0.62       178\n",
      "weighted avg       0.74      0.71      0.69       178\n",
      "\n"
     ]
    },
    {
     "data": {
      "image/png": "[encoded data removed]",
      "text/plain": [
       "<Figure size 640x480 with 2 Axes>"
      ]
     },
     "metadata": {},
     "output_type": "display_data"
    }
   ],
   "source": [
    "classifier = LogisticRegression()\n",
    "classifier.fit(X_train, train_labels)\n",
    "y_test_pred = classifier.predict(X_val)\n",
    "cm = confusion_matrix(val_labels, y_test_pred)\n",
    "cm_display = ConfusionMatrixDisplay(cm).plot()\n",
    "print(classification_report(val_labels, y_test_pred))"
   ]
  },
  {
   "cell_type": "code",
   "execution_count": null,
   "id": "a053c690",
   "metadata": {},
   "outputs": [],
   "source": []
  },
  {
   "cell_type": "markdown",
   "id": "955668c0",
   "metadata": {},
   "source": [
    "# Using POS-NEG lexicon features"
   ]
  },
  {
   "cell_type": "code",
   "execution_count": 72,
   "id": "d3e4c148",
   "metadata": {},
   "outputs": [],
   "source": [
    "\n",
    "analyser = SentimentIntensityAnalyzer()"
   ]
  },
  {
   "cell_type": "code",
   "execution_count": 73,
   "id": "838753f1",
   "metadata": {},
   "outputs": [],
   "source": [
    "vocabulary = vectorizer.vocabulary_\n",
    "\n",
    "lex_pos_scores = np.zeros((1, len(vocabulary)))\n",
    "lex_neg_scores = np.zeros((1, len(vocabulary)))\n",
    "\n",
    "for i, term in enumerate(vocabulary):\n",
    "    if term in analyser.lexicon and analyser.lexicon[term] > 0:\n",
    "        lex_pos_scores[0, i] = 1\n",
    "    elif term in analyser.lexicon and analyser.lexicon[term] < 0:\n",
    "        lex_neg_scores[0, i] = 1"
   ]
  },
  {
   "cell_type": "code",
   "execution_count": 74,
   "id": "d0b7078a",
   "metadata": {},
   "outputs": [],
   "source": [
    "# This enables u to get the total positive and total negative counts for each set:\n",
    "lex_pos_train = np.sum(X_train.multiply(lex_pos_scores), axis=1)\n",
    "lex_pos_val = np.sum(X_val.multiply(lex_pos_scores), axis=1)\n",
    "lex_pos_test = np.sum(X_test_documents.multiply(lex_pos_scores), axis=1)\n",
    "\n",
    "lex_neg_train = np.sum(X_train.multiply(lex_neg_scores), axis=1)\n",
    "lex_neg_val = np.sum(X_val.multiply(lex_neg_scores), axis=1)\n",
    "lex_neg_test = np.sum(X_test_documents.multiply(lex_neg_scores), axis=1)"
   ]
  },
  {
   "cell_type": "code",
   "execution_count": 75,
   "id": "a7f1ff75",
   "metadata": {},
   "outputs": [],
   "source": [
    "X_train = hstack((X_train, lex_pos_train, lex_neg_train))\n",
    "X_val = hstack((X_val, lex_pos_val, lex_neg_val))\n",
    "X_test_documents = hstack((X_test_documents, lex_pos_test, lex_neg_test))"
   ]
  },
  {
   "cell_type": "markdown",
   "id": "79970dc2",
   "metadata": {},
   "source": [
    "## refitting model"
   ]
  },
  {
   "cell_type": "code",
   "execution_count": 86,
   "id": "fb1b3bb8",
   "metadata": {},
   "outputs": [
    {
     "name": "stdout",
     "output_type": "stream",
     "text": [
      "              precision    recall  f1-score   support\n",
      "\n",
      "           0       0.75      0.54      0.63        50\n",
      "           1       0.90      0.29      0.44        31\n",
      "           2       0.69      0.94      0.79        97\n",
      "\n",
      "    accuracy                           0.71       178\n",
      "   macro avg       0.78      0.59      0.62       178\n",
      "weighted avg       0.74      0.71      0.69       178\n",
      "\n"
     ]
    },
    {
     "data": {
      "image/png": "[encoded data removed]",
      "text/plain": [
       "<Figure size 640x480 with 2 Axes>"
      ]
     },
     "metadata": {},
     "output_type": "display_data"
    }
   ],
   "source": [
    "\n",
    "classifier = LogisticRegression()\n",
    "classifier.fit(X_train, train_labels)\n",
    "y_test_pred = classifier.predict(X_val)\n",
    "# Checking performance\n",
    "cm = confusion_matrix(val_labels, y_test_pred)\n",
    "cm_display = ConfusionMatrixDisplay(cm).plot()\n",
    "print(classification_report(val_labels, y_test_pred))"
   ]
  },
  {
   "cell_type": "code",
   "execution_count": 77,
   "id": "e8a26005",
   "metadata": {},
   "outputs": [
    {
     "name": "stdout",
     "output_type": "stream",
     "text": [
      "Tweet: CompaniesLSE adds ex-SEC head Schapiro to board; true label = 1, prediction = 2.\n",
      "Tweet: $AMD big dumping... would not touch it for a while; true label = 0, prediction = 2.\n",
      "Tweet: Looks like its booking a one way ticket to its 40 week MA near 50. Losing 10 week here $LULU http://chart.ly/7xb9h9b; true label = 1, prediction = 2.\n",
      "Tweet: Sheryl Sandberg Sells 109,000 Shares of Facebook Inc $FB Stock https://t.co/3vXT7AMnpk via @RatingsNetwork; true label = 1, prediction = 2.\n",
      "Tweet: $RIG whos ever pushing this is crazy, get ready for suspended dividend (turning into growth stock) blow out earnings, and major buyback, lol; true label = 1, prediction = 2.\n",
      "Tweet: $SPY Tomorrow party time for the Bears!! $GOOG and $MSFT -5.5%; true label = 0, prediction = 2.\n",
      "Tweet: $GPS Gap September Comparable Store Sales -4%; true label = 0, prediction = 2.\n",
      "Tweet: Glencore fight back over debt fears lifts shares; true label = 2, prediction = 0.\n",
      "Tweet: $ENDP being sued by FTC.....nobody will buy them with that hanging over their heads; true label = 0, prediction = 2.\n",
      "Tweet: #Apple breaks major support, here are some levels to watch - http://stks.co/jRmW $AAPL $QQQ; true label = 0, prediction = 2.\n"
     ]
    }
   ],
   "source": [
    "# Key part is investigating the errors, so let's do that:\n",
    "error_indexes = y_test_pred != val_labels  # compare predictions to gold labels\n",
    "\n",
    "# get the text of tweets where the classifier made an error:\n",
    "tweets_err = np.array(val_documents)[error_indexes]\n",
    "\n",
    "# WRITE YOUR CODE HERE\n",
    "pred_err = y_test_pred[error_indexes]\n",
    "gold_err = np.array(val_labels)[error_indexes]\n",
    "\n",
    "for i in range(10):  # just print the first ten\n",
    "    print(f'Tweet: {tweets_err[i]}; true label = {gold_err[i]}, prediction = {pred_err[i]}.')"
   ]
  },
  {
   "cell_type": "markdown",
   "id": "22152e2b",
   "metadata": {},
   "source": [
    "# Performance on test set"
   ]
  },
  {
   "cell_type": "code",
   "execution_count": 87,
   "id": "36b7100d",
   "metadata": {},
   "outputs": [
    {
     "name": "stdout",
     "output_type": "stream",
     "text": [
      "              precision    recall  f1-score   support\n",
      "\n",
      "           0       0.68      0.55      0.61        62\n",
      "           1       0.71      0.13      0.22        39\n",
      "           2       0.69      0.94      0.80       122\n",
      "\n",
      "    accuracy                           0.69       223\n",
      "   macro avg       0.70      0.54      0.54       223\n",
      "weighted avg       0.69      0.69      0.64       223\n",
      "\n"
     ]
    },
    {
     "data": {
      "image/png": "[encoded data removed]",
      "text/plain": [
       "<Figure size 640x480 with 2 Axes>"
      ]
     },
     "metadata": {},
     "output_type": "display_data"
    }
   ],
   "source": [
    "# Let's test the performance on the test set.\n",
    "y_test_pred = classifier.predict(X_test_documents)\n",
    "# Checking performance\n",
    "cm = confusion_matrix(test_labels, y_test_pred)\n",
    "cm_display = ConfusionMatrixDisplay(cm).plot()\n",
    "print(classification_report(test_labels, y_test_pred))"
   ]
  },
  {
   "cell_type": "markdown",
   "id": "c035c7c8",
   "metadata": {},
   "source": [
    "# HDP"
   ]
  },
  {
   "cell_type": "code",
   "execution_count": 6,
   "id": "69a9c7f0",
   "metadata": {},
   "outputs": [
    {
     "name": "stdout",
     "output_type": "stream",
     "text": [
      "Number of training instances = 710\n",
      "Number of validation instances = 178\n",
      "Number of test instances = 223\n"
     ]
    }
   ],
   "source": [
    "from sklearn.model_selection import train_test_split\n",
    "\n",
    "# Split test data from training data\n",
    "train_documents, test_documents, train_labels, test_labels = train_test_split(\n",
    "    all_text, \n",
    "    all_labels, \n",
    "    test_size=0.2, \n",
    "    stratify=all_labels  # make sure the same proportion of labels is in the test set and training set\n",
    ")\n",
    "\n",
    "# Split validation data from training data\n",
    "train_documents, val_documents, train_labels, val_labels = train_test_split(\n",
    "    train_documents, \n",
    "    train_labels, \n",
    "    test_size=0.2, \n",
    "    stratify=train_labels  # make sure the same proportion of labels is in the test set and training set\n",
    ")\n",
    "\n",
    "print(f'Number of training instances = {len(train_documents)}')\n",
    "print(f'Number of validation instances = {len(val_documents)}')\n",
    "print(f'Number of test instances = {len(test_documents)}')\n"
   ]
  },
  {
   "cell_type": "code",
   "execution_count": 7,
   "id": "a703d4b0",
   "metadata": {},
   "outputs": [],
   "source": [
    "from sklearn.feature_extraction.text import CountVectorizer\n",
    "from nltk.stem import WordNetLemmatizer \n",
    "from gensim.utils import simple_preprocess\n",
    "from gensim.parsing.preprocessing import STOPWORDS # find stopwords\n",
    "import numpy as np\n",
    "\n",
    "np.random.seed(400)  # We fix the random seed to ensure we get consistent results when we repeat the lab.\n",
    "\n",
    "# Tokenize and lemmatize\n",
    "def preprocess(text):\n",
    "    result=[]\n",
    "    for token in simple_preprocess(text) :  # Tokenize, remove very short and very long words, convert to lower case, remove words containing non-letter characters\n",
    "        if token not in STOPWORDS:\n",
    "            result.append(WordNetLemmatizer().lemmatize(token, 'v'))\n",
    "            \n",
    "    return result\n",
    "\n",
    "# Create a list of preprocessed documents\n",
    "processed = []\n",
    "for doc in train_documents:\n",
    "    processed.append(preprocess(doc))"
   ]
  },
  {
   "cell_type": "code",
   "execution_count": 8,
   "id": "4479aba5",
   "metadata": {},
   "outputs": [
    {
     "name": "stdout",
     "output_type": "stream",
     "text": [
      "[['rsa', 'insurance', 'hire', 'towergate', 'egan', 'chief', 'financial', 'officer'], ['brewer', 'ab', 'inbev', 'seek', 'bln', 'tie', 'sabmiller'], ['rt', 'joemccann', 'correleation', 'dollar', 'index', 'spy', 'simply', 'amaze', 'dx', 'find', 'support', 'spy', 'retreat', 'like', 'clockwork'], ['fintech', 'provider', 'cafn', 'cachet', 'financial', 'solutions', 'surge', 'forward', 'today', 'post', 'earn', 'https', 'bj', 'csk', 'jkhy', 'fisv', 'momo'], ['technik', 'smaller', 'gild', 'pos', 'tender', 'cash', 'volatility', 'reluctant', 'big', 'position'], ['aapl', 'stock', 'climb', 'barron', 'see', 'upside', 'jim', 'cramer', 'https', 'lkld', 'mvkbq'], ['fti', 'breakout', 'today', 'report', 'earn', 'night'], ['tsla', 'february', 'low', 'amaze', 'rebound'], ['fb', 'small', 'long', 'call'], ['astrazeneca', 'profit', 'sales', 'stalwarts', 'fade'], ['mcd', 'look', 'set', 'fall', 'http', 'stks', 'fgj'], ['aapl', 'short', 'term', 'fund', 'redemption', 'liquidations', 'channel', 'clear', 'soon', 'solid', 'foot', 'new', 'floor', 'come', 'july'], ['randgold', 'profit', 'hit', 'poor', 'gold', 'price', 'dividend', 'increase'], ['royal', 'dutch', 'shell', 'profit', 'rise', 'dividend'], ['rnn', 'day', 'traders', 'flush', 'start', 'go', 'slowly'], ['txrh', 'report', 'eps', 'versus', 'estimate', 'beat', 'eps', 'quarter', 'year'], ['yoku', 'high', 'volume', 'blast', 'friday', 'go', 'higher', 'http', 'stks', 'qsal'], ['shire', 'see', 'baxalta', 'deal', 'close', 'expect', 'new', 'rule'], ['shell', 'bg', 'shareholders', 'vote', 'deal', 'end', 'january'], ['aviva', 'suspend', 'property', 'fund', 'investors', 'panic'], ['dojiknows', 'th', 'sp', 'potential', 'qnx', 'be', 'bbm', 'cross', 'platform', 'bring', 'good', 'news', 'time', 'bbry'], ['neon', 'oversold'], ['glaxosmithkline', 'start', 'hunt', 'successor', 'ceo', 'witty'], ['bxs', 'bancorpsouth', 'announce', 'extension', 'merger', 'agreements', 'http', 'stks', 'pdf'], ['infection', 'worry', 'prompt', 'regulatory', 'review', 'gilead', 'leukaemia', 'drug', 'gild', 'https', 'vqxpz', 'yahoofinance'], ['trouble', 'brew', 'legal', 'general', 'group', 'plc', 'aviva', 'plc'], ['save', 'break', 'downtrend', 'line', 'increase', 'volume', 'upside', 'http', 'stks'], ['share', 'bae', 'systems', 'hit', 'month', 'high', 'rat', 'upgrade'], ['bioc', 'rsi', 'extremely', 'long', 'favor', 'look', 'bioc', 'historically'], ['tesco', 'share', 'price', 'dip', 'blinkbox', 'book', 'close', 'end', 'supermarket', 'digital'], ['tyc', 'break', 'new', 'highs', 'lot', 'technicals', 'look', 'great', 'right'], ['tsla', 'recall', 'model', 'vehicles', 'share', 'volatile', 'https', 'tckqznmiqx', 'tsla', 'tech', 'stockmarket', 'https', 'femhjtamqj'], ['glencore', 'study', 'possible', 'ipo', 'agricultural', 'trade', 'business'], ['rule', 'set', 'lower', 'limit', 'potential', 'fine', 'bp'], ['update', 'pearson', 'expect', 'grow', 'year', 'solid', 'end'], ['facebook', 'near', 'buy', 'point', 'week', 'face', 'different', 'technical', 'test', 'today', 'https', 'llmpinm', 'fb', 'aapl', 'nflx', 'https', 'fpfbytypuy'], ['buy', 'celg', 'ready', 'bounce'], ['yhoo', 'make', 'new', 'hod'], ['ocbc', 'buy', 'barclay', 'wealth', 'management', 'unit', 'singapore', 'hong', 'kong'], ['merge', 'lse', 'deutsche', 'bã', 'rse', 'lead', 'germany', 'kengeter'], ['fb', 'reject', 'highs', 'shortable'], ['long', 'tsla', 'short', 'mbly', 'https', 'jspuszo', 'na'], ['tsla', 'bad', 'day', 'short'], ['notable', 'gainers', 'liquid', 'option', 'name', 'morning', 'include', 'stx', 'nem', 'wdc', 'gme'], ['bearish', 'outside', 'day', 'tuesday', 'significant', 'day', 'resistance', 'intact', 'opinion', 'sds', 'http', 'chart', 'ly', 'bey'], ['trip', 'maintain', 'neutral', 'rat', 'jp', 'morgan', 'pt', 'cut'], ['kingfisher', 'share', 'price', 'slide', 'cost', 'implement', 'new', 'strategy'], ['aapl', 'short'], ['follow', 'berkshire', 'hathaway', 'apple', 'stock'], ['astrazeneca', 'suffer', 'setback', 'drug', 'fail', 'treat', 'eye', 'cancer'], ['compass', 'group', 'say', 'positive', 'year', 'ahead'], ['ubnt', 'have', 'trouble', 'resistance', 'line', 'resolve', 'soon', 'cheri', 'strattonite', 'http', 'stks', 'su'], ['tesla', 'model', 'recall', 'add', 'reliability', 'issue', 'tsla', 'https', 'jvxq', 'doxnp'], ['microsoft', 'join', 'open', 'source', 'eclipse', 'foundation', 'https', 'czakeu', 'focus', 'collaboration', 'open', 'business', 'smart', 'strategy', 'msft'], ['tsla', 'dip', 'test', 'day', 'ma', 'https', 'jeplmzqkgw'], ['gild', 'expand', 'research', 'facilities', 'keep', 'pace', 'innovation', 'https', 'uoe', 'fj', 'lop'], ['nflx', 'small', 'pos', 'short', 'wkly', 'put'], ['new', 'credit', 'suisse', 'boss', 'face', 'stiff', 'challenge', 'asia'], ['spy', 'wouldn', 'surprise', 'green', 'close'], ['spy', 'long', 'position'], ['market', 'report', 'day', 'rally', 'end', 'ftse', 'standard', 'charter'], ['slw', 'weekly', 'call', 'volume', 'worth', 'chance', 'jmho', 'http', 'stks', 'qfg'], ['nd', 'raise', 'year', 'bvhealthcare', 'qcor', 'questcor', 'increase', 'quarterly', 'cash', 'dividend', 'percent', 'http', 'stks', 'goan'], ['aapl', 'glad', 'get', 'stop', 'weeklies', 'enter', 'monday', 'earn', 'run'], ['passengers', 'rise', 'easyjet', 'aer', 'lingus'], ['kndi', 'china', 'electriccar', 'maker', 'china', 'car', 'sales', 'fee', 'tsla', 'momentum', 'run', 'lately'], ['fb', 've', 'dead', 'far', 'bloat', 'valuation', 'https', 'czcf', 'kbrlt'], ['britain', 'ftse', 'bounce', 'mondi', 'barratt', 'lead'], ['copper', 'market', 'style', 'supply', 'shock', 'glencore', 'closure'], ['isrg', 'trade', 'time', 'high', 'strong', 'earn', 'report', 'days', 'short'], ['binkster', 'er', 'lol', 'look', 'correlation', 'aria', 'foreign', 'price', 'chart', 'poise', 'breakout'], ['update', 'persimmon', 'profit', 'strongly', 'outlook', 'positive'], ['imrs', 'important', 'pragmatic', 'analysis', 'high', 'price', 'offer', 'head', 'wind', 'bullish', 'story', 'intact', 'evenif', 'market', 'roll'], ['rsh', 'look', 'profitable', 'quarter', 'years', 'long', 'strong'], ['update', 'engineer', 'firm', 'smiths', 'group', 'confirm', 'ceo', 'appointment'], ['like', 'breakout', 'long', 'get', 'ma', 'run'], ['je', 'look', 'like', 'bounce', 'nice', 'finish', 'today', 'hammer', 'nice', 'volume', 'finger', 'cross'], ['spy', 'bump', 'head', 'decline', 'daily', 'ma', 'overhead', 'resistance', 'big', 'brother', 'ma'], ['tsla', 'downside', 'weeks', 'careful', 'dollars', 'drop', 'potential', 'vs', 'move'], ['intc', 'finally', 'nice', 'downside', 'look', 'handle', 'break'], ['nasdboy', 'think', 'dnf', 'crew', 'nflx', 'short', 'days', 'head', 'earn'], ['bae', 'systems', 'sales', 'boost', 'european', 'typhoon', 'currencies'], ['vrtx', 'early', 'technical', 'buy', 'signal', 'confirmation', 'need', 'fundam', 'incentive', 'https', 'quysrqfo'], ['ingenious', 'hsbc', 'ubs', 'coutts', 'sue', 'tax', 'avoidance', 'clients'], ['gild', 'sandbag', 'guidance', 'use', 'billion', 'cc', 'cautiously', 'optimistic', 'wait', 'til', 'er', 'confirmation'], ['long', 'vvus', 'share', 'option', 'expiration', 'umm', 'today', 'hit', 'hod'], ['sheryl', 'sandberg', 'sell', 'share', 'facebook', 'fb', 'stock', 'https', 'vxt', 'amnpk', 'ratingsnetwork'], ['aapl', 'reject', 'hod', 'head', 'lower', 'sit', 'sideline'], ['long', 'sdlp', 'cpgx', 'twtr', 'bita', 'labu', 'fb', 'tsla', 'ete', 'sdrl', 'autocharts', 'https', 'nxlx', 'es', 'ny'], ['aapl', 'new', 'long', 'break', 'target', 'bear', 'retake', 'qqq', 'nq_f', 'ndx', 'https', 'wxchw'], ['auto', 'trader', 'share', 'price', 'surge', 'company', 'float', 'lse'], ['shire', 'buy', 'nps', 'billion', 'boost', 'rare', 'disease', 'drug'], ['update', 'bp', 'settle', 'oil', 'spill', 'relate', 'claim', 'halliburton', 'transocean'], ['royal', 'mail', 'johnson', 'matthey', 'lead', 'ftse', 'lower'], ['harmongreg', 'bbry', 'wkly', 'inverse', 'head', 'shoulder', 'form', 'trigger', 'po', 'watch', 'http', 'stks', 'ipvj'], ['horizonte', 'acquire', 'neighbour', 'glencore', 'nickel', 'property', 'brazil'], ['nugt', 'gold', 'wow'], ['dara', 'break'], ['twtr', 'doom', 'chart', 'fb', 'goog', 'https', 'mpylireqjh', 'https', 'nlczawdohp'], ['astrazeneca', 'explore', 'potential', 'deal', 'acerta', 'cancer', 'drug'], ['britain', 'ftse', 'gain', 'land', 'securities', 'dividend', 'hike'], ['see', 'profit', 'rise', 'uk', 'contract', 'problems', 'remain'], ['esi', 'low', 'bk', 'real', 'possibility'], ['pay', 'nd', 'time', 'test', 'zone', 'break', 'move', 'stop'], ['isrg', 'pt', 'raise', 'leerink', 'keep', 'outperform', 'rat'], ['fb', 'pop', 'hod'], ['mylan', 'appoint', 'ranjan', 'ray', 'chaudhuri', 'global', 'commercial', 'lead', 'mylan'], ['break', 'week', 'highs', 'time', 'look', 'great', 'ahs', 'baby', 'post', 'ige', 'irdm', 'ewbc', 'phys', 'ulta', 'vnet', 'biv', 'https', 'jzuzmu'], ['yhoo', 'fishy', 'action', 'new', 'party', 'interest', 'dailymail', 'bounce', 'retreat', 'short', 'mean', 'action', 'question', 'big', 'thoughts'], ['key', 'price', 'watch', 'nflx', 'previous', 'double', 'reject', 'http', 'stks', 'siyn'], ['tesco', 'asda', 'sales', 'fall', 'march', 'discounters', 'continue', 'kantar'], ['tesla', 'recall', 'model', 'cars', 'https', 'bkvstl', 'tsla'], ['ab', 'inbev', 'look', 'win', 'sabmiller', 'investors'], ['ftse', 'rally', 'month', 'low', 'boost', 'stanchart', 'sainsbury'], ['rost', 'ross', 'store', 'upgrade', 'outperform', 'rbc', 'capital', 'market', 'http', 'stks'], ['fusioniq', 'new', 'positive', 'time', 'signal', 'sbux', 'today', 'https', 'imlxz', 'yna', 'retweet', 'signal'], ['johnson', 'matthey', 'profit', 'fall', 'dividend', 'rise'], ['primark', 'rack', 'happy', 'christmas', 'strong', 'sales'], ['kep', 'break', 'market', 'pull', 'http', 'stks', 'cet'], ['gsk', 'join', 'china', 'trade', 'push', 'uk', 'trumpet', 'healthcare', 'deal'], ['sainsbury', 'sales', 'slip', 'price', 'pressure', 'toll'], ['xlf', 'http', 'stks', 'kj', 'bounce', 'target', 'buy', 'area', 'buy', 'skf', 'hedge', 'watch', 'ma', 'slope'], ['dollar', 'wipe', 'sales', 'gain', 'sabmiller'], ['coh', 'gain', 'momentum', 'nice', 'buy', 'signal', 'long', 'http', 'stks', 'tah'], ['kraft', 'heinz', 'merger', 'come', 'speedy', 'weeks'], ['dnn', 'pick', 'like', 'go'], ['vrtx', 'vertex', 'monthly', 'lower', 'hi', 'lower', 'lo', 'long', 'term', 'uptrend', 'intract', 'far'], ['percent', 'upside', 'fb', 'share'], ['philippines', 'san', 'miguel', 'say', 'partner', 'kirin', 'bid', 'sabmiller'], ['london', 'stock', 'exchange', 'deutsche', 'boerse', 'merger', 'threat', 'brexit'], ['timberrrr', 'tsla', 'https', 'mrbgfdhhva'], ['uk', 'house', 'market', 'steady', 'brexit', 'dip', 'persimmon', 'say'], ['lse', 'deutsche', 'boerse', 'merger', 'signal', 'end', 'exchange', 'mega', 'deal'], ['update', 'astrazeneca', 'sell', 'rare', 'cancer', 'drug', 'sanofi', 'mln'], ['fb', 'dax', 'say', 'bye', 'bye', 'finish', 'great', 'yr', 'plus'], ['pypl', 'great', 'vol', 'flow', 'trade', 'love', 'company', 'long', 'time'], ['intertek', 'group', 'announce', 'strategic', 'update', 'outline', 'plan'], ['atvi', 'ooks', 'pretty', 'bullish', 'short', 'term', 'perspective', 'get', 'good', 'chance', 'maybe', 'slide', 'stock', 'invest'], ['british', 'american', 'tobacco', 'half', 'sales', 'hurt', 'currency', 'move'], ['intuitiv', 'clne', 'gasoline', 'price', 'spike', 'california', 'http', 'stks', 'boi'], ['britain', 'ftse', 'fall', 'ashtead', 'commodities', 'pressure'], ['dish', 'weakness', 'continue', 'area', 'resistance', 'week'], ['astrazeneca', 'weigh', 'acerta', 'bid', 'secure', 'blood', 'cancer', 'drug'], ['warren', 'buffett', 'defend', 'berkshire', 'hathaway', 'conglomerate', 'structure'], ['stock', 'little', 'change', 'near', 'record', 'barclays', 'shell', 'fall'], ['aapl', 'action', 'close', 'indicate', 'aapl', 'probably', 'hit', 'near', 'term', 'high', 'momentum', 'slow', 'huge', 'run'], ['wac', 'trade', 'continue', 'nicely', 'yesterday', 'yesterday', 'entry', 'deal', 'price', 'tonight', 'look', 'strong', 'spy'], ['rad', 'chart', 'flash', 'oversold'], ['severn', 'trent', 'share', 'price', 'jump', 'canadian', 'investor', 'renew', 'pursuit', 'utility'], ['berkshire', 'seek', 'boost', 'well', 'fargo', 'stake', 'percent'], ['aviva', 'friends', 'life', 'forecast', 'ahead', 'billion', 'pound', 'merger'], ['wgo', 'bod', 'right', 'reject', 'offer', 'company', 'low', 'economy', 'type', 'mismanagement'], ['ifhedieshedies', 'bullhorn', 'znga', 'short', 'get', 'nervous'], ['dig', 'weekly', 'stochastics', 'finally', 'start', 'turn', 'long', 'consolidation', 'buy'], ['new', 'recommendation', 'carl', 'kirst', 'bmo', 'capital', 'market', 'wmb', 'buy', 'price', 'target', 'http', 'stks'], ['yang', 'double'], ['astrazeneca', 'buy', 'zs', 'pharma', 'billion'], ['gs', 'sell', 'flat'], ['nyse', 'owner', 'ice', 'consider', 'offer', 'lse'], ['lloyds', 'bank', 'group', 'share', 'price', 'lift', 'amid', 'report', 'bank', 'poise', 'axe', 'hundreds', 'uk', 'job'], ['doubt', 'grow', 'glaxosmithkline', 'bln', 'capital', 'return', 'plan'], ['spy', 'bull', 'end', 'wait', 'setup'], ['know', 'seat', 'sit', 'tsla', 'tesla', 'recall', 'model', 'cars', 'https', 'gwz', 'zc'], ['rdc', 'rowan', 'expand', 'share', 'repurchase', 'program', 'million'], ['astrazeneca', 'chase', 'acerta', 'secure', 'cancer', 'drug', 'winner'], ['hsbc', 'hit', 'fresh', 'detail', 'tax', 'evasion', 'claim'], ['month', 'add', 'gild', 'position', 'start', 'new', 'bwld', 'slow', 'steady', 'unspectacular', 'growth', 'go', 'forward', 'near', 'term'], ['morrisons', 'book', 'second', 'consecutive', 'quarter', 'sales', 'growth'], ['cdti', 'bounce', 'support', 'setup', 'area', 'important', 'bull', 'lose', 'http', 'stks', 'mf'], ['plug', 'bear', 'raid'], ['deutsche', 'bank', 'downgrade', 'starbucks', 'new', 'loyalty', 'program', 'https', 'iy', 'lcugabc', 'sbux'], ['fda', 'approve', 'astrazeneca', 'iressa', 'lung', 'cancer', 'treatment'], ['endp', 'saw', 'large', 'order', 'week', 'accumulate', 'jun', 'call', 'today'], ['vivus', 'vvus', 'bear', 'raid', 'effect', 'stock'], ['facebook', 'fb', 'receive', 'buy', 'rat', 'well', 'fargo', 'star', 'analyst', 'peter', 'stabler', 'well', 'fargo', 'https', 'jnb', 'vdcu'], ['bobe', 'premarket'], ['exclusive', 'bp', 'china', 'cnpc', 'unveil', 'oil', 'alliance', 'source'], ['sonc', 'amaze', 'run', 'middle', 'march', 'obvious', 'quality', 'tastiness', 'burgers', 'factor', 'price', 'advance'], ['sophos', 'aim', 'raise', 'london', 'ipo'], ['slv', 'awful'], ['bid', 'mr', 'bricolage', 'run', 'trouble'], ['maglan', 'capital', 'february', 'long', 'fairpoint', 'http', 'stks', 'eqc', 'frp'], ['rt', 'bman', 'lng', 'look', 'prim', 'eght', 'poise', 'run'], ['prlb', 'hang', 'tough', 'market', 'analyst', 'upgrade', 'week'], ['sbux', 'invert', 'head', 'shoulder', 'pattern', 'work', 'bullish'], ['fb', 'gettin', 'buy', 'zone', 'soon'], ['shire', 'say', 'internal', 'synergy', 'goals', 'baxalta', 'deal', 'higher'], ['astrazeneca', 'acquire', 'zs', 'pharma', 'billion', 'deal'], ['chime', 'communications', 'set', 'acquire', 'wpp', 'providence'], ['companieshoward', 'davies', 'appointment', 'rbs', 'director', 'delay'], ['skh', 'http', 'stks', 'long', 'setup', 'watch', 'continuation', 'volume', 'expansion', 'hot', 'sector'], ['easyjet', 'lead', 'britain', 'ftse', 'lower', 'global', 'bond', 'rout', 'resume'], ['onty', 'continue', 'base', 'debate', 'linger', 'ont', 'data', 'potential', 'catalyst', 'positive', 'stock', 'quickly', 'move', 'downside', 'limit'], ['vxx', 'start', 'creep', 'spy', 'sit', 'near', 'hod'], ['add', 'long', 'friday', 'close', 'spy', 'labu', 'blue', 'amzn'], ['diageo', 'share', 'surge', 'report', 'possible', 'takeover', 'lemann'], ['fedday', 'look', 'sharp', 'equities', 'aapl', 'hd', 'low', 'fb', 'see', 'uvxy', 'tvix', 'get', 'hammer', 'market'], ['ppg', 'descend', 'triangle', 'like', 'upside', 'break', 'http', 'stks', 'ny'], ['rt', 'acinvestorblog', 'aapl', 'track'], ['aapl', 'near', 'drop', 'thats', 'lot', 'best', 'hold', 'er', 'lol'], ['inve', 'ya'], ['yndx', 'price', 'stock', 'time', 'lower', 'annual', 'earn', 'resist', 'buy', 'sell'], ['kitd', 'look', 'oversold', 'bounce'], ['tsla', 'days', 'row', 'neeeeds'], ['citigroup', 'sell', 'onemain', 'springleaf', 'billion'], ['surprise', 'jwn', 'sks', 'sales', 'number', 'hold', 'guess', 'high', 'end', 'concern'], ['academics', 'claim', 'google', 'android', 'factor', 'authentication', 'breakable', 'security', 'authentication', 'hack', 'goog', 'https', 'njx', 'mnrglo'], ['glencore', 'blame', 'rival', 'create', 'metal', 'glut'], ['steal', 'tweet', 'wouldn', 'surprise', 'take', 'pin', 'rt', 'totalguru', 'possibly', 'today', 'aapl'], ['tspt', 'long'], ['tesco', 'criticise', 'disgraceful', 'advert', 'show', 'domestic', 'worker', 'slap'], ['beat', 'internet', 'company', 'ripe', 'takeover', 'target', 'twitter', 'twtr', 'linkedin', 'lnkd', 'yahoo', 'yhoo', 'groupon', 'grpn'], ['update', 'lloyds', 'cut', 'job', 'year', 'restructure', 'plan'], ['bbby', 'stock', 'options', 'trade', 'double', 'money', 'https', 'oa', 'loirijl', 'thestreet'], ['hrl', 'ready', 'pop', 'http', 'stks', 'ny'], ['ftse', 'fall', 'month', 'low', 'greek', 'debt', 'concern', 'easyjet', 'skid'], ['gld', 'http', 'stks', 'ow', 'closer', 'inspection', 'resistance', 'point', 'north', 'downward', 'trendline', 'chart'], ['nq', 'get', 'hit', 'hard', 'lower', 'look', 'like', 'support', 'http', 'stks'], ['csx', 'today', 'report', 'wall', 'street', 'expect', 'eps', 'revenues'], ['ice', 'say', 'start', 'line', 'finance', 'lse', 'bid', 'war'], ['royal', 'mail', 'share', 'price', 'edge', 'lower', 'group', 'raise', 'stamp', 'price'], ['bbry', 'actually', 'lose', 'share', 'incl', 'vz', 'debt', 'cash'], ['surprise', 'fb', 'fall', 'think', 'support', 'guess'], ['nugt', 'longer', 'term', 'bullish'], ['city', 'spirit', 'sink', 'diageo', 'come', 'short', 'sales', 'slide'], ['hargreaves', 'lansdown', 'buck', 'weak', 'market', 'assets', 'rise', 'percent'], ['edu', 'bounce', 'nicely', 'add', 'post'], ['aviva', 'weigh', 'cash', 'handout', 'beat', 'profit', 'forecast'], ['sds', 'pick', 'speed', 'call', 'http', 'stks', 'eik', 'week', 'call', 'http', 'stks', 'eil'], ['ab', 'inbev', 'approach', 'sabmiller', 'explore', 'bn', 'tie'], ['aapl', 'aug', 'call', 'http', 'stks'], ['amzn', 'trail', 'months', 'operate', 'cash', 'flow', 'rise', 'billion', 'free', 'cash', 'flow', 'decrease', 'million', 'http', 'stks', 'zg'], ['valeant', 'say', 'new', 'ceo', 'pearson', 'hospitalize'], ['rt', 'street_insider', 'steve', 'job', 'effect', 'apple', 'aapl', 'day', 'iphone', 'sales', 'chart', 'http', 'stks', 'yye'], ['brooklynbandit', 'simo', 'base', 'nice', 'close', 'bullish', 'qqq', 'spy', 'study', 'watch', 'close', 'near', 'hod', 'currently'], ['cytx', 'look', 'like', 'ascend', 'channel', 'finfiz', 'http', 'stks'], ['dxcm', 'make', 'higher', 'highs', 'higher', 'low', 'consolidate', 'past', 'weeks', 'time', 'high'], ['legal', 'general', 'share', 'price', 'finance', 'chief', 'step'], ['rnn', 'bleed', 'monday'], ['juniper', 'tumble', 'warn', 'cisco', 'lower', 'jnpr', 'csco', 'https', 'bgvintk'], ['vxx', 'add', 'position'], ['dpz', 'break', 'bull', 'flag', 'channel', 'new', 'highs', 'volume', 'poor'], ['bbry', 'trend', 'turn', 'bullish', 'today', 'resistance', 'level', 'http', 'stks', 'qt'], ['homebuilders', 'ryl', 'break', 'support', 'watch', 'spy'], ['twtr', 'sad', 'thing', 'takeover', 'rumor', 'sell', 'day'], ['nasdaq', 'set', 'breakout', 'ii', 'allstarcharts', 'http', 'stks', 'nv', 'goog', 'amzn', 'qcom'], ['louiebeene', 'vwap', 'hold', 'trend', 'line', 'lot', 'radars', 'navb'], ['fb', 'churn', 'high', 'volume', 'ipo', 'price', 'lot', 'sellers', 'try', 'consolidate', 'move', 'higher'], ['yhoo', 'breakout', 'constitute', 'technical', 'entry', 'short', 'term', 'trader', 'http', 'stks', 'jkuf'], ['naturalgas', 'settle', 'year', 'low', 'dbo', 'bno', 'http', 'stks', 'qx'], ['royal', 'mail', 'chairman', 'donald', 'brydon', 'set', 'step'], ['mcp', 'roll', 'new', 'intraday', 'low', 'pickers', 'continue', 'destroy'], ['idcc', 'share', 'total', 'value', 'company', 'crunch', 'technology', 'diamond', 'rough'], ['rt', 'alphatrends', 'vmarkets', 'act', 'weak', 'http', 'stks', 'agn', 'spy', 'qqq', 'xlf', 'smh', 'iwm'], ['aapl', 'high', 'day', 'hit', 'tomorrow'], ['shell', 'challenge', 'exxon', 'dominance', 'billion', 'pound', 'bid', 'bg'], ['think', 'fms', 'challendge', 'ema', 'distant', 'future', 'look', 'yesterday', 'volume'], ['christmas', 'save', 'sainsbury', 'plc', 'tesco', 'plc'], ['aapl', 'bounce', 'right', 'vol', 'vol', 'slide'], ['aapl', 'goldman', 'sachs', 'reiterate', 'conviction', 'buy', 'apple', 'pt', 'spy', 'djia', 'gs', 'https', 'hmxsitwm'], ['standard', 'charter', 'shift', 'emerge', 'market', 'strategy', 'losses'], ['anheuser', 'busch', 'inbev', 'increase', 'offer', 'rival', 'sabmiller'], ['skx', 'turn', 'come', 'far', 'far', 'stock', 'price', 'imply', 'pay', 'business'], ['bp', 'join', 'force', 'det', 'norske', 'norway'], ['standard', 'life', 'share', 'price', 'insurer', 'buy', 'advice', 'firm', 'pearson', 'jones'], ['fastenal', 'miss', 'miss', 'revenue', 'fast', 'nyse', 'https', 'jhq', 'pwmn'], ['fda', 'approve', 'nps', 'drug', 'validate', 'shire', 'takeover', 'deal'], ['windows', 'awful', 'force', 'upgrade', 'pc', 'consent', 'windows', 'microsoft', 'msft'], ['starbucks', 'digital', 'strategy', 'drive', 'significant', 'growth', 'customer', 'loyalty', 'sbux', 'https', 'xk', 'lz', 'ui'], ['update', 'cib', 'legal', 'general', 'sell', 'egyptian', 'life', 'joint', 'venture', 'axa'], ['stock', 'large', 'players', 'sell', 'http', 'stks', 'vel', 'crox', 'gogo', 'ino'], ['fast', 'gww', 'daily', 'sales', 'slow', 'pretty', 'timely', 'coincident', 'indicator', 'https', 'bkhbkzk'], ['hlf', 'short', 'kill', 'couple', 'days', 'cover', 'buy'], ['standard', 'charter', 'share', 'plunge', 'fitch', 'downgrade'], ['buyback', 'trend', 'right', 'cpix', 'spend', 'share', 'pricier', 'hopefully', 'pull', 'close', 'vwap'], ['bbry', 'ready'], ['tesco', 'sales', 'rise', 'show', 'tentative', 'recovery', 'continue'], ['update', 'cypress', 'semiconductor', 'offer', 'buy', 'integrate', 'silicon', 'solution'], ['refile', 'update', 'britain', 'lloyds', 'pay', 'dividend', 'rescue'], ['aapl', 'sure', 'short', 'hold', 'breath', 'hop', 'miracle', 'lol'], ['uk', 'ftse', 'worst', 'day', 'far', 'bg', 'prudential', 'fall'], ['ea', 'launch', 'origin', 'online', 'game', 'distribution', 'mac', 'http', 'stks', 'aktu', 'macrumors', 'ea'], ['rival', 'company', 'gwr', 'watco', 'eye', 'ra', 'http', 'stks', 'xy'], ['ab', 'inbev', 'latest', 'bid', 'say', 'unlikely', 'win', 'sabmiller', 'approval'], ['crm', 'sep', 'call', 'entry', 'bang', 'http', 'stks', 'dedm'], ['daily', 'mail', 'owner', 'consider', 'yahoo', 'bid', 'yhoo', 'https', 'extzr', 'riyp'], ['meggitt', 'share', 'price', 'tumble', 'profit', 'fall', 'challenge', 'year'], ['update', 'astrazeneca', 'boost', 'respiratory', 'unit', 'mln', 'takeda', 'deal'], ['micron', 'share', 'pound', 'fear', 'loss', 'business', 'apple', 'stifel', 'defend', 'aapl', 'mu', 'http', 'stks', 'marjo'], ['glencore', 'see', 'tripoli', 'base', 'noc', 'sole', 'legal', 'seller', 'libyan', 'oil'], ['twtr', 'best', 'scenario', 'go', 'forward', 'stock', 'slowly', 'fall', 'everyday', 'probable'], ['yahoo', 'stock', 'bid', 'war', 'pick', 'company', 'https', 'jdnzxdcmkl', 'yhoo', 'https', 'hmoegfhgvn'], ['stx', 'bear', 'market', 'datasecurity', 'emc', 'sndk', 'wdc', 'https', 'vkydwpxesn'], ['severn', 'trent', 'share', 'price', 'rise', 'half', 'profit', 'inch', 'customer'], ['valeant', 'ceo', 'pledge', 'heed', 'critics', 'painful', 'experience'], ['astrazeneca', 'daiichi', 'sankyo', 'jointly', 'commercialise', 'movantik'], ['renew', 'ab', 'inbev', 'bid', 'sabmiller', 'up', 'stake', 'beer', 'battle'], ['arm', 'profit', 'sales', 'shift', 'away', 'mobile', 'gain', 'pace'], ['balfour', 'beatty', 'plc', 'set', 'reinstate', 'dividend', 'rival', 'national', 'grid', 'plc', 'centrica', 'plc'], ['whitbread', 'boss', 'andy', 'harrison', 'defend', 'sales', 'fall', 'blip'], ['tesla', 'issue', 'model', 'recall', 'https', 'kmqvwhqq', 'tsla'], ['goodwin', 'face', 'scottish', 'prosecution', 'rbs'], ['look', 'like', 'book', 'way', 'ticket', 'week', 'ma', 'near', 'lose', 'week', 'lulu', 'http', 'chart', 'ly', 'xb'], ['aapl', 'price', 'momentum', 'weaken', 'go', 'close'], ['aviva', 'plc', 'direct', 'line', 'insurance', 'group', 'plc', 'admiral', 'group', 'plc', 'set', 'soar'], ['press', 'serco', 'set', 'appoint', 'roy', 'gardner', 'ex', 'centrica', 'chairman', 'ft'], ['bbcn', 'bancorp', 'buy', 'wilshire', 'bancorp', 'bln', 'deal'], ['worth', 'invest', 'tesco', 'plc', 'prudential', 'plc'], ['awr', 'standard', 'poor', 'affirm', 'credit', 'rat', 'american', 'state', 'water', 'company', 'golden', 'state', 'water', 'company', 'http', 'stks'], ['talktalk', 'hire', 'bae', 'systems', 'investigate', 'cyber', 'attack'], ['hard', 'new', 'buyers', 'tsla', 'short', 'continue', 'pile'], ['aapl', 'beat', 'hat', 'hhhmm', 'opposite', 'happen'], ['brk', 'spy', 'time', 'high', 'tomorrow', 'share', 'dec'], ['agn', 'pypl', 'pressure', 'market', 'bullish', 'options', 'trade', 'morning', 'https', 'xg', 'nont'], ['merkel', 'government', 'say', 'support', 'deutsche', 'boerse', 'lse', 'merger'], ['rbs', 'chairman', 'admit', 'surprise', 'size', 'regulatory', 'penalties'], ['hotels', 'quarter', 'global', 'room', 'revenue', 'lag', 'estimate'], ['hammerson', 'jv', 'partner', 'secure', 'ownership', 'ireland', 'dundrum', 'quick', 'facts'], ['gs', 'look', 'weak', 'market', 'move', 'higher', 'good', 'sign', 'gs', 'early', 'short', 'today'], ['diageo', 'sales', 'disappoint', 'currency', 'comparatives', 'leave', 'bitter', 'taste'], ['ctrp', 'break', 'resistance', 'watch', 'redtogreen', 'breakout', 'right', 'gate', 'tomorrow', 'morning', 'stock', 'https', 'vxfuuit'], ['rpt', 'old', 'mutual', 'gross', 'sales', 'beat', 'forecast', 'pct'], ['long', 'aapl'], ['hopeturock', 'yes', 'expectations', 'deal', 'somewhat', 'price', 'nice', 'pop', 'bid', 'come', 'higher', 'expect', 'yhoo'], ['day', 'sma', 'big', 'hurdle', 'good', 'base', 'build', 'nflx', 'https', 'imkygo', 'cyc'], ['crh', 'add', 'cr', 'laurence', 'acquisitions', 'tally', 'bn'], ['european', 'stock', 'hover', 'near', 'week', 'low', 'dialog', 'bhp', 'slump'], ['spy', 'extreme', 'win', 'today', 'cents', 'low', 'year', 'spy', 'percent', 'life', 'bowl', 'cherries', 'great', 'short', 'set'], ['trx', 'http', 'stks', 'kkk', 'long', 'setup', 'macd', 'cross'], ['ab', 'inbev', 'sell', 'sab', 'assets', 'seek', 'eu', 'deal', 'approval'], ['znga', 'http', 'stks', 'rdu', 'look', 'test', 'resistance', 'point', 'cc', 'cfrazierjr', 'fletchtrade', 'traders'], ['trow', 'ascend', 'triangle', 'give', 'bullish', 'bias', 'chart', 'breakout', 'positive', 'http', 'stks', 'ls'], ['rio', 'tinto', 'ceo', 'say', 'iron', 'ore', 'market', 'equilibrium'], ['companieslse', 'add', 'ex', 'sec', 'head', 'schapiro', 'board'], ['london', 'stock', 'exchange', 'seal', 'billion', 'merger', 'germany', 'deutsche', 'bã', 'rse'], ['kior', 'god', 'market', 'get', 'crush', 'today', 'gotta', 'hold', 'recover', 'tomorrow', 'imagine'], ['sabmiller', 'buy', 'meantime', 'quench', 'thirst', 'craft', 'beer'], ['rimm', 'spx', 'nya', 'compq', 'djia', 'go'], ['rt', 'stocktwits', 'rt', 'fallondpicks', 'breadth', 'consolidate', 'weeks', 'steady', 'gain', 'advance', 'mkt', 'breadth', 'slowe', 'http', 'stks', 'trg', 'qqq'], ['reed', 'elsevier', 'share', 'price', 'slide', 'underwhelming', 'year', 'result'], ['pay', 'price', 'dividend', 'cut', 'crisis', 'chief', 'say'], ['lse', 'deutsche', 'bã', 'rse', 'dealmakers', 'wrong', 'ignore', 'brexit', 'risk'], ['load', 'bsx', 'yesterday', 'look', 'good', 'think', 'way', 'upside', 'downside'], ['bank', 'include', 'barclays', 'citi', 'agree', 'pay', 'billion', 'settle', 'forex'], ['company', 'thetrainline', 'com', 'announce', 'arrival', 'london', 'ipo'], ['rt', 'jan', 'arna', 'think', 'buyout', 'rumor', 'strong', 'drive', 'fly', 'like', 'aapl', 'fly', 'high'], ['amzn', 'long', 'earn', 'look', 'good'], ['hpq', 'say', 'breakup', 'cost', 'billions', 'see', 'save', 'http', 'stks', 'hz'], ['goog', 'resistance', 'turn', 'support'], ['rbi', 'surprise', 'street', 'sensex', 'par', 'gain', 'hit', 'mount'], ['bp', 'statoil', 'withdraw', 'staff', 'algeria', 'follow', 'rocket', 'attack'], ['tesla', 'motor', 'recall', 'model', 'suvs', 'tsla', 'https', 'xdgraexkkz'], ['grid', 'show', 'dia', 'cap', 'long', 'term', 'range', 'rally', 'today', 'level', 'range', 'lead', 'meltdown'], ['mflx', 'pre', 'mkt', 'look', 'like', 'gap', 'fill', 'lookin', 'short', 'opt'], ['tesco', 'close', 'new', 'chairman', 'dixons', 'carphone', 'john', 'allan', 'frame'], ['short', 'faz', 'know', 'mean', 'market', 'tank'], ['bac', 'swing', 'trade', 'look', 'like', 'want'], ['costco', 'premier', 'retail', 'dividend', 'play', 'https', 'fa', 'cnh', 'cost'], ['expe', 'work', 'second', 'leg', 'reversal', 'run', 'break', 'trend', 'continue', 'higher', 'https', 'dsjysyr'], ['aapl', 'test', 'high', 'today', 'probably', 'hours'], ['update', 'auto', 'trader', 'share', 'leap', 'uk', 'biggest', 'private', 'equity', 'back', 'list'], ['intertek', 'swing', 'mln', 'loss', 'oil', 'slump'], ['royal', 'dutch', 'shell', 'buy', 'bg', 'group', 'nearly', 'billion'], ['mtd', 'mettler', 'toledo', 'ready', 'breakout'], ['fio', 'win', 'stay'], ['glaxo', 'viiv', 'healthcare', 'sign', 'china', 'manufacture', 'deal', 'desano'], ['hcp', 'come', 'party', 'buy', 'gonna', 'solid', 'gain', 'dividend'], ['sbux', 'head', 'dma', 'certain', 'doom', 'hold'], ['market', 'report', 'aviva', 'top', 'market', 'traders', 'approve', 'choice', 'friends'], ['sppi', 'build', 'rs', 'sweet', 'want', 'break', 'new', 'week', 'earn', 'growth', 'justify', 'way', 'higher'], ['wpp', 'world', 'largest', 'ad', 'agency', 'report', 'strong', 'growth'], ['current', 'hold', 'options', 'long', 'aapl', 'gs', 'aet', 'short', 'vxx'], ['googl', 'set', 'day', 'move', 'average', 'https', 'ttm', 'rnfoxj'], ['nuan', 'hold', 'big', 'gain', 'maybe', 'finally', 'undervalue', 'major', 'upside'], ['like', 'price', 'action', 'swks', 'currently', 'target', 'year', 'end'], ['fb', 'hit', 'sight', 'short', 'twtr'], ['complete', 'uk', 'largest', 'medically', 'underwrite', 'bulk', 'pension', 'risk', 'deal'], ['cost', 'costco', 'stellar', 'day', 'hold', 'day', 'move', 'average'], ['sanction', 'gazprom', 'shell', 'alliance', 'plan', 'jeopardy'], ['eln', 'long', 'congrats', 'hod'], ['sab', 'chairman', 'dig', 'board', 'divide', 'inbev', 'offer'], ['dnkn', 'kkd', 'dpz', 'loco', 'inside', 'week', 'buy', 'trigger', 'http', 'stks', 'vv', 'http', 'stks', 'ebn'], ['japan', 'asahi', 'submit', 'bid', 'week', 'sabmiller', 'grolsch', 'peroni', 'yomiuri'], ['royal', 'mail', 'share', 'price', 'rally', 'amid', 'positive', 'broker', 'comment'], ['itv', 'share', 'price', 'jump', 'report', 'comcast', 'nbcuniversal', 'bid', 'takeover'], ['netapp', 'downgrade', 'macquarie', 'underperform', 'pt', 'https', 'xcngws', 'ntap', 'ntap', 'ratingsnetwork'], ['chessnwine', 'iwm', 'minute', 'chart', 'small', 'cap', 'threaten', 'descend', 'triangle', 'breakdown', 'http', 'stks', 'kkm'], ['update', 'astrazeneca', 'buy', 'zs', 'pharma', 'billion', 'pip', 'actelion'], ['endp', 'exit', 'reversal', 'share', 'long', 'get', 'follow', 'price', 'action'], ['volatility', 'squeeze', 'aapl', 'hope', 'get', 'resolve', 'upside'], ['retail', 'giant', 'kingfisher', 'report', 'solid', 'start', 'year'], ['gild', 'chart', 'ibb', 'support', 'https', 'gprz', 'ujfc'], ['london', 'open', 'taylor', 'wimpey', 'ashtead', 'drive', 'market', 'higher', 'barclays', 'fall'], ['googl', 'hit', 'lawsuit', 'russian', 'search', 'engine', 'yndx', 'http', 'stks', 'kd'], ['cat', 'hangin', 'thread', 'click', 'away', 'cliff', 'drop', 'need', 'follow', 'snap', 'vix'], ['xlb', 'weakest', 'sector', 'year', 'possible', 'false', 'breakout', 'http', 'stks', 'dl'], ['star', 'analyst', 'joe', 'wittine', 'longbow', 'research', 'reiterate', 'hold', 'rat', 'ntap'], ['maybe', 'close', 'aapl', 'call', 'morning', 'bad', 'idea', 'money', 'leave', 'table'], ['lse', 'get', 'hong', 'kong', 'regulatory', 'nod', 'hk', 'firm', 'lse', 'members'], ['long', 'amzn'], ['dji', 'overbought', 'aapl', 'axp', 'ba', 'cvx', 'ibm', 'intc', 'vz', 'https', 'wmy', 'pnomjf'], ['exact', 'exas', 'flag', 'strong', 'high', 'volume', 'exas', 'http', 'stks', 'ra'], ['csx', 'strong', 'rail', 'today', 'break', 'intraday', 'resistance', 'https', 'ea', 'fbvuqgp'], ['short', 'altr', 'loss'], ['kcg', 'bot'], ['activision', 'blizzard', 'media', 'network', 'announce', 'record', 'esports', 'viewership', 'https', 'biqlbtk', 'atvi', 'partner', 'hdsi', 'tournament'], ['apple', 'attempt', 'break', 'apple', 'weak', 'pvt', 'aapl', 'trade', 'invest', 'aapl', 'https', 'dnh', 'hgv'], ['isolationism', 'sell', 'rat', 'sell', 'rat', 'spy', 'qqq', 'iwm', 'company', 'https', 'fnnx', 'aapl', 'apple', 'axp', 'bac'], ['travis', 'perkins', 'hike', 'dividend', 'profit', 'revenue', 'rise'], ['ma', 'http', 'stks', 'cyn', 'continue', 'consolidate', 'base'], ['amrn', 'accumulate', 'think', 'buy', 'hold', 'peace', 'today', 'tomorrow'], ['break', 'tesla', 'recall', 'model', 'cars', 'detail', 'tsla'], ['aviva', 'fin', 'million', 'regulator', 'fee', 'fail'], ['sainsbury', 'sell', 'unit', 'lloydspharmacy'], ['googl', 'get', 'upgrade', 'price', 'target'], ['reuters', 'green', 'mountain', 'revenue', 'miss', 'share', 'plunge', 'http', 'stks', 'mw', 'gmcr', 'print', 'market', 'foul', 'mood', 'bad', 'day', 'disappoint'], ['arm', 'royalties', 'accelerate', 'smartphone', 'market', 'regain', 'strength'], ['aberdeen', 'post', 'outflows', 'say', 'condition', 'remain', 'challenge'], ['tsla', 'announce', 'recall', 'stock', 'sell', 'stock', 'teflon', 'win', 'forever'], ['astrazeneca', 'share', 'price', 'acerta', 'deal', 'pay', 'orphan', 'drug', 'status'], ['european', 'share', 'plunge', 'roil', 'bhp', 'oil', 'hop', 'turn', 'ecb'], ['oil', 'major', 'like', 'royal', 'dutch', 'shell', 'chevron', 'bp', 'fail', 'reserve', 'counter'], ['astrazeneca', 'team', 'daiichi', 'sankyo', 'sell', 'movantik'], ['scottrade', 'tsla', 'available', 'short', 'time'], ['tesco', 'shareholders', 'itv', 'head', 'chairman'], ['aria', 'bounce', 'player', 'long', 'http', 'stks', 'wff'], ['netflix', 'grow', 'efforts', 'create', 'loyal', 'customers', 'nflx', 'https', 'qxbkobphe'], ['hargreaves', 'lansdown', 'share', 'price', 'fall', 'cost', 'mount', 'pension'], ['efut', 'hod', 'post', 'buy', 'pm'], ['rnn', 'stay', 'open', 'good', 'sign'], ['insight', 'hire', 'aviva', 'david', 'hillier', 'multi', 'asset', 'team'], ['insurer', 'old', 'mutual', 'pick', 'standard', 'bank', 'hemphill', 'new', 'ceo'], ['tullow', 'oil', 'suspend', 'dividend', 'amid', 'oil', 'price', 'fall'], ['upside', 'move', 'volatile', 'mine', 'sector', 'send', 'anglo', 'american', 'plc', 'aal', 'pm', 'london', 'time'], ['friends', 'life', 'lift', 'profit', 'hike', 'divi', 'ahead', 'propose', 'aviva', 'takeover'], ['nke', 'gap', 'time', 'highs', 'http', 'stks', 'jau', 'tradeideas', 'http', 'stks'], ['today', 'close', 'long', 'tsla', 'amtd', 'twtr', 'fb', 'aapl', 'celg', 'longer', 'term', 'technical', 'swing', 'long', 'basis'], ['long', 'position', 'gol', 'update', 'http', 'stks', 'fdmm'], ['optimistic', 'amzn', 'fundementals', 'chart', 'look', 'like', 'poopoo', 'quarter'], ['astrazeneca', 'sell', 'drug', 'right', 'perrigo', 'mln'], ['keith', 'skeoch', 'step', 'david', 'nish', 'quit', 'chief', 'executive', 'standard', 'life'], ['aapl', 'break', 'downtrend', 'dma', 'prove', 'stiff', 'resistance', 'short', 'term', 'https', 'vlzlgvihzv'], ['persimmon', 'share', 'price', 'climb', 'rise', 'year', 'revenue'], ['fb', 'trend', 'nicely', 'intraday'], ['ebay', 'nice', 'breakout', 'recent', 'consolidation', 'congrats', 'http', 'stks', 'tad'], ['aviva', 'shut', 'friends', 'life', 'head', 'office', 'rapid', 'integration'], ['iff', 'technical', 'alert', 'stochastic', 'sell', 'signal', 'dma', 'support', 'dma', 'support', 'http', 'stks', 'qy'], ['fb', 'dog', 'go', 'lower', 'week'], ['aapl', 'aapl', 'gundlach', 'slam', 'ipad', 'mini', 'see', 'downside', 'http', 'stks', 'bdqv'], ['update', 'sabmiller', 'nd', 'quarter', 'underlie', 'sales', 'rise', 'forex', 'impact', 'margins'], ['commodity', 'channel', 'index', 'indicator', 'signal', 'oversold', 'fb', 'stockmarket', 'https', 'vm', 'xi', 'https', 'cvkojk', 'xn'], ['wynn', 'big', 'bounce'], ['zurich', 'insurance', 'consider', 'offer', 'uk', 'rival', 'rsa', 'insurance'], ['qcom', 'chart', 'qualcomm', 'short', 'retracement', 'trendline', 'resistance', 'https', 'wqqh', 'koy'], ['bull', 'flag', 'daily', 'earn', 'table', 'tomorrow', 'straddle', 'earn', 'lot', 'vol', 'guarantee'], ['glencore', 'slump', 'pct', 'debt', 'fear', 'grow'], ['ocn', 'stuff', 'look', 'add', 'share', 'new', 'high', 'breakout'], ['stumble', 'amaze', 'chart', 'ofix', 'holy', 'guac', 'super', 'overbought', 'http', 'stks', 'px'], ['bhp', 'billiton', 'drag', 'ftse', 'lower', 'slash', 'dividend'], ['british', 'american', 'tobacco', 'drop', 'sue', 'pwc', 'pollution', 'scandal'], ['spy', 'vxx', 'aapl', 'party', 'load', 'uvxy', 'volatility'], ['boeing', 'company', 'nyse', 'ba', 'bearish', 'trader', 'bet', 'stock', 'sell', 'july', 'expiry', 'ba', 'http', 'stks', 'tcse'], ['berkshire', 'hathaway', 'name', 'kara', 'raiguel', 'lead', 'general', 'unit'], ['news', 'feedftse', 'movers', 'lse', 'surge', 'ice', 'say', 'mull', 'offer', 'ashtead', 'barclays', 'tank'], ['lnt', 'increase', 'annual', 'dividend', 'target', 'share', 'share'], ['petrofac', 'book', 'cost', 'shetland', 'gas', 'terminal', 'delay'], ['double', 'handle', 'buy', 'point', 'ip', 'http', 'chart', 'ly', 'akvujxh'], ['gnrc', 'find', 'support', 'day', 'line', 'far'], ['amazon', 'grocery', 'deal', 'morrisons', 'begin'], ['lulu', 'http', 'stks', 'bounce', 'support', 'early', 'week', 'indicators', 'turn', 'rsi', 'macd', 'smi', 'worth', 'look'], ['load', 'spy', 'aapl', 'put', 'think', 'toppy', 'imho'], ['profit', 'take', 'aapl', 'morning', 'pressure', 'stock', 'bullish', 'aapl'], ['ea', 'point', 'facebook', 'game', 'accuse', 'znga', 'copyright', 'infringement', 'http', 'stks'], ['shell', 'offer', 'percent', 'premium', 'buy', 'bg', 'billion'], ['london', 'morning', 'brief', 'hsbc', 'standard', 'charter', 'share', 'rise'], ['tsla', 'look', 'good', 'love', 'base', 'action', 'let', 'rsi', 'breather', 'http', 'stks'], ['coke', 'dividend', 'google', 'dividend', 'passive', 'income', 'coke', 'take', 'goog', 'ko', 'https', 'qbsowjxost'], ['gld', 'http', 'stks', 'jr', 'daily', 'chart', 'rsi', 'stoch', 'point', 'possible', 'lot', 'resistance'], ['gmcr', 'way', 'act', 'fall', 'today', 'horrible', 'action', 'hit', 'yesterday'], ['sap', 'disappoint', 'software', 'license', 'real', 'problem', 'cloud', 'growth', 'trail', 'msft', 'orcl', 'goog', 'crm', 'adbe', 'https', 'jndphllzq'], ['buy', 'arm', 'hold', 'plc', 'bhp', 'billiton', 'plc', 'today'], ['asdfllc', 'nice', 'pop', 'today', 'tell', 'ya', 'green', 'haha', 'funny', 'bring', 'actually', 'work', 'story', 'nok', 'moment'], ['lulu', 'outlook', 'lose', 'revenue', 'range', 'million', 'million', 'good'], ['turnaround', 'buy', 'bhp', 'billiton', 'plc', 'home', 'retail', 'group', 'plc'], ['gakrum', 'nice', 'chart', 'show', 'distinctive', 'channel', 'dip', 'spy'], ['pretty', 'steady', 'accumulation', 'support', 'today', 'purdy', 'agu'], ['amzn', 'break'], ['quick', 'fio', 'market', 'tank', 'scale', 'long'], ['astrazeneca', 'medimmune', 'ink', 'license', 'deal', 'omnis', 'pharmaceuticals'], ['pierrules', 'siri', 'long'], ['sainsbury', 'asda', 'tesco', 'morrisons', 'cut', 'petrol', 'price', 'oil', 'fall'], ['ocwen', 'reach', 'settlement', 'california', 'regulator'], ['aapl', 'news', 'bullish', 'http', 'stks', 'tmu'], ['metal', 'zinc', 'surge', 'pct', 'glencore', 'cut', 'output', 'fuel', 'metal', 'rally'], ['aapl', 'double', 'mind'], ['linkedin', 'revenue', 'nearly', 'http', 'stks', 'lnkd'], ['stock', 'resume', 'gain', 'rally', 'record', 'crh', 'tullow', 'climb'], ['tesco', 'share', 'price', 'close', 'higher', 'directors', 'leave', 'grocer'], ['rbs', 'reportedly', 'appoint', 'howard', 'davies', 'chairman'], ['astrazeneca', 'bag', 'cancer', 'drug', 'deal', 'time', 'inovio'], ['barronsonline', 'see', 'apple', 'share', 'year', 'today', 'grow', 'service', 'business', 'aapl', 'https', 'bdnekn'], ['cgrantwsj', 'think', 'tsla', 'bubble', 'time', 'long', 'ppl', 'love', 'cars', 'get', 'fund'], ['wpp', 'boost', 'sales', 'despite', 'cautious', 'clients'], ['goog', 'breakout', 'likely', 'medium', 'target', 'http', 'stks', 'lpz', 'http', 'chart', 'ly', 'lgb', 'rr'], ['glaxosmithkline', 'set', 'complete', 'billion', 'novartis', 'asset', 'swap', 'week'], ['morning', 'agenda', 'shire', 'deal', 'nps'], ['credit', 'suisse', 'poach', 'prudential', 'thiam', 'asian', 'push'], ['camt', 'look', 'like', 'break'], ['renn', 'top', 'tail', 'min', 'chart', 'short'], ['ibm', 'stay', 'strong'], ['baird', 'upgrade', 'tesla', 'motor', 'tsla', 'outperform', 'https', 'fa', 'atoqlw'], ['share', 'hit', 'record', 'shire', 'takeover', 'talk'], ['new', 'morrisons', 'duo', 'boss', 'support', 'diffuse', 'investor', 'tension'], ['rt', 'robbielolz', 'nflx', 'close', 'look', 'good', 'bull', 'hold', 'position', 'close', 'buy'], ['aviva', 'promise', 'higher', 'dividends', 'boost', 'flag', 'share', 'price'], ['isr', 'isoray', 'high', 'volume', 'http', 'stks', 'ifpo', 'biotech'], ['ceos', 'bpm', 'ubi', 'meet', 'italy', 'econ', 'minister', 'talk', 'heat'], ['casinos', 'red', 'bell', 'lvs', 'wynn', 'wynn', 'unusual', 'comibinations', 'run', 'red', 'bell'], ['australia', 'clear', 'ab', 'inbev', 'billion', 'sabmiller', 'buyout', 'plan'], ['itv', 'pursue', 'takeover', 'canada', 'entertainment', 'bloomberg'], ['bunzl', 'lift', 'dividend', 'acquisitions', 'continue', 'boost', 'profit'], ['athn', 'like', 'good', 'short', 'setup', 'stop', 'day', 'position'], ['fda', 'approve', 'shire', 'vyvanse', 'binge', 'eat', 'disorder'], ['carnival', 'corporation', 'china', 'merchants', 'group', 'sign', 'memo', 'understand'], ['britain', 'ftse', 'outperform', 'europe', 'royal', 'mail', 'tesco', 'rise'], ['gild', 'support', 'ibb', 'bib', 'https', 'gioof', 'zbkv'], ['bullish', 'engulf', 'coca', 'cola', 'http', 'stks', 'fyco', 'ko'], ['slide', 'balance', 'sheet', 'worry'], ['siriusxm', 'add', 'net', 'new', 'subscribers', 'quarter', 'siri', 'ceo', 'sales', 'marketresearch', 'tech', 'entrepreneur', 'speaker'], ['iwm', 'relative', 'weakness', 'pretty', 'apparent', 'short', 'boat', 'get', 'prefer', 'boat', 'closer'], ['xli', 'potential', 'intermediate', 'uptrend', 'chart', 'http', 'stks', 'tdf'], ['insurers', 'admiral', 'blow', 'hot', 'cold', 'aviva', 'soar', 'pre', 'friends', 'life', 'merger'], ['tesla', 'recall', 'model', 'suvs', 'seat', 'issue', 'https', 'odpran', 'xq', 'tsla', 'https', 'xvn', 'bliwpy', 'https', 'thfvwtnrps'], ['barclays', 'appoint', 'jpmorgan', 'paul', 'compton', 'new', 'coo'], ['fda', 'panel', 'back', 'safety', 'update', 'astrazeneca', 'takeda', 'drug'], ['adbe', 'technical', 'alert', 'expansion', 'breakout', 'gilligan', 'island', 'sell', 'setup', 'volume', 'surge', 'new', 'https', 'lxx', 'tknfh'], ['berkshire', 'apply', 'boost', 'well', 'fargo', 'stake', 'percent'], ['juniper', 'tumble', 'warn', 'cisco', 'lower', 'https', 'bplj', 'jnpr', 'csco'], ['aapl', 'resistance', 'area'], ['micron', 'technology', 'nasdaq', 'mu', 'today', 'short', 'https', 'eqqltfuiou'], ['joerazorback', 'time', 'think', 'aapl', 'miss', 'generally', 'speak', 'market', 'near', 'think', 'market', 'go'], ['starbucks', 'downgrade', 'day', 'new', 'downgrade', 'reward', 'program', 'start', 'sbux'], ['companiesdiageo', 'stay', 'neutral', 'india', 'boardroom', 'turmoil'], ['aria', 'reason', 'short', 'long', 'steady', 'small', 'climb', 'best', 'way', 'accrue', 'value', 'imo'], ['star', 'analyst', 'brianwieser', 'pivotal', 'research', 'upgrade', 'rat', 'googl', 'buy', 'brian', 'success', 'rate', 'https', 'dn', 'eoh'], ['ftse', 'drop', 'pct', 'glencore', 'metal', 'price', 'fear'], ['rig', 'whos', 'push', 'crazy', 'ready', 'suspend', 'dividend', 'turn', 'growth', 'stock', 'blow', 'earn', 'major', 'buyback', 'lol'], ['hsbc', 'shake', 'board', 'new', 'business', 'chiefs', 'departures'], ['industry', 'newsmorrisons', 'unveil', 'store', 'close', 'job', 'face', 'axe'], ['tsla', 'weakest', 'todays', 'dt', 'watchlist'], ['tesco', 'share', 'price', 'steady', 'analysts', 'weigh', 'result'], ['sina', 'report', 'untrue', 'prove', 'unture', 'damage', 'want', 'touch'], ['jd', 'hour', 'market', 'care', 'explain'], ['stocktwits', 'kbkiwi', 'tsla', 'tesla', 'model', 'sales', 'exceed', 'target', 'profitability', 'guidance', 'amend', 'upward', 'http', 'stks', 'jq'], ['update', 'eu', 'regulator', 'back', 'approval', 'gsk', 'injectable', 'asthma', 'drug'], ['acinvestorblog', 'spy', 'eod', 'run'], ['astx', 'daily', 'technical', 'indicators', 'bullish', 'breakout', 'watch', 'http', 'stks', 'eovw'], ['tesco', 'sales', 'pickup', 'isn'], ['pcln', 'run', 'sma', 'acquisition', 'news'], ['companiestesco', 'bad', 'start', 'xmas', 'kantar'], ['sudden', 'optimism', 'iphone', 'sales', 'bad', 'expect', 'give', 'apple', 'aapl', 'lift', 'https', 'oktcw', 'yib'], ['qcom', 'indicator', 'rsi', 'stand', 'upward', 'movement', 'expect', 'https', 'yfa', 'jcusqa'], ['unilever', 'profit', 'rise', 'despite', 'sales', 'slump', 'china'], ['bg', 'group', 'appoint', 'new', 'ceo', 'month', 'early'], ['intuitive', 'surgical', 'isrg', 'great', 'financial', 'position', 'look', 'https', 'vahhjacbfg', 'https', 'hqtqx', 'ou'], ['aapl', 'iphone', 'shipments', 'track', 'exceed', 'forecast', 'marketwatch', 'https', 'cxahjix'], ['cost', 'short', 'finally', 'make', 'gain', 'half', 'gain'], ['update', 'pricey', 'beers', 'lift', 'sabmiller', 'quarterly', 'underlie', 'sales'], ['aapl', 'want', 'lower', 'wave', 'get', 'smaller', 'min'], ['mt', 'theacsman', 'amaze', 'see', 'suddenly', 'tout', 'msft', 'long', 'favorite', 'cover', 'double', 'dip', 'dividend', 'play'], ['builder', 'persimmon', 'hail', 'rise', 'house', 'sales'], ['companiesdixons', 'carphone', 'close', 'uk', 'store', 'sales', 'jump'], ['amzn', 'period', 'rsi', 'read', 'connors', 'book', 'trade', 'strategies'], ['uup', 'major', 'resistance', 'right', 'higher', 'break', 'attempt', 'days', 'week'], ['tsla', 'recall', 'model', 'https', 'izya', 'bue'], ['hotels', 'group', 'share', 'price', 'climb', 'bn', 'special', 'dividend'], ['yelp', 'go', 'green', 'short', 'toast'], ['hitk', 'resume', 'advance', 'new', 'historical', 'highs'], ['amrn', 'get', 'sell', 'signal', 'force', 'target'], ['crh', 'concrete', 'bid', 'holcim', 'lafarge', 'assets'], ['update', 'ex', 'barclays', 'director', 'accuse', 'illegal', 'tip', 'plumber'], ['ren', 'bottom', 'good', 'time', 'buy'], ['ctrp', 'break', 'good', 'vol', 'parser', 'buy', 'signal', 'notice', 'bob', 'langs', 'comment', 'look', 'fast'], ['nsm', 'ascend', 'base', 'breakout', 'start', 'gain', 'traction', 'strong', 'stock', 'http', 'stks', 'gbsh'], ['vegastrader', 'look', 'like', 'good', 'entry', 'qihu'], ['tesco', 'sell', 'half', 'stake', 'ecommerce', 'site', 'lazada', 'alibaba'], ['qcor', 'little', 'pullback', 'fine', 'erase', 'todays', 'gain', 'believe', 'manipulation', 'capable'], ['barclays', 'sell', 'benchmark', 'indices', 'unit', 'bloomberg'], ['tnh', 'look', 'like', 'explosive', 'setup', 'break', 'ema', 'level', 'http', 'stks', 'svh'], ['astrazeneca', 'patent', 'asthma', 'drug', 'invalidate', 'court'], ['kgc', 'http', 'stks', 'qta', 'oversold', 'fall', 'wedge', 'positive', 'divergence', 'place', 'launch', 'pad', 'look', 'bounce'], ['irish', 'housebuilder', 'cairn', 'home', 'plan', 'london', 'list'], ['aapl', 'http', 'stks', 'ldx', 'clear', 'descend', 'trend', 'line', 'buy', 'area'], ['slv', 'pos', 'say', 'years', 'go', 'lower', 'forget', 'short'], ['morrisons', 'debenhams', 'surprise', 'city', 'christmas', 'bounce'], ['barclays', 'bank', 'america', 'citigroup', 'blockchain', 'sight'], ['hal', 'bull', 'lucky', 'enuff', 'upside', 'gap', 'better', 'wouldn', 'chase', 'http', 'stks'], ['rsol', 'buy', 'share', 'today'], ['ftse', 'fall', 'china', 'devaluation', 'hit', 'burberry', 'mine', 'stock'], ['johnson', 'matthey', 'share', 'price', 'slump', 'company', 'post', 'year', 'result'], ['slowly', 'add', 'fio', 'gotta', 'careful', 'biggest', 'winners'], ['rd', 'red', 'day', 'row', 'tsla'], ['long', 'gpro', 'brealout', 'trade'], ['aapl', 'beat', 'estimate', 'lack', 'new', 'products', 'https', 'sx'], ['johnson', 'matthey', 'raise', 'prospect', 'investor', 'payout'], ['lloyds', 'cut', 'job', 'year', 'restructure', 'strategy'], ['uk', 'winners', 'losers', 'aviva', 'friends', 'life', 'lead', 'ftse', 'gainers'], ['whats', 'lulu', 'number', 'look', 'good', 'great', 'good', 'think', 'conference', 'instill', 'confidence'], ['tesla', 'motor', 'recall', 'model', 'suvs', 'https', 'bfws', 'dbm', 'tsla'], ['ouch', 'look', 'like', 'tsla', 'short', 'get', 'skin'], ['glaxosmithkline', 'target', 'growth', 'units', 'scrap', 'viiv', 'ipo'], ['spain', 'caixabank', 'launch', 'new', 'takeover', 'bid', 'banco', 'bpi'], ['ch_roark', 'unxl', 'like', 'ascend', 'triangle', 'minute', 'chart', 'breakout', 'come', 'monday', 'http', 'stks', 'glooks', 'promise'], ['bbry', 'bye', 'bye', 'sammy', 'hello', 'bb', 'sound', 'like', 'll', 'green', 'tomorrow'], ['tsla', 'recall', 'model', 'cars', 'stock', 'drop', 'hard'], ['deutsche', 'bank', 'cut', 'sbux'], ['tesla', 'recall', 'model', 'units', 'relate', 'faulty', 'latch', 'row', 'seat', 'fall', 'level', 'recall', 'share', 'tsla'], ['enb', 'ca', 'head', 'shoulder', 'bullish', 'reversal', 'setup', 'breakout', 'oil', 'gas', 'pipleline', 'stock', 'uso'], ['endp', 'sue', 'ftc', 'buy', 'hang', 'head'], ['britain', 'ftse', 'forge', 'ahead', 'shire', 'surge'], ['spy', 'pride', 'social', 'media', 'gettin', 'ready', 'fall', 'fb', 'chart', 'roll'], ['whitbread', 'buy', 'stake', 'pure', 'food', 'chain'], ['short', 'increase', 'http', 'stks', 'ryandetrick', 'spy'], ['brief', 'legal', 'general', 'retirement', 'business', 'book', 'billion', 'stg', 'sales'], ['fb', 'bot', 'breakout', 'consolidation', 'zone'], ['free', 'ha', 'heeeeeere', 'come', 'pump', 'glad', 'pick', 'end', 'day', 'ready', 'bull', 'ride'], ['nvda', 'sideways'], ['aapl', 'dma', 'turn', 'macd', 'crossover', 'half', 'hair', 'away', 'weekly', 'eod', 'break', 'likely'], ['arm', 'hold', 'plc', 'partner', 'international', 'business', 'machine', 'corp', 'drive'], ['berkshire', 'disclose', 'unit', 'tie', 'iran', 'open', 'probe'], ['ftse', 'lead', 'lower', 'glaxosmithkline'], ['look', 'amzn'], ['smh', 'get', 'sell', 'signal', 'need', 'higher', 'head', 'lower', 'gap'], ['ilmn', 'piper', 'jeffries', 'raise', 'pt', 'remain', 'long'], ['ab', 'inbev', 'offer', 'sabmiller', 'billion', 'breakup', 'fee'], ['heat', 'yahoo', 'yhoo', 'wall', 'street', 'journal', 'https', 'jvji', 'bia'], ['luv', 'continue', 'consolidate', 'previous', 'break', 'area'], ['rt', 'stockdemons', 'think', 'short', 'close', 'play', 'spy', 'high', 'beta', 'reverse', 'look', 'worth', 'shoot'], ['france', 'raise', 'concern', 'propose', 'lse', 'deutsche', 'boerse', 'deal'], ['bbry', 'hear', 'rumour', 'major', 'joint', 'venture', 'announcement'], ['aapl', 'long'], ['osur', 'buy', 'signal', 'resistance', 'expect', 'pullback', 'nd', 'half', 'day', 'break', 'abov', 'continue', 'rally', 'days'], ['lscc', 'accumulation', 'chart', 'continue', 'new', 'highs', 'show', 'accumulation', 'continue', 'place', 'http', 'stks', 'adpo'], ['dcth', 'near', 'hod'], ['lnkd', 'daily', 'phase', 'retest', 'price', 'experience', 'early', 'rejection', 'retest', 'http', 'stks', 'xx'], ['ab', 'inbev', 'sell', 'sabmiller', 'stake', 'china', 'snow', 'beer'], ['facebook', 'user', 'engagement', 'fall', 'https', 'tqmmt', 'fb', 'https', 'sedqrwgdkt'], ['aapl', 'aapl', 'finally', 'break', 'buybacks', 'week', 'look', 'aapl', 'test', 'support', 'area'], ['walter', 'investment', 'management', 'corp', 'receive', 'sell', 'compass', 'point', 'wac', 'http', 'stks', 'ivx'], ['spy', 'hang', 'bull', 'hat', 'week', 'pop', 'higher', 'qe', 'hope', 'feed', 'day', 'meet'], ['eli', 'lilly', 'lly', 'break', 'new', 'high', 'astrazeneca', 'collaboration'], ['isrg', 'isrg', 'short', 'http', 'stks', 'vvu', 'http', 'stks', 'qrm'], ['recap', 'msft', 'rumor', 'morning', 'spin', 'xbox', 'unit', 'stock', 'grind', 'day', 'close', 'highs'], ['hsc', 'receive', 'year', 'contract', 'new', 'saudi', 'arabian', 'steel'], ['sbux', 'pm', 'db', 'downgrade', 'pt', 'cut'], ['pcln', 'trendline'], ['rec_zakaria', 'monday', 'bull', 'stock', 'ticker', 'michael', 'jam', 'ent', 'pick', 'sbux', 'gvp', 'nke'], ['synergy', 'pharma', 'soar', 'today', 'positive', 'phase', 'result', 'sgyp', 'http', 'stks', 'awg'], ['ino', 'away'], ['bilfinger', 'industrial', 'service', 'win', 'bp', 'contract', 'extension'], ['aberdeen', 'asset', 'management', 'gain', 'foothold', 'china'], ['update', 'meggitt', 'reiterate', 'annual', 'outlook', 'tough'], ['goog', 'test', 'day', 'consolidation', 'http', 'stks', 'cpj'], ['saudi', 'aramco', 'shell', 'plan', 'break', 'motiva', 'divide', 'assets'], ['whitbread', 'profit', 'sales', 'continue', 'rise', 'look', 'new', 'ceo'], ['intu', 'process', 'streamline', 'structure', 'especially', 'divestment', 'non', 'core', 'businesses', 'https', 'dr', 'banun'], ['update', 'barclays', 'chairman', 'mcfarlane', 'ax', 'ceo', 'speed', 'strategic', 'change'], ['fb', 'shift', 'minute', 'suspect', 'highs'], ['eu', 'drop', 'shell', 'bp', 'statoil', 'ethanol', 'benchmark', 'investigation'], ['stx', 'long', 'play', 'consistent', 'profit', 'zone', 'check', 'https', 'dqfuzozylh', 'https', 'ggne', 'ayzqn'], ['chrm', 'loooooongggggg', 'base'], ['adobe', 'receive', 'new', 'rat', 'analyst', 'adbe', 'https', 'ljnxpevhzn'], ['bone', 'earn', 'stock', 'poise', 'pop', 'http', 'stks', 'zwe'], ['nflx', 'tsla', 'make', 'kinds', 'gain'], ['cien', 'http', 'stks', 'dzu', 'cien', 'break', 'major', 'horizontal', 'resistance', 'target'], ['shell', 'buy', 'bg', 'group', 'billion', 'takeover'], ['sell', 'tza', 'hedge', 'let', 'call', 'ride', 'solo'], ['espn', 'file', 'lawsuit', 'verizon', 'http', 'stks', 'cj', 'vz'], ['ssys', 'test', 'low', 'rise', 'steadily', 'hit', 'trade', 'days', 'ago', 'sept', 'll'], ['mugatushair', 'time', 'short', 'tsla'], ['wfm', 'buy', 'little', 'yesterday', 'hop', 'earn', 'pop'], ['rt', 'andrewnyquist', 'chartology', 'yahoo', 'http', 'stks', 'itr', 'yhoo', 'crazy', 'look', 'chart', 'near', 'breakout', 'resistance', 'line'], ['tsla', 'lot', 'green', 'min', 'watch', 'hourly', 'possible', 'resistance', 'currently'], ['standard', 'charter', 'lag', 'capital', 'worry'], ['petrofac', 'share', 'price', 'rise', 'despite', 'cost', 'north', 'sea', 'project'], ['megaas', 'aapl', 'mcdonalds', 'big', 'grow', 'success', 'years', 'bigmac', 'apple', 'update', 'improbe', 'iphone', 'ipad'], ['tsla', 'recall'], ['apple', 'february', 'low', 'little', 'fanfare', 'aapl'], ['brcm', 'raise', 'revenue', 'forecast'], ['astrazeneca', 'win', 'fda', 'approval', 'key', 'new', 'lung', 'cancer', 'pill'], ['companiestravis', 'perkins', 'lift', 'dividend', 'earn', 'rise'], ['supermarket', 'stock', 'rally', 'tesco', 'plan', 'axe', 'non', 'core', 'uk', 'assets', 'tsco', 'https', 'bmvhcrwrea'], ['fda', 'approve', 'astrazeneca', 'drug', 'advance', 'lung', 'cancer'], ['roll', 'royce', 'ensure', 'compliance', 'petrobras', 'bribery', 'report'], ['amazon', 'declare', 'best', 'black', 'friday', 'cyber', 'monday', 'kindle', 'family', 'http', 'stks', 'cetw', 'engadget', 'amzn'], ['best', 'analyst', 'rat', 'stock', 'hrs', 'orcl', 'aapl', 'cbs', 'ino', 'cpxx', 'view', 'rat', 'https', 'irid', 'zd', 'gc'], ['aapl', 'pivot', 'area', 'intraday', 'chart', 'break', 'send', 'day', 'sma', 'http', 'stks', 'jpbn'], ['hotels', 'deny', 'report', 'starwood', 'merger', 'talk'], ['tesco', 'lead', 'ftse', 'higher', 'clubcard', 'bid', 'report'], ['update', 'bp', 'shareholders', 'disclosure', 'climate', 'change', 'risk'], ['dbs', 'julius', 'baer', 'emerge', 'potential', 'bidders', 'barclays', 'asia', 'wealth', 'unit'], ['bbry', 'sierra', 'great', 'cash', 'balance', 'impressive', 'growth', 'rate', 'wonderful', 'marriage'], ['buffett', 'berkshire', 'build', 'deere', 'stake', 'dump', 'exxon'], ['mpwr', 'ceo', 'sell', 'april', 'th', 'meh'], ['spain', 'caixabank', 'expect', 'close', 'deal', 'banco', 'bpi'], ['end', 'day', 'scan', 'stochastic', 'overbought', 'jdst', 'free', 'blrx', 'lpg', 'afsi', 'dvax', 'hdge', 'aht', 'alr', 'asmb', 'www', 'dailystockplays', 'com'], ['investors', 'remain', 'skeptical', 'shell', 'bg', 'deal'], ['barclays', 'bond', 'rise', 'lender', 'cut', 'dividends', 'shore', 'capital'], ['expect', 'spy', 'close', 'aapl'], ['rt', 'tomhend', 'mu', 'need', 'hold', 'break', 'need', 'big', 'flush', 'technically', 'oversold', 'big', 'bounce']]\n"
     ]
    }
   ],
   "source": [
    "print(processed)"
   ]
  },
  {
   "cell_type": "code",
   "execution_count": null,
   "id": "83026992",
   "metadata": {},
   "outputs": [],
   "source": []
  }
 ],
 "metadata": {
  "kernelspec": {
   "display_name": "data_analytics",
   "language": "python",
   "name": "data_analytics"
  },
  "language_info": {
   "codemirror_mode": {
    "name": "ipython",
    "version": 3
   },
   "file_extension": ".py",
   "mimetype": "text/x-python",
   "name": "python",
   "nbconvert_exporter": "python",
   "pygments_lexer": "ipython3",
   "version": "3.9.16"
  }
 },
 "nbformat": 4,
 "nbformat_minor": 5
}
