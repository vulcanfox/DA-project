{
 "cells": [
  {
   "cell_type": "markdown",
   "id": "0bdef17b",
   "metadata": {},
   "source": [
    "# Data analytics coursework "
   ]
  },
  {
   "cell_type": "code",
   "execution_count": 2,
   "id": "d4c81566",
   "metadata": {},
   "outputs": [
    {
     "name": "stderr",
     "output_type": "stream",
     "text": [
      "[nltk_data] Downloading package punkt to\n",
      "[nltk_data]     C:\\Users\\adnan\\AppData\\Roaming\\nltk_data...\n",
      "[nltk_data]   Package punkt is already up-to-date!\n",
      "[nltk_data] Downloading package wordnet to\n",
      "[nltk_data]     C:\\Users\\adnan\\AppData\\Roaming\\nltk_data...\n",
      "[nltk_data]   Package wordnet is already up-to-date!\n",
      "[nltk_data] Downloading package vader_lexicon to\n",
      "[nltk_data]     C:\\Users\\adnan\\AppData\\Roaming\\nltk_data...\n",
      "[nltk_data]   Package vader_lexicon is already up-to-date!\n"
     ]
    }
   ],
   "source": [
    "%load_ext autoreload\n",
    "%autoreload 2\n",
    "\n",
    "# Use HuggingFace's datasets library to access the financial_phrasebank dataset\n",
    "from datasets import load_dataset\n",
    "from sklearn.linear_model import LogisticRegression\n",
    "from sklearn.metrics import classification_report\n",
    "import numpy as np\n",
    "from scipy.sparse import hstack\n",
    "import nltk as nltk\n",
    "from nltk import word_tokenize          \n",
    "from nltk.stem import WordNetLemmatizer \n",
    "from sklearn.feature_extraction.text import CountVectorizer\n",
    "nltk.download('punkt')\n",
    "nltk.download('wordnet')\n",
    "nltk.download('vader_lexicon')\n",
    "from nltk.sentiment.vader import SentimentIntensityAnalyzer"
   ]
  },
  {
   "cell_type": "code",
   "execution_count": 3,
   "id": "e3db0913",
   "metadata": {},
   "outputs": [],
   "source": [
    "train_files = [\n",
    "    'data/FiQA_ABSA_task1/task1_headline_ABSA_train.json',\n",
    "    'data/FiQA_ABSA_task1/task1_post_ABSA_train.json'\n",
    "]"
   ]
  },
  {
   "cell_type": "code",
   "execution_count": 4,
   "id": "29bb0c35",
   "metadata": {},
   "outputs": [
    {
     "name": "stdout",
     "output_type": "stream",
     "text": [
      "Number of instances: 1111\n",
      "Number of labels: 1111\n",
      "Number of negative labels: 310\n",
      "Number of neutral labels: 195\n",
      "Number of positive labels: 606\n"
     ]
    }
   ],
   "source": [
    "## Loading data from JSON\n",
    "import json\n",
    "\n",
    "def load_fiqa_sa_from_json(json_files):\n",
    "    train_text = []\n",
    "    train_labels = []\n",
    "\n",
    "    for file in json_files:\n",
    "        with open(file, 'r', encoding='UTF-8') as handle:\n",
    "            dataf = json.load(handle)\n",
    "\n",
    "        dataf_text = [dataf[k][\"sentence\"] for k in dataf.keys()]\n",
    "        # print(len(dataf_text))\n",
    "        train_text.extend(dataf_text)\n",
    "\n",
    "        dataf_labels = [float(dataf[k][\"info\"][0][\"sentiment_score\"]) for k in dataf.keys()]\n",
    "        # print(len(dataf_labels))\n",
    "        train_labels.extend(dataf_labels)\n",
    "\n",
    "    train_text = np.array(train_text)\n",
    "    train_labels = np.array(train_labels)\n",
    "    \n",
    "    return train_text, train_labels\n",
    "\n",
    "\n",
    "def threshold_scores(scores):\n",
    "    \"\"\"\n",
    "    Convert sentiment scores to discrete labels.\n",
    "    0 = negative.\n",
    "    1 = neutral.\n",
    "    2 = positive.\n",
    "    \"\"\"\n",
    "    labels = []\n",
    "    for score in scores:\n",
    "        if score < -0.2:\n",
    "            labels.append(0)\n",
    "        elif score > 0.2:\n",
    "            labels.append(2)\n",
    "        else:\n",
    "            labels.append(1)\n",
    "            \n",
    "    return np.array(labels)\n",
    "\n",
    "\n",
    "all_text, all_labels = load_fiqa_sa_from_json(train_files)\n",
    "    \n",
    "print(f'Number of instances: {len(all_text)}')\n",
    "print(f'Number of labels: {len(all_labels)}')\n",
    "\n",
    "all_labels = threshold_scores(all_labels)\n",
    "print(f'Number of negative labels: {np.sum(all_labels==0)}')\n",
    "print(f'Number of neutral labels: {np.sum(all_labels==1)}')\n",
    "print(f'Number of positive labels: {np.sum(all_labels==2)}')"
   ]
  },
  {
   "cell_type": "code",
   "execution_count": 5,
   "id": "1e5f008f",
   "metadata": {},
   "outputs": [
    {
     "name": "stdout",
     "output_type": "stream",
     "text": [
      "Number of training instances = 754\n",
      "Number of validation instances = 134\n",
      "Number of test instances = 223\n"
     ]
    }
   ],
   "source": [
    "from sklearn.model_selection import train_test_split\n",
    "\n",
    "# Split test data from training data\n",
    "train_documents, test_documents, train_labels, test_labels = train_test_split(\n",
    "    all_text, \n",
    "    all_labels, \n",
    "    test_size=0.2, \n",
    "    stratify=all_labels  # make sure the same proportion of labels is in the test set and training set\n",
    ")\n",
    "\n",
    "# Split validation data from training data\n",
    "train_documents, val_documents, train_labels, val_labels = train_test_split(\n",
    "    train_documents, \n",
    "    train_labels, \n",
    "    test_size=0.15, \n",
    "    stratify=train_labels  # make sure the same proportion of labels is in the test set and training set\n",
    ")\n",
    "\n",
    "print(f'Number of training instances = {len(train_documents)}')\n",
    "print(f'Number of validation instances = {len(val_documents)}')\n",
    "print(f'Number of test instances = {len(test_documents)}')\n"
   ]
  },
  {
   "cell_type": "code",
   "execution_count": 6,
   "id": "f759bcb3",
   "metadata": {},
   "outputs": [
    {
     "name": "stdout",
     "output_type": "stream",
     "text": [
      "What does one instance look like from the training set? \n",
      "\n",
      "Kingfisher takeover of Mr Bricolage could hit a brick wall\n",
      "...and here is its corresponding label \n",
      "\n",
      "0\n"
     ]
    }
   ],
   "source": [
    "print(f'What does one instance look like from the training set? \\n\\n{train_documents[234]}')\n",
    "print(f'...and here is its corresponding label \\n\\n{train_labels[234]}')"
   ]
  },
  {
   "cell_type": "markdown",
   "id": "7a8bfb43",
   "metadata": {},
   "source": [
    "# Preprocessing using Lemmatization"
   ]
  },
  {
   "cell_type": "markdown",
   "id": "422fe568",
   "metadata": {},
   "source": [
    "We create a lemmatizer token that reduces words to their root forms. This reduces the vocabulary size.\n"
   ]
  },
  {
   "cell_type": "code",
   "execution_count": 7,
   "id": "e7aa7a95",
   "metadata": {},
   "outputs": [],
   "source": [
    "class LemmaTokenizer(object):\n",
    "    \n",
    "    def __init__(self):\n",
    "        self.wnl = WordNetLemmatizer()\n",
    "        \n",
    "    def __call__(self, tweets):\n",
    "        return [self.wnl.lemmatize(self.wnl.lemmatize(self.wnl.lemmatize(tok, pos='n'), pos='v'), pos='a') for tok in word_tokenize(tweets)]\n",
    "    "
   ]
  },
  {
   "cell_type": "markdown",
   "id": "f7932f42",
   "metadata": {},
   "source": [
    "# Using bi-grams + unigrams as feature"
   ]
  },
  {
   "cell_type": "code",
   "execution_count": 51,
   "id": "eff5b79a",
   "metadata": {},
   "outputs": [
    {
     "name": "stderr",
     "output_type": "stream",
     "text": [
      "C:\\Users\\adnan\\anaconda3\\envs\\data_analytics\\lib\\site-packages\\sklearn\\feature_extraction\\text.py:516: UserWarning: The parameter 'token_pattern' will not be used since 'tokenizer' is not None'\n",
      "  warnings.warn(\n"
     ]
    },
    {
     "name": "stdout",
     "output_type": "stream",
     "text": [
      "['$', 'amzn', 'reject', 'that', '604', 'to', 'the', 'penny', '.', 'weak', 'open', 'and', 'it', 'go', 'r/g', 'within', 'first', '30', 'min', ',']\n"
     ]
    }
   ],
   "source": [
    "vectorizer = CountVectorizer(tokenizer=LemmaTokenizer(), ngram_range=(1,2))\n",
    "vectorizer.fit(train_documents)\n",
    "X_train = vectorizer.transform(train_documents)\n",
    "X_val = vectorizer.transform(val_documents)\n",
    "X_test_documents = vectorizer.transform(test_documents)\n",
    "# Print out some of the features in the vocabulary:\n",
    "print(list(vectorizer.vocabulary_)[:20])"
   ]
  },
  {
   "cell_type": "code",
   "execution_count": 52,
   "id": "978adde5",
   "metadata": {},
   "outputs": [
    {
     "name": "stdout",
     "output_type": "stream",
     "text": [
      "Vocabulary size: 11282\n"
     ]
    }
   ],
   "source": [
    "print(f'Vocabulary size: {len(vectorizer.vocabulary_)}')\n",
    "vocabulary = vectorizer.vocabulary_"
   ]
  },
  {
   "cell_type": "markdown",
   "id": "ded1bed2",
   "metadata": {},
   "source": [
    "## Fitting to model"
   ]
  },
  {
   "cell_type": "code",
   "execution_count": 53,
   "id": "bf44eb6d",
   "metadata": {},
   "outputs": [
    {
     "name": "stdout",
     "output_type": "stream",
     "text": [
      "              precision    recall  f1-score   support\n",
      "\n",
      "           0       0.65      0.54      0.59        37\n",
      "           1       1.00      0.12      0.22        24\n",
      "           2       0.68      0.93      0.79        73\n",
      "\n",
      "    accuracy                           0.68       134\n",
      "   macro avg       0.78      0.53      0.53       134\n",
      "weighted avg       0.73      0.68      0.63       134\n",
      "\n"
     ]
    }
   ],
   "source": [
    "classifier = LogisticRegression()\n",
    "classifier.fit(X_train, train_labels)\n",
    "y_test_pred = classifier.predict(X_val)\n",
    "print(classification_report(val_labels, y_test_pred))"
   ]
  },
  {
   "cell_type": "markdown",
   "id": "955668c0",
   "metadata": {},
   "source": [
    "# Using POS-NEG lexicon features"
   ]
  },
  {
   "cell_type": "code",
   "execution_count": 54,
   "id": "d3e4c148",
   "metadata": {},
   "outputs": [],
   "source": [
    "\n",
    "analyser = SentimentIntensityAnalyzer()"
   ]
  },
  {
   "cell_type": "code",
   "execution_count": 55,
   "id": "838753f1",
   "metadata": {},
   "outputs": [],
   "source": [
    "vocabulary = vectorizer.vocabulary_\n",
    "\n",
    "lex_pos_scores = np.zeros((1, len(vocabulary)))\n",
    "lex_neg_scores = np.zeros((1, len(vocabulary)))\n",
    "\n",
    "for i, term in enumerate(vocabulary):\n",
    "    if term in analyser.lexicon and analyser.lexicon[term] > 0:\n",
    "        lex_pos_scores[0, i] = 1\n",
    "    elif term in analyser.lexicon and analyser.lexicon[term] < 0:\n",
    "        lex_neg_scores[0, i] = 1"
   ]
  },
  {
   "cell_type": "code",
   "execution_count": 56,
   "id": "d0b7078a",
   "metadata": {},
   "outputs": [],
   "source": [
    "# This enables u to get the total positive and total negative counts for each set:\n",
    "lex_pos_train = np.sum(X_train.multiply(lex_pos_scores), axis=1)\n",
    "lex_pos_val = np.sum(X_val.multiply(lex_pos_scores), axis=1)\n",
    "lex_pos_test = np.sum(X_test_documents.multiply(lex_pos_scores), axis=1)\n",
    "\n",
    "lex_neg_train = np.sum(X_train.multiply(lex_neg_scores), axis=1)\n",
    "lex_neg_val = np.sum(X_val.multiply(lex_neg_scores), axis=1)\n",
    "\n",
    "lex_neg_test = np.sum(X_test_documents.multiply(lex_neg_scores), axis=1)"
   ]
  },
  {
   "cell_type": "code",
   "execution_count": 58,
   "id": "a7f1ff75",
   "metadata": {},
   "outputs": [],
   "source": [
    "X_train = hstack((X_train, lex_pos_train, lex_neg_train))\n",
    "X_val = hstack((X_val, lex_pos_val, lex_neg_val))\n",
    "X_test_documents = hstack((X_test_documents, lex_pos_test, lex_neg_test))"
   ]
  },
  {
   "cell_type": "markdown",
   "id": "79970dc2",
   "metadata": {},
   "source": [
    "## refitting model"
   ]
  },
  {
   "cell_type": "code",
   "execution_count": 15,
   "id": "fb1b3bb8",
   "metadata": {},
   "outputs": [
    {
     "name": "stdout",
     "output_type": "stream",
     "text": [
      "              precision    recall  f1-score   support\n",
      "\n",
      "           0       0.65      0.54      0.59        37\n",
      "           1       1.00      0.12      0.22        24\n",
      "           2       0.67      0.92      0.77        73\n",
      "\n",
      "    accuracy                           0.67       134\n",
      "   macro avg       0.77      0.53      0.53       134\n",
      "weighted avg       0.72      0.67      0.62       134\n",
      "\n"
     ]
    }
   ],
   "source": [
    "\n",
    "classifier = LogisticRegression()\n",
    "classifier.fit(X_train, train_labels)\n",
    "y_test_pred = classifier.predict(X_val)\n",
    "# Checking performance\n",
    "print(classification_report(val_labels, y_test_pred))"
   ]
  },
  {
   "cell_type": "code",
   "execution_count": 16,
   "id": "e8a26005",
   "metadata": {},
   "outputs": [
    {
     "name": "stdout",
     "output_type": "stream",
     "text": [
      "Tweet: $LULU #Outlook #Q1 2013 #lost revenue in the range of $12 million to $17 million -not good; true label = 0, prediction = 2.\n",
      "Tweet: RBS chairman admits surprise at size of regulatory penalties; true label = 0, prediction = 2.\n",
      "Tweet: Merged LSE and Deutsche BÃ¶rse would be led by Germany's Kengeter; true label = 1, prediction = 2.\n",
      "Tweet: Tesco's Sales Pickup Isn't Enough; true label = 0, prediction = 2.\n",
      "Tweet: $MA http://stks.co/1CYN continues to consolidate / base here; true label = 1, prediction = 2.\n",
      "Tweet: Aviva shuts Friends Life head office in rapid integration move; true label = 1, prediction = 2.\n",
      "Tweet: Shell offers 50 percent premium to buy BG for $70 billion; true label = 1, prediction = 2.\n",
      "Tweet: $ATHN Seems like a good short setup. Stop above the 50 day. No position.; true label = 0, prediction = 2.\n",
      "Tweet: $KIOR My god. Market getting crushed today. Gotta hold if anything g should recover some tomorrow I imagine.; true label = 0, prediction = 2.\n",
      "Tweet: $INTC finally some nice downside move... looking for the 31 handle to break; true label = 0, prediction = 2.\n"
     ]
    }
   ],
   "source": [
    "# Key part is investigating the errors, so let's do that:\n",
    "error_indexes = y_test_pred != val_labels  # compare predictions to gold labels\n",
    "\n",
    "# get the text of tweets where the classifier made an error:\n",
    "tweets_err = np.array(val_documents)[error_indexes]\n",
    "\n",
    "# WRITE YOUR CODE HERE\n",
    "pred_err = y_test_pred[error_indexes]\n",
    "gold_err = np.array(val_labels)[error_indexes]\n",
    "\n",
    "for i in range(10):  # just print the first ten\n",
    "    print(f'Tweet: {tweets_err[i]}; true label = {gold_err[i]}, prediction = {pred_err[i]}.')"
   ]
  },
  {
   "cell_type": "markdown",
   "id": "6ff87b60",
   "metadata": {},
   "source": [
    "### Performance on test set"
   ]
  },
  {
   "cell_type": "code",
   "execution_count": 21,
   "id": "36b7100d",
   "metadata": {},
   "outputs": [
    {
     "ename": "ValueError",
     "evalue": "Expected 2D array, got 1D array instead:\narray=['$FB turns back down in early trading.... https://t.co/reuf5PzhBm'\n 'Whitbread buys 49% stake in Pure food chain'\n \"Are ARM Holdings plc, Domino's Pizza Group plc and ASOS plc 3 must-have growth stocks?\"\n 'CompaniesUnilever sales lifted by ice cream in soft economy'\n 'Shell to buy BG Group in $69.7 billion takeover'\n 'Industry NewsMorrisons unveils which stores will close as 900 jobs face the axe'\n '$BBRY nice bounce'\n '$SBUX inverted head & shoulders pattern in the works. bullish.'\n 'Apple expected to launch new iPhone, iPad today $AAPL https://t.co/XfnICWeBeG'\n 'Still short $LNG from $11.70 area...next stop could be down through $9.00. Someone slammed it hard with 230,000 shs this am! More to follow'\n 'Infection worries prompt regulatory reviews of Gilead leukaemia drug $GILD https://t.co/H9vqXpZ15G via @YahooFinance'\n 'Timberrrr $TSLA https://t.co/MRBgfDHHVa' '$CHRM Loooooongggggg base'\n 'Shire CEO steps up drive to get Baxalta board talking'\n '$AMD big dumping... would not touch it for a while'\n \"$BIOC RSI extremely in long's favor looking at BIOC historically.\"\n '$AMZN new HOD with conviction keeping $570 on watch for Resistance.'\n 'GlaxoSmithKline set to complete $20 billion Novartis asset swap next week'\n '$RNN More bleeding Monday.'\n 'Added more $BBBY @jimcramer is wrong about this one. Still a very profitable merchant with profitable stores'\n \"Mylan Appoints Ranjan Ray Chaudhuri as Global Commercial Lead for Mylan's Over ...\"\n \"$DGI technical alerts: Gilligan's Island Buy Setup, Stochastic Buy Signal, Lizard Bullish, Hammer Candlestick, Wid... http://stks.co/c29Nu\"\n '@harmongreg: $BBRY wkly, Inverse Head and Shoulders forming, triggers over 18.50, PO at least 30.80, watching http://stks.co/iPVJ'\n 'Most bullish stocks on Twitter during this dip. $YHOO $GDX $GOOGL $STZ $GOLD $EW $VZ $CELG $SBUX $SCTY more: https://t.co/iuZJelfwt3'\n 'longed $AMZN 300 @ 189.82'\n \"Daily Mail parent company in talks with potential partners about joint bid for Yahoo's internet assets: https://t.co/mK7MEMtADT $YHOO\"\n '$DMND green and moving'\n '$BRK.B $SPY  All time high tomorrow? 150k on the A shares, Dec 13, 2007.'\n 'easyJet expects resilient demand to withstand security fears'\n 'Adobe Receives New Rating from Top Analyst $ADBE https://t.co/LJNXPEvHZN'\n 'I am not optimistic about $amzn both fundementals and charts look like poopoo this quarter.'\n 'Glencore sees Tripoli-based NOC as sole legal seller of Libyan oil'\n 'energy still failing to close above the 10D MA.  continues to stand out weak $XLE'\n 'Tesco leads FTSE higher on Clubcard bid reports'\n '$ISRG Break out confirmed. Bought Leaps. Good trading!'\n \"$FB trend, hits mid 110's and drops\"\n 'Royal Mail share price rallies amid positive broker comments'\n \"Japan's Nikkei lands Financial Times in $1.3 billion deal\"\n '$YANG Double bottom 5.2'\n 'Kingfisher share price slides on cost to implement new strategy'\n 'Facebook $FB received a Buy rating from Wells Fargo 5-star Analyst Peter Stabler (Wells Fargo) https://t.co/jnB4c9vdCu'\n 'FDA approves AstraZeneca drug for advanced lung cancer'\n 'BP joins forces with Det Norske in Norway'\n 'Are Aviva plc, Direct Line Insurance Group PLC And Admiral Group plc Set To Soar?'\n '$GTE LONG at 7.44' 'Verizon and AT&T accused of hurting rivals'\n 'Rolls-Royce to Ensure Compliance After Petrobras Bribery Report'\n '$LINE biggies must be loading up here at lows..'\n 'AstraZeneca suffers setback after drug fails to treat eye cancer'\n '$TROW Ascending triangle gives a bullish bias to this chart. Breakout above 84 will be positive http://stks.co/g0ls5'\n 'Shell share price: Standard Life announce position against BG acquisition'\n \"$ROST Nov 90 calls 2.08 .. Go Long until exp imo ! Unless europeans keeps F'ing around !\"\n '$FB trending nicely, intraday.'\n \"It's a bad idea to make 5 min predictions based on faith: RT @dandyduct $AAPL Sell signal hit at 584, it will go down for the next 5 min\"\n '5 Best Analyst Rated Stocks in Last 72hrs: $ORCL $AAPL $CBS $INO $CPXX View all ratings here: https://t.co/IRID6zd5gc'\n 'News FeedFTSE 100 movers: LSE surges as ICE says mulling offer; Ashtead and Barclays tank'\n 'Imperial Tobacco Adds Quarterly Dividends After Profit Rose'\n 'UPDATE 1-AstraZeneca sells rare cancer drug to Sanofi for up to $300 mln'\n 'UPDATE: Barclays Expects Gain After Settling With Lehman Bros Trustee'\n 'Saudi Aramco, Shell plan to break up Motiva, divide up assets'\n '$SMH got a sell signal on 6/4 and needs to take out 39.28 to go higher otherwise headed lower than 37.60 gap below at 35.38'\n '$FB  rejecting HIGHS shortable...at 109'\n '@louiebeene vwap is 1.63, held the trend line. Should be on a LOT of radars. $NAVB'\n 'ICE Said to Start Lining Up Financing for LSE Bidding War'\n '#Tesla Model S deliveries are up 35% in Germany - record deliveries in March [Chart] https://t.co/yCnClcBImV  $TSLA'\n 'Google, Inc. completes acquisition of ICOA, Inc. http://stks.co/nFEI $ICOA $GOOG'\n '$FREE Ha Heeeeeere comes the pump! So glad I picked up 9K end of day! Get ready for the bull ride!'\n '$BOBE down $2.84  premarket'\n '$SPY Less than 0.2% down and people are calling it bearish. Some heading for exits already. Maybe 1% down will be \"the crash\"? Disturbing!'\n 'MT @TheAcsMan Amazing seeing everyone suddenly touting $MSFT. Long been favorite covered call & double dip dividend play.'\n 'Goodwin not to face Scottish prosecution over RBS'\n \"RBS Pays $1.7 Billion to Scrap U.K. Treasury's Dividend Rights\"\n 'Isolationism? Another Sell Rating, Sell Ratings On SPY, QQQ, IWM And Several Companies https://t.co/j35FNnx744 $AAPL #APPLE $AXP $BAC'\n 'AstraZeneca profit down as sales of stalwarts fade'\n '$renn topping tail 5 min. chart at 7.31 short from here.'\n \"$aapl key is to breakout above 460 on solid volume or else it's a no trade for now\"\n 'Yahoo stock is up to $36.46 as the bidding war picks up for the company https://t.co/JDNZXDCMkl $YHOO https://t.co/HmOegfHgvn'\n 'Tesco share price jumps as Q3 sales top estimates'\n '$TNH Looks like an explosive setup if it can break the 20EMA and 105 level http://stks.co/b1SVH'\n \"Britain's FTSE falls back with Ashtead, commodities under pressure\"\n \"Can Christmas Save Sainsbury's plc And Tesco plc?\"\n '$INO Up, up, and away!'\n '2 Turnaround Buys For 2016? BHP Billiton plc And Home Retail Group Plc'\n 'Tesla to recall 2,700 Model X SUVs over seat issue https://t.co/OdPraN59Xq $TSLA https://t.co/xvn4blIwpy https://t.co/ThfvWTnRPs'\n '$AAPL - Has broken its downtrend - but 200DMA proving to be stiff resistance short term. https://t.co/VlzlgvIHZV'\n 'ARM Royalties Accelerate as Smartphone Market Regains Strength'\n '$RNN day traders flushed out, it should start going up slowly from now on .'\n '@SOULLOR the regular scrappy Q $SWY usually presents. Sales weak, margins down, debt still way up.'\n 'Held its recent double bottom buy point of 56.57 almost to the penny today $WMT http://chart.ly/6nosp5q'\n '$AAPL broke descending channel....will it hold?'\n 'CompaniesHoward Davies appointment as RBS director delayed'\n '$NFLX +1% $104.80 LONG streaming services rapidly outpacing traditional cable'\n 'Microsoft joins the open-source Eclipse Foundation https://t.co/z8G5cZaKeU focus on collaboration & open business is a smart strategy! $MSFT'\n \"Lloyds Banking Group's share price lifts amid reports bank is poised to axe hundreds of UK jobs\"\n \"$FB churning in high volume @ IPO price. Lot's of sellers trying to get out. Might take a while here to consolidate before moving higher.\"\n 'MarketsBP promotes upstream boss to deputy CEO'\n '$DNKN $KKD $DPZ $LOCO Inside week buy triggers. http://stks.co/h0vV8  http://stks.co/r0ebN'\n '$KEP breaking out when the market pulls back  http://stks.co/r0cet'\n 'Double bottom with handle buy point of 29.51 $IP http://chart.ly/akvujxh'\n 'Homebuilders - $RYL breaking below support, watch this one.  $SPY'\n 'Oil majors like Royal Dutch Shell, Chevron, BP fail to find reserves to counter ...'\n 'Tesla: Voluntary recall of 2,700 Model X vehicles, due to back seat issue. $TSLA https://t.co/NPAkc3U6GS'\n 'X marks the recall: Tesla recalls #ModelX for faulty 3rd row seat. https://t.co/HSqdoVry07 $TSLA https://t.co/4Cs3CNZEBB'\n 'CompaniesKingfisher bid for Mr Bricolage runs into trouble'\n '@pierrules: $SIRI LONG!!'\n 'Carnival Corporation and China Merchants Group Sign Memo of Understanding ...'\n '$AEGN MACD and ADX are crossing over the signal lines! Long Setup http://stks.co/qzzx'\n 'GlaxoSmithKline targets growth across units, scraps ViiV IPO'\n 'Tesco sales rise shows tentative recovery continues'\n 'UPDATE 1-Nomura, RBS must pay $806 mln in mortgage bond case-US judge'\n \"Doubts grow over GlaxoSmithKline's $6 bln capital return plan\"\n \"Meggitt share price tumbles as profit falls in 'challenging year'\"\n 'UPDATE 1-Meggitt reiterates annual outlook after tough 2014'\n '$MFLX up  pre mkt. Looks like GAP has been filled....lookin 4 short opt here'\n 'Rival companies $GWR and WATCO eyeing $RA w take-over interest.  http://stks.co/o0xY'\n '$BXS: BancorpSouth Announces Extension of Merger Agreements with ... http://stks.co/s2PDF'\n 'Baird likes $TSLA - upgrades to outperform, lifts price target to $300. Research firm also sees no capital raise necessary in next few qtrs'\n \"$ARIA This is the reason why shorts don't show up...long steady small climbs. The best way to accrue value. IMO\"\n '$TRIP maintains Neutral rating at JP Morgan- PT cut $61 from $66'\n 'long $SDLP $CPGX $TWTR $BITA $LABU $FB $TSLA $ETE $SDRL  Autocharts @ https://t.co/nxLx1ES7nY'\n 'Should You Follow Berkshire Hathaway Into Apple Stock?'\n \"Really surprised by how much $FB has now fallen. Thought there'd be some support around the 50d, but I guess not.\"\n 'Is It Worth Investing In Tesco PLC And Prudential plc Now?'\n 'Passengers rise at EasyJet and Aer Lingus'\n 'EA Launches Origin Online Game Distribution for Mac http://stks.co/aKTU via MacRumors $EA'\n '@BrooklynBandit: $SIMO Basing nice. A close over 24.18 is bullish $QQQ $SPY $STUDY watch for a close near HOD. Currently up +3%\" up +5%'\n \"Credit Suisse poaches Prudential's Thiam for Asian push\"\n '$AVGO great growth stk &  also raised dividend . clearly a great investment http://stks.co/r2F3h'\n \"$FIO won't stay down\"\n '$HLF shorts made a killing last couple days, might make more if cover and buy back?'\n '$ENDP exit reversal .11 X 3K shares = $330 - now Long - not getting follow through, either side of price action'\n \"$WGO's BoD was right to reject the offer. That company is low because of the economy, not because of any type of mismanagement or anything.\"\n '$IWM same conditions that sent markets to tumble all hitting this week'\n 'Berkshire seeks to boost its Wells Fargo stake above 10 percent'\n '$GMCR with the way this has been acting, it may fall to 65 today, horrible action since it hit 70 yesterday'\n '$AAPL is now beaten down, hated, etc. / hhhmm opposite of 700> what happens next?'\n 'Double bottom with handle buy point of 56.49 $WMT http://chart.ly/ml857v3'\n \"Whitbread boss Andy Harrison defends sales fall as 'just a blip'\"\n '$RAD All my charts are flashing oversold.'\n 'Citrix Systems Inc $CTXS Position Increased by Mizuho… https://t.co/v7Lkq08Flp @ShareStockNews'\n '$TSLA is now up 57% from its February low. Amazing rebound.'\n 'Followed the levels I shared with you on $NFLX $GOOGL $TSLA calls for nice gains. Still holding $FB 110 calls. Week made in a morning.'\n '$ENB.CA {Head&Shoulders} bullish reversal setup and breakout. Oil and Gas Pipleline stock. $USO'\n 'Tesla is recalling 2,700 Model X cars: https://t.co/8Z7BkVsTl9 $TSLA'\n 'Multi Top on $MCD chart finally leads to a fall in price.  Stability is questioned in the stock but coming weeks will tell.'\n 'Deutsche Bank cuts $SBUX' '$amzn breaking'\n 'Goldman Sachs, Barclays, HSBC downplay Brexit threat'\n '$CELG back near 104, where it opened and rallied higher last wk. A good place to take a shot https://t.co/zwHThSvFSF'\n '$TSLA not dipping - testing the 200 day ma https://t.co/jEPLmZQKGW'\n 'France raises concerns over proposed LSE-Deutsche Boerse deal'\n '$ES_F. Nice little cup-and-handle shaping up on the 15-minute. End-of-day $SPY $SPX favours a good day for the index. Will we see a gap open'\n 'NaturalGas Settles At 3-year Low $DBO $BNO  http://stks.co/d27qX'\n '$KCG bot at 2.24'\n '$EA points to the two Facebook games and accuses $ZNGA of copyright infringement. http://stks.co/g3A1'\n '$SINA even though the \"report\" is untrue and has been proven unture, the damage is done. No one wants to touch it now'\n \"$IMRS - it's important to be pragmatic in analysis...high prices could offer head-winds....bullish story intact,evenif the market rolls over\"\n 'Tesco, Asda sales fall as march of the discounters continues: Kantar'\n 'UPDATE: EasyJet Passenger Numbers, Aer Lingus Traffic Up In February'\n '$MSFT SQL Server revenue grew double-digit with SQL Server Premium revenue growing over 30% http://stks.co/ir2F'\n '$SPY  still wants higher I think.'\n '$SKH http://stks.co/163e Long setup. Watch for continuation and volume expansion here. Hot sector.'\n '$NFLX and $TSLA making all kinds of gains 📈'\n '$DPZ broke out now of his bull flag channel and make new highs, but volume is very poor'\n '$WX Decent pull back . .'\n \"$AWR Standard & Poor's Affirms 'A+' Credit Rating at American States Water Company and Golden State Water Company http://stks.co/f2P94\"\n 'Novartis buys remaining rights to GSK treatment in deal up to $1 billion'\n '$AAPL afternoon selloff as usual will be brutal. get ready to lose a ton of money.'\n \"Shell's $70 Billion BG Deal Meets Shareholder Skepticism\"\n 'Tullow Oil Suspends Dividend Amid Oil Price Fall'\n \"FastJet slams EasyJet founder Stelios for going public, is 'taking legal advice' over letter about contractual ...\"\n 'Facebook, near a buy point last week, faces a different technical test today https://t.co/c72LLMpiNM $FB $AAPL $NFLX https://t.co/fPFbYTYPuY'\n \"Insurer Old Mutual picks Standard Bank's Hemphill as new CEO\"\n \"$HYG Potential continuation Uptrend on a 60'-15'-4' charts http://stks.co/t1Qp6\"\n \"L&G completes UK's largest medically underwritten bulk pension risk deal\"\n \"$AAPL I'm sure those short are holding their breath hoping for a miracle. lol\"\n '$PLUG Closed short position. Small gain. Not interested in options expiring worthless'\n 'Legal & General arm buys 50 pct stake in MediaCityUK in Manchester'\n \"Went long on this $COG, will see 70's again me thinks\"\n \"Greene King's third quarter sales boosted by festive season\"\n 'Starbucks shares down as much as ~4.2% $SBUX https://t.co/JlgrprR54k'\n '$HCP Come to the party and buy this -gonna give solid gains and a dividend $$$$$$'\n '$BWLD bearish engulfing candle'\n '$SLV POS, been saying it for 2 years. Going lower. Forget about it or go short.'\n 'Tesco sells Blinkbox and broadband service to TalkTalk'\n '$PCLN Back to Back intraday reversals look out below. Shorts moving in!'\n '@1nvestor: $SODA has a 42.71% Float Short. LoL  http://stks.co/e0DfP'\n 'UPDATE 3-BP settles oil spill-related claims with Halliburton, Transocean'\n '$CSX another strong rail today after breaking intraday resistance at 1$9.80 https://t.co/eA4FBVuqGP'\n 'ConAgra Names Former Hillshire Farms CEO Connolly to Top Post'\n 'Travis Perkins Hikes Dividend 20% As Profit And Revenue Rise'\n 'Exact (EXAS) Flagged As Strong On High Volume $EXAS http://stks.co/r26Ra'\n 'Aviva weighs cash handout after beating profit forecast'\n 'Standard Chartered, RBS Escape Capital Raising in Stress Test'\n '$AAPL long 630.91' 'Long $X 24.62'\n \"@asdfLLC. Nice pop today. Told ya we would be green haha. Funny you bring that up. I'm actually working on a story about $NOK at the moment\"\n 'Rolls-Royce Wins $9.2 Billion Order From Emirates Airline'\n \"Berkshire discloses unit's ties to Iran, opens probe\"\n '$AAPL 50DMA turned up, MACD crossover a half-a-hair away on the weekly. EOD break out likely.'\n '.@barronsonline sees #Apple at $150/share in a year (+36% from today) on growing services business. $AAPL https://t.co/3BDNEKN7l1'\n '$RIG whos ever pushing this is crazy, get ready for suspended dividend (turning into growth stock) blow out earnings, and major buyback, lol'\n '$PKT Momentum building for breakout trigger ! Long setup http://stks.co/eXVU'\n 'FTSE rallies off three-month low, boosted by StanChart, Sainsbury'\n 'Glencore slumps 30 percent as debt fears grow'\n 'Whitbread Profit Up As Sales Continue To Rise, Looking For New CEO'\n '$TSLA Wish had my puts back but see if we can find support around 243.39 and pop up so that I can get back in. https://t.co/hFkLq3WObV'\n 'MarketsShire up 2.5% and Baxalta up 6% on $32bn deal'\n '$TSLA stock gaining steam... Plus other notable moves from this week: https://t.co/Hz0wdp5za1'\n \"UPDATE 2-Pricey beers lift SABMiller's quarterly underlying sales\"\n 'Looking for a strong bounce $SPY -- Lunchtime rally coming. $DIA $IWM $QQQ $AA $FB'\n '$SLW is down, but weekly $34 calls (-28.95%), .23 x .25 have 321 volume. Worth a chance here, jmho: http://stks.co/1Qfg'\n '$aapl news is becoming very bullish again http://stks.co/tMU'\n 'like $T for a breakout long as well. getting through the 100 and 200 MA could see it run.'\n '$KITD Looking for a oversold bounce.'\n 'End Of Day Scan: Bullish MA  Crossovers $BBVA $PDS $NTLS $NGL $SBRCY $FGL $MTNOY $TTT  www.dailystockplays.com'\n 'The Coca-Cola Company and Coca-Cola FEMSA to Acquire AdeS Soy-Based Beverage Business From Unilever'\n '$RXII Tang really is toxic, they keep bringing the share price down. At least they could let it climb a little before dragging it down.'\n 'Intuitive Surgical $ISRG is in a great financial position, take a look https://t.co/VahhJAcBFG https://t.co/24hQTQX4ou'\n '$LNKD Daily Phase 2 retest - Price experiencing early rejection. Can it retest? http://stks.co/t04xX'\n 'BHP Billiton share price: Brazil to sue Samarco for Â£3.5bn'\n '$LULU http://stks.co/o17i Bounced off support early in week - now indicators turning up (RSI, MACD, SMI) Worth a look'\n '$IBIO  up 10% in premarket ready for lift off'].\nReshape your data either using array.reshape(-1, 1) if your data has a single feature or array.reshape(1, -1) if it contains a single sample.",
     "output_type": "error",
     "traceback": [
      "\u001b[1;31m---------------------------------------------------------------------------\u001b[0m",
      "\u001b[1;31mValueError\u001b[0m                                Traceback (most recent call last)",
      "Cell \u001b[1;32mIn[21], line 2\u001b[0m\n\u001b[0;32m      1\u001b[0m \u001b[38;5;66;03m# Let's test the performance on the test set.\u001b[39;00m\n\u001b[1;32m----> 2\u001b[0m y_test_pred \u001b[38;5;241m=\u001b[39m \u001b[43mclassifier\u001b[49m\u001b[38;5;241;43m.\u001b[39;49m\u001b[43mpredict\u001b[49m\u001b[43m(\u001b[49m\u001b[43mtest_documents\u001b[49m\u001b[43m)\u001b[49m\n\u001b[0;32m      3\u001b[0m \u001b[38;5;66;03m# Checking performance\u001b[39;00m\n\u001b[0;32m      4\u001b[0m \u001b[38;5;28mprint\u001b[39m(classification_report(test_labels, y_test_pred))\n",
      "File \u001b[1;32m~\\anaconda3\\envs\\data_analytics\\lib\\site-packages\\sklearn\\linear_model\\_base.py:425\u001b[0m, in \u001b[0;36mLinearClassifierMixin.predict\u001b[1;34m(self, X)\u001b[0m\n\u001b[0;32m    411\u001b[0m \u001b[38;5;28;01mdef\u001b[39;00m \u001b[38;5;21mpredict\u001b[39m(\u001b[38;5;28mself\u001b[39m, X):\n\u001b[0;32m    412\u001b[0m \u001b[38;5;250m    \u001b[39m\u001b[38;5;124;03m\"\"\"\u001b[39;00m\n\u001b[0;32m    413\u001b[0m \u001b[38;5;124;03m    Predict class labels for samples in X.\u001b[39;00m\n\u001b[0;32m    414\u001b[0m \n\u001b[1;32m   (...)\u001b[0m\n\u001b[0;32m    423\u001b[0m \u001b[38;5;124;03m        Vector containing the class labels for each sample.\u001b[39;00m\n\u001b[0;32m    424\u001b[0m \u001b[38;5;124;03m    \"\"\"\u001b[39;00m\n\u001b[1;32m--> 425\u001b[0m     scores \u001b[38;5;241m=\u001b[39m \u001b[38;5;28;43mself\u001b[39;49m\u001b[38;5;241;43m.\u001b[39;49m\u001b[43mdecision_function\u001b[49m\u001b[43m(\u001b[49m\u001b[43mX\u001b[49m\u001b[43m)\u001b[49m\n\u001b[0;32m    426\u001b[0m     \u001b[38;5;28;01mif\u001b[39;00m \u001b[38;5;28mlen\u001b[39m(scores\u001b[38;5;241m.\u001b[39mshape) \u001b[38;5;241m==\u001b[39m \u001b[38;5;241m1\u001b[39m:\n\u001b[0;32m    427\u001b[0m         indices \u001b[38;5;241m=\u001b[39m (scores \u001b[38;5;241m>\u001b[39m \u001b[38;5;241m0\u001b[39m)\u001b[38;5;241m.\u001b[39mastype(\u001b[38;5;28mint\u001b[39m)\n",
      "File \u001b[1;32m~\\anaconda3\\envs\\data_analytics\\lib\\site-packages\\sklearn\\linear_model\\_base.py:407\u001b[0m, in \u001b[0;36mLinearClassifierMixin.decision_function\u001b[1;34m(self, X)\u001b[0m\n\u001b[0;32m    387\u001b[0m \u001b[38;5;250m\u001b[39m\u001b[38;5;124;03m\"\"\"\u001b[39;00m\n\u001b[0;32m    388\u001b[0m \u001b[38;5;124;03mPredict confidence scores for samples.\u001b[39;00m\n\u001b[0;32m    389\u001b[0m \n\u001b[1;32m   (...)\u001b[0m\n\u001b[0;32m    403\u001b[0m \u001b[38;5;124;03m    this class would be predicted.\u001b[39;00m\n\u001b[0;32m    404\u001b[0m \u001b[38;5;124;03m\"\"\"\u001b[39;00m\n\u001b[0;32m    405\u001b[0m check_is_fitted(\u001b[38;5;28mself\u001b[39m)\n\u001b[1;32m--> 407\u001b[0m X \u001b[38;5;241m=\u001b[39m \u001b[38;5;28;43mself\u001b[39;49m\u001b[38;5;241;43m.\u001b[39;49m\u001b[43m_validate_data\u001b[49m\u001b[43m(\u001b[49m\u001b[43mX\u001b[49m\u001b[43m,\u001b[49m\u001b[43m \u001b[49m\u001b[43maccept_sparse\u001b[49m\u001b[38;5;241;43m=\u001b[39;49m\u001b[38;5;124;43m\"\u001b[39;49m\u001b[38;5;124;43mcsr\u001b[39;49m\u001b[38;5;124;43m\"\u001b[39;49m\u001b[43m,\u001b[49m\u001b[43m \u001b[49m\u001b[43mreset\u001b[49m\u001b[38;5;241;43m=\u001b[39;49m\u001b[38;5;28;43;01mFalse\u001b[39;49;00m\u001b[43m)\u001b[49m\n\u001b[0;32m    408\u001b[0m scores \u001b[38;5;241m=\u001b[39m safe_sparse_dot(X, \u001b[38;5;28mself\u001b[39m\u001b[38;5;241m.\u001b[39mcoef_\u001b[38;5;241m.\u001b[39mT, dense_output\u001b[38;5;241m=\u001b[39m\u001b[38;5;28;01mTrue\u001b[39;00m) \u001b[38;5;241m+\u001b[39m \u001b[38;5;28mself\u001b[39m\u001b[38;5;241m.\u001b[39mintercept_\n\u001b[0;32m    409\u001b[0m \u001b[38;5;28;01mreturn\u001b[39;00m scores\u001b[38;5;241m.\u001b[39mravel() \u001b[38;5;28;01mif\u001b[39;00m scores\u001b[38;5;241m.\u001b[39mshape[\u001b[38;5;241m1\u001b[39m] \u001b[38;5;241m==\u001b[39m \u001b[38;5;241m1\u001b[39m \u001b[38;5;28;01melse\u001b[39;00m scores\n",
      "File \u001b[1;32m~\\anaconda3\\envs\\data_analytics\\lib\\site-packages\\sklearn\\base.py:566\u001b[0m, in \u001b[0;36mBaseEstimator._validate_data\u001b[1;34m(self, X, y, reset, validate_separately, **check_params)\u001b[0m\n\u001b[0;32m    564\u001b[0m     \u001b[38;5;28;01mraise\u001b[39;00m \u001b[38;5;167;01mValueError\u001b[39;00m(\u001b[38;5;124m\"\u001b[39m\u001b[38;5;124mValidation should be done on X, y or both.\u001b[39m\u001b[38;5;124m\"\u001b[39m)\n\u001b[0;32m    565\u001b[0m \u001b[38;5;28;01melif\u001b[39;00m \u001b[38;5;129;01mnot\u001b[39;00m no_val_X \u001b[38;5;129;01mand\u001b[39;00m no_val_y:\n\u001b[1;32m--> 566\u001b[0m     X \u001b[38;5;241m=\u001b[39m check_array(X, \u001b[38;5;241m*\u001b[39m\u001b[38;5;241m*\u001b[39mcheck_params)\n\u001b[0;32m    567\u001b[0m     out \u001b[38;5;241m=\u001b[39m X\n\u001b[0;32m    568\u001b[0m \u001b[38;5;28;01melif\u001b[39;00m no_val_X \u001b[38;5;129;01mand\u001b[39;00m \u001b[38;5;129;01mnot\u001b[39;00m no_val_y:\n",
      "File \u001b[1;32m~\\anaconda3\\envs\\data_analytics\\lib\\site-packages\\sklearn\\utils\\validation.py:769\u001b[0m, in \u001b[0;36mcheck_array\u001b[1;34m(array, accept_sparse, accept_large_sparse, dtype, order, copy, force_all_finite, ensure_2d, allow_nd, ensure_min_samples, ensure_min_features, estimator)\u001b[0m\n\u001b[0;32m    767\u001b[0m     \u001b[38;5;66;03m# If input is 1D raise error\u001b[39;00m\n\u001b[0;32m    768\u001b[0m     \u001b[38;5;28;01mif\u001b[39;00m array\u001b[38;5;241m.\u001b[39mndim \u001b[38;5;241m==\u001b[39m \u001b[38;5;241m1\u001b[39m:\n\u001b[1;32m--> 769\u001b[0m         \u001b[38;5;28;01mraise\u001b[39;00m \u001b[38;5;167;01mValueError\u001b[39;00m(\n\u001b[0;32m    770\u001b[0m             \u001b[38;5;124m\"\u001b[39m\u001b[38;5;124mExpected 2D array, got 1D array instead:\u001b[39m\u001b[38;5;130;01m\\n\u001b[39;00m\u001b[38;5;124marray=\u001b[39m\u001b[38;5;132;01m{}\u001b[39;00m\u001b[38;5;124m.\u001b[39m\u001b[38;5;130;01m\\n\u001b[39;00m\u001b[38;5;124m\"\u001b[39m\n\u001b[0;32m    771\u001b[0m             \u001b[38;5;124m\"\u001b[39m\u001b[38;5;124mReshape your data either using array.reshape(-1, 1) if \u001b[39m\u001b[38;5;124m\"\u001b[39m\n\u001b[0;32m    772\u001b[0m             \u001b[38;5;124m\"\u001b[39m\u001b[38;5;124myour data has a single feature or array.reshape(1, -1) \u001b[39m\u001b[38;5;124m\"\u001b[39m\n\u001b[0;32m    773\u001b[0m             \u001b[38;5;124m\"\u001b[39m\u001b[38;5;124mif it contains a single sample.\u001b[39m\u001b[38;5;124m\"\u001b[39m\u001b[38;5;241m.\u001b[39mformat(array)\n\u001b[0;32m    774\u001b[0m         )\n\u001b[0;32m    776\u001b[0m \u001b[38;5;66;03m# make sure we actually converted to numeric:\u001b[39;00m\n\u001b[0;32m    777\u001b[0m \u001b[38;5;28;01mif\u001b[39;00m dtype_numeric \u001b[38;5;129;01mand\u001b[39;00m array\u001b[38;5;241m.\u001b[39mdtype\u001b[38;5;241m.\u001b[39mkind \u001b[38;5;129;01min\u001b[39;00m \u001b[38;5;124m\"\u001b[39m\u001b[38;5;124mOUSV\u001b[39m\u001b[38;5;124m\"\u001b[39m:\n",
      "\u001b[1;31mValueError\u001b[0m: Expected 2D array, got 1D array instead:\narray=['$FB turns back down in early trading.... https://t.co/reuf5PzhBm'\n 'Whitbread buys 49% stake in Pure food chain'\n \"Are ARM Holdings plc, Domino's Pizza Group plc and ASOS plc 3 must-have growth stocks?\"\n 'CompaniesUnilever sales lifted by ice cream in soft economy'\n 'Shell to buy BG Group in $69.7 billion takeover'\n 'Industry NewsMorrisons unveils which stores will close as 900 jobs face the axe'\n '$BBRY nice bounce'\n '$SBUX inverted head & shoulders pattern in the works. bullish.'\n 'Apple expected to launch new iPhone, iPad today $AAPL https://t.co/XfnICWeBeG'\n 'Still short $LNG from $11.70 area...next stop could be down through $9.00. Someone slammed it hard with 230,000 shs this am! More to follow'\n 'Infection worries prompt regulatory reviews of Gilead leukaemia drug $GILD https://t.co/H9vqXpZ15G via @YahooFinance'\n 'Timberrrr $TSLA https://t.co/MRBgfDHHVa' '$CHRM Loooooongggggg base'\n 'Shire CEO steps up drive to get Baxalta board talking'\n '$AMD big dumping... would not touch it for a while'\n \"$BIOC RSI extremely in long's favor looking at BIOC historically.\"\n '$AMZN new HOD with conviction keeping $570 on watch for Resistance.'\n 'GlaxoSmithKline set to complete $20 billion Novartis asset swap next week'\n '$RNN More bleeding Monday.'\n 'Added more $BBBY @jimcramer is wrong about this one. Still a very profitable merchant with profitable stores'\n \"Mylan Appoints Ranjan Ray Chaudhuri as Global Commercial Lead for Mylan's Over ...\"\n \"$DGI technical alerts: Gilligan's Island Buy Setup, Stochastic Buy Signal, Lizard Bullish, Hammer Candlestick, Wid... http://stks.co/c29Nu\"\n '@harmongreg: $BBRY wkly, Inverse Head and Shoulders forming, triggers over 18.50, PO at least 30.80, watching http://stks.co/iPVJ'\n 'Most bullish stocks on Twitter during this dip. $YHOO $GDX $GOOGL $STZ $GOLD $EW $VZ $CELG $SBUX $SCTY more: https://t.co/iuZJelfwt3'\n 'longed $AMZN 300 @ 189.82'\n \"Daily Mail parent company in talks with potential partners about joint bid for Yahoo's internet assets: https://t.co/mK7MEMtADT $YHOO\"\n '$DMND green and moving'\n '$BRK.B $SPY  All time high tomorrow? 150k on the A shares, Dec 13, 2007.'\n 'easyJet expects resilient demand to withstand security fears'\n 'Adobe Receives New Rating from Top Analyst $ADBE https://t.co/LJNXPEvHZN'\n 'I am not optimistic about $amzn both fundementals and charts look like poopoo this quarter.'\n 'Glencore sees Tripoli-based NOC as sole legal seller of Libyan oil'\n 'energy still failing to close above the 10D MA.  continues to stand out weak $XLE'\n 'Tesco leads FTSE higher on Clubcard bid reports'\n '$ISRG Break out confirmed. Bought Leaps. Good trading!'\n \"$FB trend, hits mid 110's and drops\"\n 'Royal Mail share price rallies amid positive broker comments'\n \"Japan's Nikkei lands Financial Times in $1.3 billion deal\"\n '$YANG Double bottom 5.2'\n 'Kingfisher share price slides on cost to implement new strategy'\n 'Facebook $FB received a Buy rating from Wells Fargo 5-star Analyst Peter Stabler (Wells Fargo) https://t.co/jnB4c9vdCu'\n 'FDA approves AstraZeneca drug for advanced lung cancer'\n 'BP joins forces with Det Norske in Norway'\n 'Are Aviva plc, Direct Line Insurance Group PLC And Admiral Group plc Set To Soar?'\n '$GTE LONG at 7.44' 'Verizon and AT&T accused of hurting rivals'\n 'Rolls-Royce to Ensure Compliance After Petrobras Bribery Report'\n '$LINE biggies must be loading up here at lows..'\n 'AstraZeneca suffers setback after drug fails to treat eye cancer'\n '$TROW Ascending triangle gives a bullish bias to this chart. Breakout above 84 will be positive http://stks.co/g0ls5'\n 'Shell share price: Standard Life announce position against BG acquisition'\n \"$ROST Nov 90 calls 2.08 .. Go Long until exp imo ! Unless europeans keeps F'ing around !\"\n '$FB trending nicely, intraday.'\n \"It's a bad idea to make 5 min predictions based on faith: RT @dandyduct $AAPL Sell signal hit at 584, it will go down for the next 5 min\"\n '5 Best Analyst Rated Stocks in Last 72hrs: $ORCL $AAPL $CBS $INO $CPXX View all ratings here: https://t.co/IRID6zd5gc'\n 'News FeedFTSE 100 movers: LSE surges as ICE says mulling offer; Ashtead and Barclays tank'\n 'Imperial Tobacco Adds Quarterly Dividends After Profit Rose'\n 'UPDATE 1-AstraZeneca sells rare cancer drug to Sanofi for up to $300 mln'\n 'UPDATE: Barclays Expects Gain After Settling With Lehman Bros Trustee'\n 'Saudi Aramco, Shell plan to break up Motiva, divide up assets'\n '$SMH got a sell signal on 6/4 and needs to take out 39.28 to go higher otherwise headed lower than 37.60 gap below at 35.38'\n '$FB  rejecting HIGHS shortable...at 109'\n '@louiebeene vwap is 1.63, held the trend line. Should be on a LOT of radars. $NAVB'\n 'ICE Said to Start Lining Up Financing for LSE Bidding War'\n '#Tesla Model S deliveries are up 35% in Germany - record deliveries in March [Chart] https://t.co/yCnClcBImV  $TSLA'\n 'Google, Inc. completes acquisition of ICOA, Inc. http://stks.co/nFEI $ICOA $GOOG'\n '$FREE Ha Heeeeeere comes the pump! So glad I picked up 9K end of day! Get ready for the bull ride!'\n '$BOBE down $2.84  premarket'\n '$SPY Less than 0.2% down and people are calling it bearish. Some heading for exits already. Maybe 1% down will be \"the crash\"? Disturbing!'\n 'MT @TheAcsMan Amazing seeing everyone suddenly touting $MSFT. Long been favorite covered call & double dip dividend play.'\n 'Goodwin not to face Scottish prosecution over RBS'\n \"RBS Pays $1.7 Billion to Scrap U.K. Treasury's Dividend Rights\"\n 'Isolationism? Another Sell Rating, Sell Ratings On SPY, QQQ, IWM And Several Companies https://t.co/j35FNnx744 $AAPL #APPLE $AXP $BAC'\n 'AstraZeneca profit down as sales of stalwarts fade'\n '$renn topping tail 5 min. chart at 7.31 short from here.'\n \"$aapl key is to breakout above 460 on solid volume or else it's a no trade for now\"\n 'Yahoo stock is up to $36.46 as the bidding war picks up for the company https://t.co/JDNZXDCMkl $YHOO https://t.co/HmOegfHgvn'\n 'Tesco share price jumps as Q3 sales top estimates'\n '$TNH Looks like an explosive setup if it can break the 20EMA and 105 level http://stks.co/b1SVH'\n \"Britain's FTSE falls back with Ashtead, commodities under pressure\"\n \"Can Christmas Save Sainsbury's plc And Tesco plc?\"\n '$INO Up, up, and away!'\n '2 Turnaround Buys For 2016? BHP Billiton plc And Home Retail Group Plc'\n 'Tesla to recall 2,700 Model X SUVs over seat issue https://t.co/OdPraN59Xq $TSLA https://t.co/xvn4blIwpy https://t.co/ThfvWTnRPs'\n '$AAPL - Has broken its downtrend - but 200DMA proving to be stiff resistance short term. https://t.co/VlzlgvIHZV'\n 'ARM Royalties Accelerate as Smartphone Market Regains Strength'\n '$RNN day traders flushed out, it should start going up slowly from now on .'\n '@SOULLOR the regular scrappy Q $SWY usually presents. Sales weak, margins down, debt still way up.'\n 'Held its recent double bottom buy point of 56.57 almost to the penny today $WMT http://chart.ly/6nosp5q'\n '$AAPL broke descending channel....will it hold?'\n 'CompaniesHoward Davies appointment as RBS director delayed'\n '$NFLX +1% $104.80 LONG streaming services rapidly outpacing traditional cable'\n 'Microsoft joins the open-source Eclipse Foundation https://t.co/z8G5cZaKeU focus on collaboration & open business is a smart strategy! $MSFT'\n \"Lloyds Banking Group's share price lifts amid reports bank is poised to axe hundreds of UK jobs\"\n \"$FB churning in high volume @ IPO price. Lot's of sellers trying to get out. Might take a while here to consolidate before moving higher.\"\n 'MarketsBP promotes upstream boss to deputy CEO'\n '$DNKN $KKD $DPZ $LOCO Inside week buy triggers. http://stks.co/h0vV8  http://stks.co/r0ebN'\n '$KEP breaking out when the market pulls back  http://stks.co/r0cet'\n 'Double bottom with handle buy point of 29.51 $IP http://chart.ly/akvujxh'\n 'Homebuilders - $RYL breaking below support, watch this one.  $SPY'\n 'Oil majors like Royal Dutch Shell, Chevron, BP fail to find reserves to counter ...'\n 'Tesla: Voluntary recall of 2,700 Model X vehicles, due to back seat issue. $TSLA https://t.co/NPAkc3U6GS'\n 'X marks the recall: Tesla recalls #ModelX for faulty 3rd row seat. https://t.co/HSqdoVry07 $TSLA https://t.co/4Cs3CNZEBB'\n 'CompaniesKingfisher bid for Mr Bricolage runs into trouble'\n '@pierrules: $SIRI LONG!!'\n 'Carnival Corporation and China Merchants Group Sign Memo of Understanding ...'\n '$AEGN MACD and ADX are crossing over the signal lines! Long Setup http://stks.co/qzzx'\n 'GlaxoSmithKline targets growth across units, scraps ViiV IPO'\n 'Tesco sales rise shows tentative recovery continues'\n 'UPDATE 1-Nomura, RBS must pay $806 mln in mortgage bond case-US judge'\n \"Doubts grow over GlaxoSmithKline's $6 bln capital return plan\"\n \"Meggitt share price tumbles as profit falls in 'challenging year'\"\n 'UPDATE 1-Meggitt reiterates annual outlook after tough 2014'\n '$MFLX up  pre mkt. Looks like GAP has been filled....lookin 4 short opt here'\n 'Rival companies $GWR and WATCO eyeing $RA w take-over interest.  http://stks.co/o0xY'\n '$BXS: BancorpSouth Announces Extension of Merger Agreements with ... http://stks.co/s2PDF'\n 'Baird likes $TSLA - upgrades to outperform, lifts price target to $300. Research firm also sees no capital raise necessary in next few qtrs'\n \"$ARIA This is the reason why shorts don't show up...long steady small climbs. The best way to accrue value. IMO\"\n '$TRIP maintains Neutral rating at JP Morgan- PT cut $61 from $66'\n 'long $SDLP $CPGX $TWTR $BITA $LABU $FB $TSLA $ETE $SDRL  Autocharts @ https://t.co/nxLx1ES7nY'\n 'Should You Follow Berkshire Hathaway Into Apple Stock?'\n \"Really surprised by how much $FB has now fallen. Thought there'd be some support around the 50d, but I guess not.\"\n 'Is It Worth Investing In Tesco PLC And Prudential plc Now?'\n 'Passengers rise at EasyJet and Aer Lingus'\n 'EA Launches Origin Online Game Distribution for Mac http://stks.co/aKTU via MacRumors $EA'\n '@BrooklynBandit: $SIMO Basing nice. A close over 24.18 is bullish $QQQ $SPY $STUDY watch for a close near HOD. Currently up +3%\" up +5%'\n \"Credit Suisse poaches Prudential's Thiam for Asian push\"\n '$AVGO great growth stk &  also raised dividend . clearly a great investment http://stks.co/r2F3h'\n \"$FIO won't stay down\"\n '$HLF shorts made a killing last couple days, might make more if cover and buy back?'\n '$ENDP exit reversal .11 X 3K shares = $330 - now Long - not getting follow through, either side of price action'\n \"$WGO's BoD was right to reject the offer. That company is low because of the economy, not because of any type of mismanagement or anything.\"\n '$IWM same conditions that sent markets to tumble all hitting this week'\n 'Berkshire seeks to boost its Wells Fargo stake above 10 percent'\n '$GMCR with the way this has been acting, it may fall to 65 today, horrible action since it hit 70 yesterday'\n '$AAPL is now beaten down, hated, etc. / hhhmm opposite of 700> what happens next?'\n 'Double bottom with handle buy point of 56.49 $WMT http://chart.ly/ml857v3'\n \"Whitbread boss Andy Harrison defends sales fall as 'just a blip'\"\n '$RAD All my charts are flashing oversold.'\n 'Citrix Systems Inc $CTXS Position Increased by Mizuho… https://t.co/v7Lkq08Flp @ShareStockNews'\n '$TSLA is now up 57% from its February low. Amazing rebound.'\n 'Followed the levels I shared with you on $NFLX $GOOGL $TSLA calls for nice gains. Still holding $FB 110 calls. Week made in a morning.'\n '$ENB.CA {Head&Shoulders} bullish reversal setup and breakout. Oil and Gas Pipleline stock. $USO'\n 'Tesla is recalling 2,700 Model X cars: https://t.co/8Z7BkVsTl9 $TSLA'\n 'Multi Top on $MCD chart finally leads to a fall in price.  Stability is questioned in the stock but coming weeks will tell.'\n 'Deutsche Bank cuts $SBUX' '$amzn breaking'\n 'Goldman Sachs, Barclays, HSBC downplay Brexit threat'\n '$CELG back near 104, where it opened and rallied higher last wk. A good place to take a shot https://t.co/zwHThSvFSF'\n '$TSLA not dipping - testing the 200 day ma https://t.co/jEPLmZQKGW'\n 'France raises concerns over proposed LSE-Deutsche Boerse deal'\n '$ES_F. Nice little cup-and-handle shaping up on the 15-minute. End-of-day $SPY $SPX favours a good day for the index. Will we see a gap open'\n 'NaturalGas Settles At 3-year Low $DBO $BNO  http://stks.co/d27qX'\n '$KCG bot at 2.24'\n '$EA points to the two Facebook games and accuses $ZNGA of copyright infringement. http://stks.co/g3A1'\n '$SINA even though the \"report\" is untrue and has been proven unture, the damage is done. No one wants to touch it now'\n \"$IMRS - it's important to be pragmatic in analysis...high prices could offer head-winds....bullish story intact,evenif the market rolls over\"\n 'Tesco, Asda sales fall as march of the discounters continues: Kantar'\n 'UPDATE: EasyJet Passenger Numbers, Aer Lingus Traffic Up In February'\n '$MSFT SQL Server revenue grew double-digit with SQL Server Premium revenue growing over 30% http://stks.co/ir2F'\n '$SPY  still wants higher I think.'\n '$SKH http://stks.co/163e Long setup. Watch for continuation and volume expansion here. Hot sector.'\n '$NFLX and $TSLA making all kinds of gains 📈'\n '$DPZ broke out now of his bull flag channel and make new highs, but volume is very poor'\n '$WX Decent pull back . .'\n \"$AWR Standard & Poor's Affirms 'A+' Credit Rating at American States Water Company and Golden State Water Company http://stks.co/f2P94\"\n 'Novartis buys remaining rights to GSK treatment in deal up to $1 billion'\n '$AAPL afternoon selloff as usual will be brutal. get ready to lose a ton of money.'\n \"Shell's $70 Billion BG Deal Meets Shareholder Skepticism\"\n 'Tullow Oil Suspends Dividend Amid Oil Price Fall'\n \"FastJet slams EasyJet founder Stelios for going public, is 'taking legal advice' over letter about contractual ...\"\n 'Facebook, near a buy point last week, faces a different technical test today https://t.co/c72LLMpiNM $FB $AAPL $NFLX https://t.co/fPFbYTYPuY'\n \"Insurer Old Mutual picks Standard Bank's Hemphill as new CEO\"\n \"$HYG Potential continuation Uptrend on a 60'-15'-4' charts http://stks.co/t1Qp6\"\n \"L&G completes UK's largest medically underwritten bulk pension risk deal\"\n \"$AAPL I'm sure those short are holding their breath hoping for a miracle. lol\"\n '$PLUG Closed short position. Small gain. Not interested in options expiring worthless'\n 'Legal & General arm buys 50 pct stake in MediaCityUK in Manchester'\n \"Went long on this $COG, will see 70's again me thinks\"\n \"Greene King's third quarter sales boosted by festive season\"\n 'Starbucks shares down as much as ~4.2% $SBUX https://t.co/JlgrprR54k'\n '$HCP Come to the party and buy this -gonna give solid gains and a dividend $$$$$$'\n '$BWLD bearish engulfing candle'\n '$SLV POS, been saying it for 2 years. Going lower. Forget about it or go short.'\n 'Tesco sells Blinkbox and broadband service to TalkTalk'\n '$PCLN Back to Back intraday reversals look out below. Shorts moving in!'\n '@1nvestor: $SODA has a 42.71% Float Short. LoL  http://stks.co/e0DfP'\n 'UPDATE 3-BP settles oil spill-related claims with Halliburton, Transocean'\n '$CSX another strong rail today after breaking intraday resistance at 1$9.80 https://t.co/eA4FBVuqGP'\n 'ConAgra Names Former Hillshire Farms CEO Connolly to Top Post'\n 'Travis Perkins Hikes Dividend 20% As Profit And Revenue Rise'\n 'Exact (EXAS) Flagged As Strong On High Volume $EXAS http://stks.co/r26Ra'\n 'Aviva weighs cash handout after beating profit forecast'\n 'Standard Chartered, RBS Escape Capital Raising in Stress Test'\n '$AAPL long 630.91' 'Long $X 24.62'\n \"@asdfLLC. Nice pop today. Told ya we would be green haha. Funny you bring that up. I'm actually working on a story about $NOK at the moment\"\n 'Rolls-Royce Wins $9.2 Billion Order From Emirates Airline'\n \"Berkshire discloses unit's ties to Iran, opens probe\"\n '$AAPL 50DMA turned up, MACD crossover a half-a-hair away on the weekly. EOD break out likely.'\n '.@barronsonline sees #Apple at $150/share in a year (+36% from today) on growing services business. $AAPL https://t.co/3BDNEKN7l1'\n '$RIG whos ever pushing this is crazy, get ready for suspended dividend (turning into growth stock) blow out earnings, and major buyback, lol'\n '$PKT Momentum building for breakout trigger ! Long setup http://stks.co/eXVU'\n 'FTSE rallies off three-month low, boosted by StanChart, Sainsbury'\n 'Glencore slumps 30 percent as debt fears grow'\n 'Whitbread Profit Up As Sales Continue To Rise, Looking For New CEO'\n '$TSLA Wish had my puts back but see if we can find support around 243.39 and pop up so that I can get back in. https://t.co/hFkLq3WObV'\n 'MarketsShire up 2.5% and Baxalta up 6% on $32bn deal'\n '$TSLA stock gaining steam... Plus other notable moves from this week: https://t.co/Hz0wdp5za1'\n \"UPDATE 2-Pricey beers lift SABMiller's quarterly underlying sales\"\n 'Looking for a strong bounce $SPY -- Lunchtime rally coming. $DIA $IWM $QQQ $AA $FB'\n '$SLW is down, but weekly $34 calls (-28.95%), .23 x .25 have 321 volume. Worth a chance here, jmho: http://stks.co/1Qfg'\n '$aapl news is becoming very bullish again http://stks.co/tMU'\n 'like $T for a breakout long as well. getting through the 100 and 200 MA could see it run.'\n '$KITD Looking for a oversold bounce.'\n 'End Of Day Scan: Bullish MA  Crossovers $BBVA $PDS $NTLS $NGL $SBRCY $FGL $MTNOY $TTT  www.dailystockplays.com'\n 'The Coca-Cola Company and Coca-Cola FEMSA to Acquire AdeS Soy-Based Beverage Business From Unilever'\n '$RXII Tang really is toxic, they keep bringing the share price down. At least they could let it climb a little before dragging it down.'\n 'Intuitive Surgical $ISRG is in a great financial position, take a look https://t.co/VahhJAcBFG https://t.co/24hQTQX4ou'\n '$LNKD Daily Phase 2 retest - Price experiencing early rejection. Can it retest? http://stks.co/t04xX'\n 'BHP Billiton share price: Brazil to sue Samarco for Â£3.5bn'\n '$LULU http://stks.co/o17i Bounced off support early in week - now indicators turning up (RSI, MACD, SMI) Worth a look'\n '$IBIO  up 10% in premarket ready for lift off'].\nReshape your data either using array.reshape(-1, 1) if your data has a single feature or array.reshape(1, -1) if it contains a single sample."
     ]
    }
   ],
   "source": [
    "# Let's test the performance on the test set.\n",
    "y_test_pred = classifier.predict(test_documents)\n",
    "# Checking performance\n",
    "print(classification_report(test_labels, y_test_pred))"
   ]
  },
  {
   "cell_type": "code",
   "execution_count": null,
   "id": "ceeff3b3",
   "metadata": {},
   "outputs": [],
   "source": []
  }
 ],
 "metadata": {
  "kernelspec": {
   "display_name": "data_analytics",
   "language": "python",
   "name": "data_analytics"
  },
  "language_info": {
   "codemirror_mode": {
    "name": "ipython",
    "version": 3
   },
   "file_extension": ".py",
   "mimetype": "text/x-python",
   "name": "python",
   "nbconvert_exporter": "python",
   "pygments_lexer": "ipython3",
   "version": "3.9.16"
  }
 },
 "nbformat": 4,
 "nbformat_minor": 5
}
