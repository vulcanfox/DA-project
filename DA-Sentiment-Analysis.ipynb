{
 "cells": [
  {
   "cell_type": "markdown",
   "id": "0bdef17b",
   "metadata": {},
   "source": [
    "# Data analytics coursework "
   ]
  },
  {
   "cell_type": "code",
   "execution_count": 12,
   "id": "d4c81566",
   "metadata": {},
   "outputs": [
    {
     "name": "stdout",
     "output_type": "stream",
     "text": [
      "The autoreload extension is already loaded. To reload it, use:\n",
      "  %reload_ext autoreload\n"
     ]
    },
    {
     "name": "stderr",
     "output_type": "stream",
     "text": [
      "[nltk_data] Downloading package punkt to\n",
      "[nltk_data]     C:\\Users\\adnan\\AppData\\Roaming\\nltk_data...\n",
      "[nltk_data]   Package punkt is already up-to-date!\n",
      "[nltk_data] Downloading package wordnet to\n",
      "[nltk_data]     C:\\Users\\adnan\\AppData\\Roaming\\nltk_data...\n",
      "[nltk_data]   Package wordnet is already up-to-date!\n",
      "[nltk_data] Downloading package vader_lexicon to\n",
      "[nltk_data]     C:\\Users\\adnan\\AppData\\Roaming\\nltk_data...\n",
      "[nltk_data]   Package vader_lexicon is already up-to-date!\n"
     ]
    }
   ],
   "source": [
    "%load_ext autoreload\n",
    "%autoreload 2\n",
    "\n",
    "# Use HuggingFace's datasets library to access the financial_phrasebank dataset\n",
    "from datasets import load_dataset\n",
    "from sklearn.linear_model import LogisticRegression\n",
    "from sklearn.metrics import classification_report, confusion_matrix, ConfusionMatrixDisplay\n",
    "import numpy as np\n",
    "from scipy.sparse import hstack\n",
    "import nltk as nltk\n",
    "from nltk import word_tokenize          \n",
    "from nltk.stem import WordNetLemmatizer \n",
    "from sklearn.feature_extraction.text import CountVectorizer\n",
    "nltk.download('punkt')\n",
    "nltk.download('wordnet')\n",
    "nltk.download('vader_lexicon')\n",
    "from nltk.sentiment.vader import SentimentIntensityAnalyzer\n",
    "import matplotlib.pyplot as plt\n",
    "import numpy as np"
   ]
  },
  {
   "cell_type": "code",
   "execution_count": 2,
   "id": "e3db0913",
   "metadata": {},
   "outputs": [],
   "source": [
    "train_files = [\n",
    "    'data/FiQA_ABSA_task1/task1_headline_ABSA_train.json',\n",
    "    'data/FiQA_ABSA_task1/task1_post_ABSA_train.json'\n",
    "]"
   ]
  },
  {
   "cell_type": "code",
   "execution_count": 3,
   "id": "29bb0c35",
   "metadata": {},
   "outputs": [
    {
     "name": "stdout",
     "output_type": "stream",
     "text": [
      "Number of instances: 1111\n",
      "Number of labels: 1111\n",
      "Number of negative labels: 310\n",
      "Number of neutral labels: 195\n",
      "Number of positive labels: 606\n"
     ]
    }
   ],
   "source": [
    "## Loading data from JSON\n",
    "import json\n",
    "\n",
    "def load_fiqa_sa_from_json(json_files):\n",
    "    train_text = []\n",
    "    train_labels = []\n",
    "\n",
    "    for file in json_files:\n",
    "        with open(file, 'r', encoding='UTF-8') as handle:\n",
    "            dataf = json.load(handle)\n",
    "\n",
    "        dataf_text = [dataf[k][\"sentence\"] for k in dataf.keys()]\n",
    "        # print(len(dataf_text))\n",
    "        train_text.extend(dataf_text)\n",
    "\n",
    "        dataf_labels = [float(dataf[k][\"info\"][0][\"sentiment_score\"]) for k in dataf.keys()]\n",
    "        # print(len(dataf_labels))\n",
    "        train_labels.extend(dataf_labels)\n",
    "\n",
    "    train_text = np.array(train_text)\n",
    "    train_labels = np.array(train_labels)\n",
    "    \n",
    "    return train_text, train_labels\n",
    "\n",
    "\n",
    "def threshold_scores(scores):\n",
    "    \"\"\"\n",
    "    Convert sentiment scores to discrete labels.\n",
    "    0 = negative.\n",
    "    1 = neutral.\n",
    "    2 = positive.\n",
    "    \"\"\"\n",
    "    labels = []\n",
    "    for score in scores:\n",
    "        if score < -0.2:\n",
    "            labels.append(0)\n",
    "        elif score > 0.2:\n",
    "            labels.append(2)\n",
    "        else:\n",
    "            labels.append(1)\n",
    "            \n",
    "    return np.array(labels)\n",
    "\n",
    "\n",
    "all_text, all_labels = load_fiqa_sa_from_json(train_files)\n",
    "    \n",
    "print(f'Number of instances: {len(all_text)}')\n",
    "print(f'Number of labels: {len(all_labels)}')\n",
    "\n",
    "all_labels = threshold_scores(all_labels)\n",
    "print(f'Number of negative labels: {np.sum(all_labels==0)}')\n",
    "print(f'Number of neutral labels: {np.sum(all_labels==1)}')\n",
    "print(f'Number of positive labels: {np.sum(all_labels==2)}')"
   ]
  },
  {
   "cell_type": "code",
   "execution_count": 4,
   "id": "1e5f008f",
   "metadata": {},
   "outputs": [
    {
     "name": "stdout",
     "output_type": "stream",
     "text": [
      "Number of training instances = 710\n",
      "Number of validation instances = 178\n",
      "Number of test instances = 223\n"
     ]
    }
   ],
   "source": [
    "from sklearn.model_selection import train_test_split\n",
    "\n",
    "# Split test data from training data\n",
    "train_documents, test_documents, train_labels, test_labels = train_test_split(\n",
    "    all_text, \n",
    "    all_labels, \n",
    "    test_size=0.2, \n",
    "    stratify=all_labels  # make sure the same proportion of labels is in the test set and training set\n",
    ")\n",
    "\n",
    "# Split validation data from training data\n",
    "train_documents, val_documents, train_labels, val_labels = train_test_split(\n",
    "    train_documents, \n",
    "    train_labels, \n",
    "    test_size=0.2, \n",
    "    stratify=train_labels  # make sure the same proportion of labels is in the test set and training set\n",
    ")\n",
    "\n",
    "print(f'Number of training instances = {len(train_documents)}')\n",
    "print(f'Number of validation instances = {len(val_documents)}')\n",
    "print(f'Number of test instances = {len(test_documents)}')\n"
   ]
  },
  {
   "cell_type": "code",
   "execution_count": 5,
   "id": "f759bcb3",
   "metadata": {},
   "outputs": [
    {
     "name": "stdout",
     "output_type": "stream",
     "text": [
      "What does one instance look like from the training set? \n",
      "\n",
      "OCBC to Buy Barclay's Wealth Management Unit in Singapore, Hong Kong\n",
      "...and here is its corresponding label \n",
      "\n",
      "2\n"
     ]
    }
   ],
   "source": [
    "print(f'What does one instance look like from the training set? \\n\\n{train_documents[234]}')\n",
    "print(f'...and here is its corresponding label \\n\\n{train_labels[234]}')"
   ]
  },
  {
   "cell_type": "markdown",
   "id": "7a8bfb43",
   "metadata": {},
   "source": [
    "# Preprocessing using Lemmatization"
   ]
  },
  {
   "cell_type": "markdown",
   "id": "422fe568",
   "metadata": {},
   "source": [
    "We create a lemmatizer token that reduces words to their root forms. This reduces the vocabulary size.\n"
   ]
  },
  {
   "cell_type": "code",
   "execution_count": 68,
   "id": "e7aa7a95",
   "metadata": {},
   "outputs": [],
   "source": [
    "class LemmaTokenizer(object):\n",
    "    \n",
    "    def __init__(self):\n",
    "        self.wnl = WordNetLemmatizer()\n",
    "        \n",
    "    def __call__(self, tweets):\n",
    "        return [self.wnl.lemmatize(self.wnl.lemmatize(self.wnl.lemmatize(tok, pos='n'), pos='v'), pos='a') for tok in word_tokenize(tweets)]\n",
    "    "
   ]
  },
  {
   "cell_type": "markdown",
   "id": "f7932f42",
   "metadata": {},
   "source": [
    "# Using bi-grams + unigrams as feature"
   ]
  },
  {
   "cell_type": "code",
   "execution_count": 69,
   "id": "eff5b79a",
   "metadata": {},
   "outputs": [
    {
     "name": "stderr",
     "output_type": "stream",
     "text": [
      "C:\\Users\\adnan\\anaconda3\\envs\\data_analytics\\lib\\site-packages\\sklearn\\feature_extraction\\text.py:516: UserWarning: The parameter 'token_pattern' will not be used since 'tokenizer' is not None'\n",
      "  warnings.warn(\n"
     ]
    },
    {
     "name": "stdout",
     "output_type": "stream",
     "text": [
      "['ocwen', 'reach', 'settlement', 'with', 'california', 'regulator', 'ocwen reach', 'reach settlement', 'settlement with', 'with california', 'california regulator', 'rt', '@', 'cash_cow', '$', 'tlt', 'still', 'ha', 'a', 'rise']\n"
     ]
    }
   ],
   "source": [
    "vectorizer = CountVectorizer(tokenizer=LemmaTokenizer(), ngram_range=(1,2))\n",
    "vectorizer.fit(train_documents)\n",
    "X_train = vectorizer.transform(train_documents)\n",
    "X_val = vectorizer.transform(val_documents)\n",
    "X_test_documents = vectorizer.transform(test_documents)\n",
    "# Print out some of the features in the vocabulary:\n",
    "print(list(vectorizer.vocabulary_)[:20])"
   ]
  },
  {
   "cell_type": "code",
   "execution_count": 70,
   "id": "978adde5",
   "metadata": {},
   "outputs": [
    {
     "name": "stdout",
     "output_type": "stream",
     "text": [
      "Vocabulary size: 10638\n"
     ]
    }
   ],
   "source": [
    "print(f'Vocabulary size: {len(vectorizer.vocabulary_)}')\n",
    "vocabulary = vectorizer.vocabulary_"
   ]
  },
  {
   "cell_type": "markdown",
   "id": "ded1bed2",
   "metadata": {},
   "source": [
    "## Fitting to model"
   ]
  },
  {
   "cell_type": "code",
   "execution_count": 85,
   "id": "bf44eb6d",
   "metadata": {},
   "outputs": [
    {
     "name": "stdout",
     "output_type": "stream",
     "text": [
      "              precision    recall  f1-score   support\n",
      "\n",
      "           0       0.75      0.54      0.63        50\n",
      "           1       0.90      0.29      0.44        31\n",
      "           2       0.69      0.94      0.79        97\n",
      "\n",
      "    accuracy                           0.71       178\n",
      "   macro avg       0.78      0.59      0.62       178\n",
      "weighted avg       0.74      0.71      0.69       178\n",
      "\n"
     ]
    },
    {
     "data": {
      "image/png": "[encoded data removed]",
      "text/plain": [
       "<Figure size 640x480 with 2 Axes>"
      ]
     },
     "metadata": {},
     "output_type": "display_data"
    }
   ],
   "source": [
    "classifier = LogisticRegression()\n",
    "classifier.fit(X_train, train_labels)\n",
    "y_test_pred = classifier.predict(X_val)\n",
    "cm = confusion_matrix(val_labels, y_test_pred)\n",
    "cm_display = ConfusionMatrixDisplay(cm).plot()\n",
    "print(classification_report(val_labels, y_test_pred))"
   ]
  },
  {
   "cell_type": "code",
   "execution_count": null,
   "id": "a053c690",
   "metadata": {},
   "outputs": [],
   "source": []
  },
  {
   "cell_type": "markdown",
   "id": "955668c0",
   "metadata": {},
   "source": [
    "# Using POS-NEG lexicon features"
   ]
  },
  {
   "cell_type": "code",
   "execution_count": 72,
   "id": "d3e4c148",
   "metadata": {},
   "outputs": [],
   "source": [
    "\n",
    "analyser = SentimentIntensityAnalyzer()"
   ]
  },
  {
   "cell_type": "code",
   "execution_count": 73,
   "id": "838753f1",
   "metadata": {},
   "outputs": [],
   "source": [
    "vocabulary = vectorizer.vocabulary_\n",
    "\n",
    "lex_pos_scores = np.zeros((1, len(vocabulary)))\n",
    "lex_neg_scores = np.zeros((1, len(vocabulary)))\n",
    "\n",
    "for i, term in enumerate(vocabulary):\n",
    "    if term in analyser.lexicon and analyser.lexicon[term] > 0:\n",
    "        lex_pos_scores[0, i] = 1\n",
    "    elif term in analyser.lexicon and analyser.lexicon[term] < 0:\n",
    "        lex_neg_scores[0, i] = 1"
   ]
  },
  {
   "cell_type": "code",
   "execution_count": 74,
   "id": "d0b7078a",
   "metadata": {},
   "outputs": [],
   "source": [
    "# This enables u to get the total positive and total negative counts for each set:\n",
    "lex_pos_train = np.sum(X_train.multiply(lex_pos_scores), axis=1)\n",
    "lex_pos_val = np.sum(X_val.multiply(lex_pos_scores), axis=1)\n",
    "lex_pos_test = np.sum(X_test_documents.multiply(lex_pos_scores), axis=1)\n",
    "\n",
    "lex_neg_train = np.sum(X_train.multiply(lex_neg_scores), axis=1)\n",
    "lex_neg_val = np.sum(X_val.multiply(lex_neg_scores), axis=1)\n",
    "lex_neg_test = np.sum(X_test_documents.multiply(lex_neg_scores), axis=1)"
   ]
  },
  {
   "cell_type": "code",
   "execution_count": 75,
   "id": "a7f1ff75",
   "metadata": {},
   "outputs": [],
   "source": [
    "X_train = hstack((X_train, lex_pos_train, lex_neg_train))\n",
    "X_val = hstack((X_val, lex_pos_val, lex_neg_val))\n",
    "X_test_documents = hstack((X_test_documents, lex_pos_test, lex_neg_test))"
   ]
  },
  {
   "cell_type": "markdown",
   "id": "79970dc2",
   "metadata": {},
   "source": [
    "## refitting model"
   ]
  },
  {
   "cell_type": "code",
   "execution_count": 86,
   "id": "fb1b3bb8",
   "metadata": {},
   "outputs": [
    {
     "name": "stdout",
     "output_type": "stream",
     "text": [
      "              precision    recall  f1-score   support\n",
      "\n",
      "           0       0.75      0.54      0.63        50\n",
      "           1       0.90      0.29      0.44        31\n",
      "           2       0.69      0.94      0.79        97\n",
      "\n",
      "    accuracy                           0.71       178\n",
      "   macro avg       0.78      0.59      0.62       178\n",
      "weighted avg       0.74      0.71      0.69       178\n",
      "\n"
     ]
    },
    {
     "data": {
      "image/png": "[encoded data removed]",
      "text/plain": [
       "<Figure size 640x480 with 2 Axes>"
      ]
     },
     "metadata": {},
     "output_type": "display_data"
    }
   ],
   "source": [
    "\n",
    "classifier = LogisticRegression()\n",
    "classifier.fit(X_train, train_labels)\n",
    "y_test_pred = classifier.predict(X_val)\n",
    "# Checking performance\n",
    "cm = confusion_matrix(val_labels, y_test_pred)\n",
    "cm_display = ConfusionMatrixDisplay(cm).plot()\n",
    "print(classification_report(val_labels, y_test_pred))"
   ]
  },
  {
   "cell_type": "code",
   "execution_count": 77,
   "id": "e8a26005",
   "metadata": {},
   "outputs": [
    {
     "name": "stdout",
     "output_type": "stream",
     "text": [
      "Tweet: CompaniesLSE adds ex-SEC head Schapiro to board; true label = 1, prediction = 2.\n",
      "Tweet: $AMD big dumping... would not touch it for a while; true label = 0, prediction = 2.\n",
      "Tweet: Looks like its booking a one way ticket to its 40 week MA near 50. Losing 10 week here $LULU http://chart.ly/7xb9h9b; true label = 1, prediction = 2.\n",
      "Tweet: Sheryl Sandberg Sells 109,000 Shares of Facebook Inc $FB Stock https://t.co/3vXT7AMnpk via @RatingsNetwork; true label = 1, prediction = 2.\n",
      "Tweet: $RIG whos ever pushing this is crazy, get ready for suspended dividend (turning into growth stock) blow out earnings, and major buyback, lol; true label = 1, prediction = 2.\n",
      "Tweet: $SPY Tomorrow party time for the Bears!! $GOOG and $MSFT -5.5%; true label = 0, prediction = 2.\n",
      "Tweet: $GPS Gap September Comparable Store Sales -4%; true label = 0, prediction = 2.\n",
      "Tweet: Glencore fight back over debt fears lifts shares; true label = 2, prediction = 0.\n",
      "Tweet: $ENDP being sued by FTC.....nobody will buy them with that hanging over their heads; true label = 0, prediction = 2.\n",
      "Tweet: #Apple breaks major support, here are some levels to watch - http://stks.co/jRmW $AAPL $QQQ; true label = 0, prediction = 2.\n"
     ]
    }
   ],
   "source": [
    "# Key part is investigating the errors, so let's do that:\n",
    "error_indexes = y_test_pred != val_labels  # compare predictions to gold labels\n",
    "\n",
    "# get the text of tweets where the classifier made an error:\n",
    "tweets_err = np.array(val_documents)[error_indexes]\n",
    "\n",
    "# WRITE YOUR CODE HERE\n",
    "pred_err = y_test_pred[error_indexes]\n",
    "gold_err = np.array(val_labels)[error_indexes]\n",
    "\n",
    "for i in range(10):  # just print the first ten\n",
    "    print(f'Tweet: {tweets_err[i]}; true label = {gold_err[i]}, prediction = {pred_err[i]}.')"
   ]
  },
  {
   "cell_type": "markdown",
   "id": "22152e2b",
   "metadata": {},
   "source": [
    "# Performance on test set"
   ]
  },
  {
   "cell_type": "code",
   "execution_count": 87,
   "id": "36b7100d",
   "metadata": {},
   "outputs": [
    {
     "name": "stdout",
     "output_type": "stream",
     "text": [
      "              precision    recall  f1-score   support\n",
      "\n",
      "           0       0.68      0.55      0.61        62\n",
      "           1       0.71      0.13      0.22        39\n",
      "           2       0.69      0.94      0.80       122\n",
      "\n",
      "    accuracy                           0.69       223\n",
      "   macro avg       0.70      0.54      0.54       223\n",
      "weighted avg       0.69      0.69      0.64       223\n",
      "\n"
     ]
    },
    {
     "data": {
      "image/png": "[encoded data removed]",
      "text/plain": [
       "<Figure size 640x480 with 2 Axes>"
      ]
     },
     "metadata": {},
     "output_type": "display_data"
    }
   ],
   "source": [
    "# Let's test the performance on the test set.\n",
    "y_test_pred = classifier.predict(X_test_documents)\n",
    "# Checking performance\n",
    "cm = confusion_matrix(test_labels, y_test_pred)\n",
    "cm_display = ConfusionMatrixDisplay(cm).plot()\n",
    "print(classification_report(test_labels, y_test_pred))"
   ]
  },
  {
   "cell_type": "markdown",
   "id": "4d5a5e05",
   "metadata": {},
   "source": [
    "# HDP"
   ]
  },
  {
   "cell_type": "code",
   "execution_count": 283,
   "id": "b20e3f07",
   "metadata": {},
   "outputs": [
    {
     "name": "stdout",
     "output_type": "stream",
     "text": [
      "Number of training instances = 710\n",
      "Number of validation instances = 178\n",
      "Number of test instances = 223\n"
     ]
    }
   ],
   "source": [
    "from sklearn.model_selection import train_test_split\n",
    "\n",
    "# Split test data from training data\n",
    "train_documents, test_documents, train_labels, test_labels = train_test_split(\n",
    "    all_text, \n",
    "    all_labels, \n",
    "    test_size=0.2, \n",
    "    stratify=all_labels  # make sure the same proportion of labels is in the test set and training set\n",
    ")\n",
    "\n",
    "# Split validation data from training data\n",
    "train_documents, val_documents, train_labels, val_labels = train_test_split(\n",
    "    train_documents, \n",
    "    train_labels, \n",
    "    test_size=0.2, \n",
    "    stratify=train_labels  # make sure the same proportion of labels is in the test set and training set\n",
    ")\n",
    "\n",
    "print(f'Number of training instances = {len(train_documents)}')\n",
    "print(f'Number of validation instances = {len(val_documents)}')\n",
    "print(f'Number of test instances = {len(test_documents)}')\n"
   ]
  },
  {
   "cell_type": "code",
   "execution_count": 284,
   "id": "4b20191d",
   "metadata": {},
   "outputs": [],
   "source": [
    "from sklearn.feature_extraction.text import CountVectorizer\n",
    "from nltk.stem import WordNetLemmatizer \n",
    "from gensim.utils import simple_preprocess\n",
    "from gensim.parsing.preprocessing import STOPWORDS # find stopwords\n",
    "import numpy as np\n",
    "\n",
    "np.random.seed(400)  # We fix the random seed to ensure we get consistent results when we repeat the lab.\n",
    "\n",
    "# Tokenize and lemmatize\n",
    "def preprocess(text):\n",
    "    result=[]\n",
    "    for token in simple_preprocess(text) :  # Tokenize, remove very short and very long words, convert to lower case, remove words containing non-letter characters\n",
    "        if token not in STOPWORDS:\n",
    "            result.append(WordNetLemmatizer().lemmatize(token, 'v'))\n",
    "            \n",
    "    return result\n",
    "\n",
    "# Create a list of preprocessed documents\n",
    "processed = []\n",
    "for doc in train_documents:\n",
    "    processed.append(preprocess(doc))"
   ]
  },
  {
   "cell_type": "code",
   "execution_count": 285,
   "id": "21f121ca",
   "metadata": {},
   "outputs": [
    {
     "name": "stdout",
     "output_type": "stream",
     "text": [
      "[['renatta', 'fr', 'van', 'kjepeneter', 'rptl', 'strong', 'close', 'plnr', 'come'], ['aapl', 'break', 'downtrend', 'dma', 'prove', 'stiff', 'resistance', 'short', 'term', 'https', 'vlzlgvihzv'], ['ceos', 'bpm', 'ubi', 'meet', 'italy', 'econ', 'minister', 'talk', 'heat'], ['royal', 'mail', 'chairman', 'donald', 'brydon', 'set', 'step'], ['prgn', 'right'], ['long', 'pcln'], ['britain', 'ftse', 'outperform', 'europe', 'royal', 'mail', 'tesco', 'rise'], ['aspen', 'buy', 'anaesthetics', 'astrazeneca', 'million'], ['whats', 'lulu', 'number', 'look', 'good', 'great', 'good', 'think', 'conference', 'instill', 'confidence'], ['ch_roark', 'unxl', 'like', 'ascend', 'triangle', 'minute', 'chart', 'breakout', 'come', 'monday', 'http', 'stks', 'glooks', 'promise'], ['sanction', 'gazprom', 'shell', 'alliance', 'plan', 'jeopardy'], ['share', 'jump', 'silver', 'price', 'break'], ['spy', 'people', 'call', 'bearish', 'head', 'exit', 'maybe', 'crash', 'disturb'], ['ea', 'point', 'facebook', 'game', 'accuse', 'znga', 'copyright', 'infringement', 'http', 'stks'], ['nyse', 'owner', 'ice', 'consider', 'offer', 'lse'], ['update', 'eu', 'regulator', 'back', 'approval', 'gsk', 'injectable', 'asthma', 'drug'], ['chime', 'communications', 'set', 'acquire', 'wpp', 'providence'], ['hotels', 'group', 'share', 'price', 'climb', 'bn', 'special', 'dividend'], ['surprise', 'fb', 'fall', 'think', 'support', 'guess'], ['tsla', 'days', 'row', 'neeeeds'], ['sabmiller', 'revenue', 'hit', 'weaker', 'em', 'currencies'], ['royal', 'mail', 'share', 'price', 'edge', 'lower', 'group', 'raise', 'stamp', 'price'], ['ocn', 'stuff', 'look', 'add', 'share', 'new', 'high', 'breakout'], ['standard', 'charter', 'share', 'plunge', 'fitch', 'downgrade'], ['tesco', 'lead', 'ftse', 'higher', 'clubcard', 'bid', 'report'], ['bot', 'amzn', 'weekly', 'call'], ['kraft', 'heinz', 'merger', 'come', 'speedy', 'weeks'], ['cgrantwsj', 'think', 'tsla', 'bubble', 'time', 'long', 'ppl', 'love', 'cars', 'get', 'fund'], ['hotels', 'deny', 'report', 'starwood', 'merger', 'talk'], ['tsla', 'weakest', 'todays', 'dt', 'watchlist'], ['goldman', 'sachs', 'barclays', 'hsbc', 'downplay', 'brexit', 'threat'], ['aapl', 'bounce', 'support'], ['bhp', 'billiton', 'drag', 'ftse', 'lower', 'slash', 'dividend'], ['conagra', 'name', 'hillshire', 'farm', 'ceo', 'connolly', 'post'], ['deutsche', 'bank', 'cut', 'sbux'], ['barclays', 'plc', 'lloyds', 'bank', 'group', 'plc', 'bank', 'buy', 'today'], ['aapl', 'aapl', 'gundlach', 'slam', 'ipad', 'mini', 'see', 'downside', 'http', 'stks', 'bdqv'], ['berkshire', 'disclose', 'unit', 'tie', 'iran', 'open', 'probe'], ['bbcn', 'bancorp', 'buy', 'wilshire', 'bancorp', 'bln', 'deal'], ['aapl', 'stock', 'climb', 'barron', 'see', 'upside', 'jim', 'cramer', 'https', 'lkld', 'mvkbq'], ['barclays', 'poise', 'replace', 'sir', 'mike', 'rake', 'head', 'exit'], ['astrazeneca', 'pay', 'inovio', 'million', 'cancer', 'drug'], ['lloyds', 'cut', 'job', 'year', 'restructure', 'strategy'], ['britain', 'ftse', 'get', 'lift', 'prudential', 'result'], ['gsk', 'join', 'china', 'trade', 'push', 'uk', 'trumpet', 'healthcare', 'deal'], ['hsbc', 'hit', 'fresh', 'detail', 'tax', 'evasion', 'claim'], ['spy', 'bull', 'end', 'wait', 'setup'], ['iwm', 'relative', 'weakness', 'pretty', 'apparent', 'short', 'boat', 'get', 'prefer', 'boat', 'closer'], ['aegn', 'macd', 'adx', 'cross', 'signal', 'line', 'long', 'setup', 'http', 'stks', 'qzzx'], ['rad', 'consider', 'opportunity', 'add', 'position', 'company', 'right', 'track', 'improve', 'sales'], ['jnk', 'http', 'stks', 'fcm', 'want', 'risk', 'appetite', 'high'], ['rule', 'set', 'lower', 'limit', 'potential', 'fine', 'bp'], ['tesla', 'issue', 'model', 'recall', 'https', 'kmqvwhqq', 'tsla'], ['aldi', 'lidl', 'expansion', 'plan', 'speed', 'ahead', 'tesco', 'sainsbury', 'morrisons'], ['notable', 'gainers', 'liquid', 'option', 'name', 'morning', 'include', 'stx', 'nem', 'wdc', 'gme'], ['aapl', 'short', 'term', 'fund', 'redemption', 'liquidations', 'channel', 'clear', 'soon', 'solid', 'foot', 'new', 'floor', 'come', 'july'], ['update', 'bp', 'shareholders', 'disclosure', 'climate', 'change', 'risk'], ['fb', 'bearish', 'pattern', 'consider', 'bullish', 'sentiment', 'impressive', 'bearish', 'https', 'tajf', 'ch', 'qh'], ['supermarket', 'stock', 'rally', 'tesco', 'plan', 'axe', 'non', 'core', 'uk', 'assets', 'tsco', 'https', 'bmvhcrwrea'], ['aberdeen', 'post', 'outflows', 'say', 'condition', 'remain', 'challenge'], ['lse', 'get', 'hong', 'kong', 'regulatory', 'nod', 'hk', 'firm', 'lse', 'members'], ['fda', 'panel', 'back', 'safety', 'update', 'astrazeneca', 'takeda', 'drug'], ['sanofi', 'poach', 'astrazeneca', 'scientist', 'new', 'research', 'head'], ['stocktwits', 'kbkiwi', 'tsla', 'tesla', 'model', 'sales', 'exceed', 'target', 'profitability', 'guidance', 'amend', 'upward', 'http', 'stks', 'jq'], ['aapl', 'resistance', 'area'], ['twtr', 'sad', 'thing', 'takeover', 'rumor', 'sell', 'day'], ['legal', 'general', 'arm', 'buy', 'pct', 'stake', 'mediacityuk', 'manchester'], ['european', 'stock', 'hover', 'near', 'week', 'low', 'dialog', 'bhp', 'slump'], ['ackman', 'email', 'say', 'support', 'valeant', 'ceo', 'pearson'], ['tesco', 'plc', 'recovery', 'continue', 'cash', 'infusion'], ['luv', 'continue', 'consolidate', 'previous', 'break', 'area'], ['acom', 'http', 'stks', 'downside', 'breakout', 'look', 'come', 'soon'], ['eln', 'long', 'congrats', 'hod'], ['petrofac', 'book', 'cost', 'shetland', 'gas', 'terminal', 'delay'], ['rt', 'robbielolz', 'nflx', 'close', 'look', 'good', 'bull', 'hold', 'position', 'close', 'buy'], ['industry', 'newswolseley', 'confident', 'reslilience', 'amid', 'mix', 'market'], ['rnn', 'stay', 'open', 'good', 'sign'], ['aapl', 'resistance', 'right', 'sell', 'share', 'buy', 'dip', 'go', 'gap', 'zone'], ['refile', 'aviva', 'investors', 'bln', 'euros', 'assets', 'axa', 'fund', 'arm'], ['update', 'bp', 'settle', 'oil', 'spill', 'relate', 'claim', 'halliburton', 'transocean'], ['shire', 'propose', 'bln', 'share', 'tie', 'baxalta'], ['rt', 'dasan', 'tmtanalyst', 'aapl', 'master', 'supply', 'chain', 'corner', 'nand', 'apple', 'master', 'supply', 'chain'], ['royal', 'dutch', 'shell', 'profit', 'rise', 'dividend'], ['word', 'street', 'allergen', 'look', 'endo', 'international', 'fail', 'pfizer', 'merger', 'call', 'active', 'endp'], ['rdc', 'rowan', 'expand', 'share', 'repurchase', 'program', 'million'], ['sds', 'pick', 'speed', 'call', 'http', 'stks', 'eik', 'week', 'call', 'http', 'stks', 'eil'], ['dcth', 'near', 'hod'], ['baird', 'upgrade', 'tesla', 'motor', 'tsla', 'outperform', 'https', 'fa', 'atoqlw'], ['break', 'week', 'highs', 'time', 'look', 'great', 'ahs', 'baby', 'post', 'ige', 'irdm', 'ewbc', 'phys', 'ulta', 'vnet', 'biv', 'https', 'jzuzmu'], ['british', 'american', 'tobacco', 'drop', 'sue', 'pwc', 'pollution', 'scandal'], ['tripadvisor', 'jump', 'rumor', 'https', 'lwcdxmbr', 'trip'], ['rt', 'bman', 'lng', 'look', 'prim', 'eght', 'poise', 'run'], ['profit', 'take', 'aapl', 'morning', 'pressure', 'stock', 'bullish', 'aapl'], ['bbby', 'stock', 'options', 'trade', 'double', 'money', 'https', 'oa', 'loirijl', 'thestreet'], ['pcln', 'run', 'sma', 'acquisition', 'news'], ['downgrade', 'barclays', 'rbs', 'government', 'bailout', 'fear'], ['philippines', 'san', 'miguel', 'say', 'partner', 'kirin', 'bid', 'sabmiller'], ['starbucks', 'digital', 'strategy', 'drive', 'significant', 'growth', 'customer', 'loyalty', 'https', 'ci', 'iyo', 'sbux'], ['costco', 'premier', 'retail', 'dividend', 'play', 'https', 'fa', 'cnh', 'cost'], ['glencore', 'slump', 'percent', 'debt', 'fear', 'grow'], ['bp', 'statoil', 'withdraw', 'staff', 'algeria', 'follow', 'rocket', 'attack'], ['look', 'strong', 'bounce', 'spy', 'lunchtime', 'rally', 'come', 'dia', 'iwm', 'qqq', 'aa', 'fb'], ['analysts', 'impress', 'progress', 'tesla', 'flagship', 'factory', 'spend', 'upgrade', 'https', 'sabxcsn', 'cd', 'tsrandall', 'tsla'], ['ppg', 'descend', 'triangle', 'like', 'upside', 'break', 'http', 'stks', 'ny'], ['aapl', 'nibble', 'small', 'long', 'buy', 'min', 'chart'], ['think', 'fms', 'challendge', 'ema', 'distant', 'future', 'look', 'yesterday', 'volume'], ['glencore', 'cut', 'budget', 'plan', 'divest', 'lonmin'], ['slump', 'weir', 'lead', 'ftse', 'record', 'high'], ['lock', 'fb', 'put', 'nice', 'gain'], ['ap', 'caterpillar', 'post', 'percent', 'jump', 'profit', 'steep', 'global', 'sales', 'increase', 'top', 'wall', 'st', 'view', 'cat'], ['update', 'easyjet', 'passenger', 'number', 'aer', 'lingus', 'traffic', 'february'], ['johnson', 'matthey', 'rev', 'clean', 'air', 'drive'], ['short', 'faz', 'know', 'mean', 'market', 'tank'], ['day', 'sma', 'big', 'hurdle', 'good', 'base', 'build', 'nflx', 'https', 'imkygo', 'cyc'], ['london', 'stock', 'exchange', 'shareholders', 'approve', 'merger', 'deutsche', 'bã', 'rse'], ['miners', 'meltdown', 'bhp', 'rio', 'tinto', 'sink', 'commodities', 'rout'], ['aapl', 'sure', 'short', 'hold', 'breath', 'hop', 'miracle', 'lol'], ['know', 'seat', 'sit', 'tsla', 'tesla', 'recall', 'model', 'cars', 'https', 'gwz', 'zc'], ['tullow', 'oil', 'suspend', 'dividend', 'amid', 'oil', 'price', 'fall'], ['comment', 'time', 'embrace', 'dividend', 'growth', 'https', 'wc', 'qfp', 'tn', 'abbv', 'csco', 'wyn'], ['sophos', 'aim', 'raise', 'london', 'ipo'], ['trlpc', 'crh', 'back', 'lafarge', 'holcim', 'asset', 'buy', 'bln', 'euro', 'bridge', 'loan'], ['vmw', 'get', 'nice', 'push', 'today', 'follow', 'small', 'sweepers', 'morning'], ['ubnt', 'have', 'trouble', 'resistance', 'line', 'resolve', 'soon', 'cheri', 'strattonite', 'http', 'stks', 'su'], ['gnrc', 'find', 'support', 'day', 'line', 'far'], ['ftse', 'fall', 'china', 'devaluation', 'hit', 'burberry', 'mine', 'stock'], ['aviva', 'shut', 'friends', 'life', 'head', 'office', 'rapid', 'integration'], ['long', 'position', 'ip', 'scale', 'http', 'stks', 'siln'], ['long', 'endp', 'agn', 'rumor'], ['aviva', 'weigh', 'cash', 'handout', 'beat', 'profit', 'forecast'], ['bac', 'adsk', 'nflx', 'long', 'morning'], ['hk', 'jan', 'sink', 'ship'], ['citrix', 'systems', 'ctxs', 'position', 'increase', 'mizuho', 'https', 'lkq', 'flp', 'sharestocknews'], ['add', 'bbby', 'jimcramer', 'wrong', 'profitable', 'merchant', 'profitable', 'store'], ['yhoo', 'fishy', 'action', 'new', 'party', 'interest', 'dailymail', 'bounce', 'retreat', 'short', 'mean', 'action', 'question', 'big', 'thoughts'], ['fda', 'approve', 'astrazeneca', 'iressa', 'lung', 'cancer', 'treatment'], ['crh', 'concrete', 'bid', 'holcim', 'lafarge', 'assets'], ['uvxy', 'chum', 'key', 'support', 'level', 'careful'], ['phew', 'far', 'good', 'bbry', 'break', 'coz', 'tell', 'key', 'support', 'level'], ['professional', 'anal', 'yst', 'mouth', 'aapl', 'yr', 'endâ', 'hun', 'long', 'leap'], ['slv', 'pos', 'say', 'years', 'go', 'lower', 'forget', 'short'], ['ab', 'inbev', 'latest', 'bid', 'say', 'unlikely', 'win', 'sabmiller', 'approval'], ['gdx', 'gdxj', 'jnug', 'strong', 'today', 'junior', 'gold', 'miners', 'eye', 'gap'], ['adbe', 'technical', 'alert', 'expansion', 'breakout', 'gilligan', 'island', 'sell', 'setup', 'volume', 'surge', 'new', 'https', 'lxx', 'tknfh'], ['stock', 'little', 'change', 'near', 'record', 'barclays', 'shell', 'fall'], ['sainsbury', 'say', 'outperform', 'rival', 'tough', 'market'], ['stock', 'large', 'players', 'sell', 'http', 'stks', 'vel', 'crox', 'gogo', 'ino'], ['hargreaves', 'lansdown', 'share', 'price', 'fall', 'cost', 'mount', 'pension'], ['trend', 'underpin', 'uk', 'sales', 'growth', 'kingfisher'], ['dnkn', 'kkd', 'dpz', 'loco', 'inside', 'week', 'buy', 'trigger', 'http', 'stks', 'vv', 'http', 'stks', 'ebn'], ['eu', 'drop', 'shell', 'bp', 'statoil', 'ethanol', 'benchmark', 'investigation'], ['builder', 'persimmon', 'hail', 'rise', 'house', 'sales'], ['easyjet', 'attract', 'passengers', 'june', 'lag', 'ryanair'], ['joerazorback', 'time', 'think', 'aapl', 'miss', 'generally', 'speak', 'market', 'near', 'think', 'market', 'go'], ['ftse', 'fall', 'month', 'low', 'greek', 'debt', 'concern', 'easyjet', 'skid'], ['like', 'breakout', 'long', 'get', 'ma', 'run'], ['fb', 'gettin', 'buy', 'zone', 'soon'], ['bbry', 'let', 'today'], ['hrl', 'ready', 'pop', 'http', 'stks', 'ny'], ['millercoors', 'deliver', 'underlie', 'net', 'income', 'growth'], ['megaas', 'aapl', 'mcdonalds', 'big', 'grow', 'success', 'years', 'bigmac', 'apple', 'update', 'improbe', 'iphone', 'ipad'], ['nflx', 'easy', 'pop', 'end', 'feb', 'steady', 'go', 'second', 'earn', 'report', 'year', 'end', 'matter'], ['london', 'morning', 'brief', 'hsbc', 'standard', 'charter', 'share', 'rise'], ['companieshome', 'retail', 'trim', 'gain', 'consider', 'play'], ['csx', 'strong', 'rail', 'today', 'break', 'intraday', 'resistance', 'https', 'ea', 'fbvuqgp'], ['atvi', 'ooks', 'pretty', 'bullish', 'short', 'term', 'perspective', 'get', 'good', 'chance', 'maybe', 'slide', 'stock', 'invest'], ['insurers', 'admiral', 'blow', 'hot', 'cold', 'aviva', 'soar', 'pre', 'friends', 'life', 'merger'], ['idcc', 'share', 'total', 'value', 'company', 'crunch', 'technology', 'diamond', 'rough'], ['renew', 'ab', 'inbev', 'bid', 'sabmiller', 'up', 'stake', 'beer', 'battle'], ['chrm', 'loooooongggggg', 'base'], ['aapl', 'beat', 'hat', 'hhhmm', 'opposite', 'happen'], ['tesco', 'sales', 'recover', 'focus', 'return', 'core', 'business'], ['nugt', 'longer', 'term', 'bullish'], ['xli', 'potential', 'intermediate', 'uptrend', 'chart', 'http', 'stks', 'tdf'], ['camt', 'look', 'like', 'break'], ['bhp', 'billiton', 'post', 'big', 'loss', 'slash', 'dividend'], ['load', 'bsx', 'yesterday', 'look', 'good', 'think', 'way', 'upside', 'downside'], ['barclays', 'sell', 'benchmark', 'indices', 'unit', 'bloomberg'], ['celg', 'near', 'open', 'rally', 'higher', 'wk', 'good', 'place', 'shoot', 'https', 'zwhthsvfsf'], ['correct', 'shire', 'buy', 'dyax', 'bln'], ['isrg', 'isrg', 'short', 'http', 'stks', 'vvu', 'http', 'stks', 'qrm'], ['long', 'aapl'], ['ctrp', 'break', 'resistance', 'watch', 'redtogreen', 'breakout', 'right', 'gate', 'tomorrow', 'morning', 'stock', 'https', 'vxfuuit'], ['yahoo', 'stock', 'bid', 'war', 'pick', 'company', 'https', 'jdnzxdcmkl', 'yhoo', 'https', 'hmoegfhgvn'], ['itv', 'pursue', 'takeover', 'canada', 'entertainment', 'bloomberg'], ['tsla', 'recall', 'model', 'suvs', 'seat', 'belt', 'fix'], ['crk', 'time', 'accumulate', 'long', 'position', 'far', 'upside', 'downside'], ['facebook', 'user', 'engagement', 'fall', 'https', 'tqmmt', 'fb', 'https', 'sedqrwgdkt'], ['bae', 'systems', 'sales', 'boost', 'european', 'typhoon', 'currencies'], ['coh', 'gain', 'momentum', 'nice', 'buy', 'signal', 'long', 'http', 'stks', 'tah'], ['ibm', 'stay', 'strong'], ['rbs', 'chairman', 'admit', 'surprise', 'size', 'regulatory', 'penalties'], ['end', 'day', 'scan', 'stochastic', 'overbought', 'jdst', 'free', 'blrx', 'lpg', 'afsi', 'dvax', 'hdge', 'aht', 'alr', 'asmb', 'www', 'dailystockplays', 'com'], ['aapl', 'weekly', 'move', 'average', 'create', 'lower', 'high', 'https', 'vt', 'ppzy', 'uy'], ['rnn', 'bleed', 'monday'], ['companieslse', 'add', 'ex', 'sec', 'head', 'schapiro', 'board'], ['aapl', 'big', 'fall'], ['siga', 'bid', 'reargument', 'deny', 'judge'], ['tsla', 'recall', 'model', 'vehicles', 'share', 'volatile', 'https', 'tckqznmiqx', 'tsla', 'tech', 'stockmarket', 'https', 'femhjtamqj'], ['bhp', 'billiton', 'slash', 'dividend', 'post', 'billion', 'net', 'loss'], ['beat', 'internet', 'company', 'ripe', 'takeover', 'target', 'twitter', 'twtr', 'linkedin', 'lnkd', 'yahoo', 'yhoo', 'groupon', 'grpn'], ['ab', 'inbev', 'sell', 'sabmiller', 'stake', 'china', 'snow', 'beer'], ['supreme', 'court', 'uphold', 'million', 'jury', 'award', 'exxonmobil'], ['marketsbp', 'promote', 'upstream', 'boss', 'deputy', 'ceo'], ['christmas', 'save', 'sainsbury', 'plc', 'tesco', 'plc'], ['short', 'atvi'], ['bbry', 'hear', 'rumour', 'major', 'joint', 'venture', 'announcement'], ['severn', 'trent', 'share', 'price', 'rise', 'half', 'profit', 'inch', 'customer'], ['aapl', 'want', 'lower', 'wave', 'get', 'smaller', 'min'], ['update', 'sabmiller', 'nd', 'quarter', 'underlie', 'sales', 'rise', 'forex', 'impact', 'margins'], ['talktalk', 'hire', 'bae', 'systems', 'investigate', 'cyber', 'attack'], ['juniper', 'tumble', 'warn', 'cisco', 'lower', 'https', 'bplj', 'jnpr', 'csco'], ['utsi', 'http', 'stks', 'ur', 'long', 'setup', 'report', 'good', 'earn'], ['exclusive', 'bp', 'china', 'cnpc', 'unveil', 'oil', 'alliance', 'source'], ['short', 'increase', 'http', 'stks', 'ryandetrick', 'spy'], ['eu', 'regulator', 'back', 'approval', 'gsk', 'injectable', 'asthma', 'drug'], ['fda', 'approve', 'shire', 'vyvanse', 'binge', 'eat', 'disorder'], ['royal', 'mail', 'turnaround', 'prove', 'expensive', 'tough', 'uk', 'market'], ['complete', 'uk', 'largest', 'medically', 'underwrite', 'bulk', 'pension', 'risk', 'deal'], ['cat', 'hangin', 'thread', 'click', 'away', 'cliff', 'drop', 'need', 'follow', 'snap', 'vix'], ['aks', 'dj', 'ak', 'steel', 'revenue', 'rise', 'auto', 'sector', 'demand', 'acquisition'], ['amzn', 'long', 'earn', 'look', 'good'], ['juniper', 'tumble', 'warn', 'cisco', 'lower', 'jnpr', 'csco', 'https', 'bgvintk'], ['exact', 'exas', 'flag', 'strong', 'high', 'volume', 'exas', 'http', 'stks', 'ra'], ['rsol', 'buy', 'share', 'today'], ['pcln', 'try', 'break', 'daily', 'trend', 'line', 'big', 'happen', 'https', 'gy', 'adb', 'jsq', 'https', 'kpbbcgq', 'xy'], ['eli', 'lilly', 'lly', 'break', 'new', 'high', 'astrazeneca', 'collaboration'], ['sainsbury', 'cfo', 'rogers', 'replace', 'home', 'retail', 'ceo', 'walden'], ['fb', 've', 'dead', 'far', 'bloat', 'valuation', 'https', 'czcf', 'kbrlt'], ['ebay', 'nice', 'breakout', 'recent', 'consolidation', 'congrats', 'http', 'stks', 'tad'], ['tsla', 'recall', 'model', 'cars', 'stock', 'drop', 'hard'], ['hsc', 'receive', 'year', 'contract', 'new', 'saudi', 'arabian', 'steel'], ['fb', 'hit', 'sight', 'short', 'twtr'], ['update', 'auto', 'trader', 'share', 'leap', 'uk', 'biggest', 'private', 'equity', 'back', 'list'], ['isrg', 'pt', 'raise', 'leerink', 'keep', 'outperform', 'rat'], ['bg', 'group', 'appoint', 'new', 'ceo', 'month', 'early'], ['gld', 'http', 'stks', 'ow', 'closer', 'inspection', 'resistance', 'point', 'north', 'downward', 'trendline', 'chart'], ['avgo', 'great', 'growth', 'stk', 'raise', 'dividend', 'clearly', 'great', 'investment', 'http', 'stks'], ['fda', 'approve', 'astrazeneca', 'drug', 'advance', 'lung', 'cancer'], ['debt', 'lure', 'schroders', 'ecb', 'depress', 'rat'], ['fb', 'turn', 'early', 'trade', 'https', 'reuf', 'pzhbm'], ['kcg', 'bot'], ['key', 'level', 'watch', 'fb', 'today', 'watch', 'hold', 'support', 'http', 'stks', 'boh'], ['ctrp', 'bad', 'long', 'chart', 'sma', 'resistance'], ['ftse', 'edge', 'investors', 'cheer', 'kingfisher', 'result'], ['jd', 'hour', 'market', 'care', 'explain'], ['spy', 'weak', 'close'], ['fb', 'reject', 'highs', 'shortable'], ['aapl', 'break', 'descend', 'channel', 'hold'], ['amzn', 'new', 'hod', 'conviction', 'keep', 'watch', 'resistance'], ['gakrum', 'nice', 'chart', 'show', 'distinctive', 'channel', 'dip', 'spy'], ['aviva', 'fin', 'million', 'regulator', 'fee', 'fail'], ['gld', 'http', 'stks', 'jr', 'daily', 'chart', 'rsi', 'stoch', 'point', 'possible', 'lot', 'resistance'], ['synergy', 'pharma', 'soar', 'today', 'positive', 'phase', 'result', 'sgyp', 'http', 'stks', 'awg'], ['infection', 'worry', 'prompt', 'regulatory', 'review', 'gilead', 'leukaemia', 'drug', 'gild', 'https', 'vqxpz', 'yahoofinance'], ['fastjet', 'slam', 'easyjet', 'founder', 'stelios', 'go', 'public', 'take', 'legal', 'advice', 'letter', 'contractual'], ['activision', 'blizzard', 'media', 'network', 'announce', 'record', 'esports', 'viewership', 'https', 'biqlbtk', 'atvi', 'partner', 'hdsi', 'tournament'], ['expect', 'spy', 'close', 'aapl'], ['spy', 'bump', 'head', 'decline', 'daily', 'ma', 'overhead', 'resistance', 'big', 'brother', 'ma'], ['asdfllc', 'nice', 'pop', 'today', 'tell', 'ya', 'green', 'haha', 'funny', 'bring', 'actually', 'work', 'story', 'nok', 'moment'], ['iwm', 'condition', 'send', 'market', 'tumble', 'hit', 'week'], ['ugaz', 'cold', 'dent', 'massive', 'horizontal', 'rig', 'production', 'know', 'http', 'stks'], ['fb', 'nice', 'buyable', 'intraday', 'dip', 'right'], ['optimistic', 'amzn', 'fundementals', 'chart', 'look', 'like', 'poopoo', 'quarter'], ['randgold', 'profit', 'hit', 'poor', 'gold', 'price', 'dividend', 'increase'], ['bbry', 'bye', 'bye', 'sammy', 'hello', 'bb', 'sound', 'like', 'll', 'green', 'tomorrow'], ['news', 'feedftse', 'movers', 'ashtead', 'jump', 'strong', 'interims', 'glencore', 'bp'], ['baird', 'like', 'tsla', 'upgrade', 'outperform', 'lift', 'price', 'target', 'research', 'firm', 'see', 'capital', 'raise', 'necessary', 'qtrs'], ['sabmiller', 'buy', 'meantime', 'quench', 'thirst', 'craft', 'beer'], ['coke', 'dividend', 'google', 'dividend', 'passive', 'income', 'coke', 'take', 'goog', 'ko', 'https', 'qbsowjxost'], ['pay', 'price', 'dividend', 'cut', 'crisis', 'chief', 'say'], ['ingenious', 'hsbc', 'ubs', 'coutts', 'sue', 'tax', 'avoidance', 'clients'], ['esi', 'low', 'bk', 'real', 'possibility'], ['long', 'aapl', 'call'], ['hotels', 'quarter', 'global', 'room', 'revenue', 'lag', 'estimate'], ['zurich', 'insurance', 'consider', 'offer', 'uk', 'rival', 'rsa', 'insurance'], ['sell', 'tza', 'hedge', 'let', 'call', 'ride', 'solo'], ['agn', 'pypl', 'pressure', 'market', 'bullish', 'options', 'trade', 'morning', 'https', 'xg', 'nont'], ['fb', 'shift', 'minute', 'suspect', 'highs'], ['companiestesco', 'bad', 'start', 'xmas', 'kantar'], ['double', 'handle', 'buy', 'point', 'wmt', 'http', 'chart', 'ly', 'ml'], ['insurer', 'old', 'mutual', 'pick', 'standard', 'bank', 'hemphill', 'new', 'ceo'], ['buy', 'celg', 'ready', 'bounce'], ['irish', 'housebuilder', 'cairn', 'home', 'plan', 'london', 'list'], ['ctrp', 'break', 'https', 'je', 'rtkch'], ['kior', 'god', 'market', 'get', 'crush', 'today', 'gotta', 'hold', 'recover', 'tomorrow', 'imagine'], ['rbs', 'pay', 'billion', 'scrap', 'treasury', 'dividend', 'right'], ['axdx', 'get', 'bore', 'take', 'proprietary', 'profit', 'exit', 'like', 'option', 'liquidity', 'lousy', 'spread'], ['wmt', 'bullish', 'macd', 'crossover', 'rsi', 'sto', 'go', 'ma', 'res', 'run', 'http', 'stks', 'ggcq'], ['standard', 'charter', 'shift', 'emerge', 'market', 'strategy', 'losses'], ['diageo', 'sales', 'disappoint', 'currency', 'comparatives', 'leave', 'bitter', 'taste'], ['vivus', 'vvus', 'bear', 'raid', 'effect', 'stock'], ['bwld', 'bearish', 'engulf', 'candle'], ['intuitive', 'surgical', 'isrg', 'great', 'financial', 'position', 'look', 'https', 'vahhjacbfg', 'https', 'hqtqx', 'ou'], ['spy', 'hang', 'bull', 'hat', 'week', 'pop', 'higher', 'qe', 'hope', 'feed', 'day', 'meet'], ['easyjet', 'expect', 'resilient', 'demand', 'withstand', 'security', 'fear'], ['grid', 'show', 'dia', 'cap', 'long', 'term', 'range', 'rally', 'today', 'level', 'range', 'lead', 'meltdown'], ['trx', 'http', 'stks', 'kkk', 'long', 'setup', 'macd', 'cross'], ['fedday', 'look', 'sharp', 'equities', 'aapl', 'hd', 'low', 'fb', 'see', 'uvxy', 'tvix', 'get', 'hammer', 'market'], ['sales', 'lift', 'ice', 'cream', 'soft', 'economy'], ['buffett', 'company', 'report', 'percent', 'drop', 'earn'], ['apple', 'expect', 'launch', 'new', 'iphone', 'ipad', 'today', 'aapl', 'https', 'xfnicwebeg'], ['fb', 'bot', 'breakout', 'consolidation', 'zone'], ['ko', 'miss', 'earn', 'expectations', 'quarter', 'today', 'strong', 'result', 'come', 'major', 'surprise', 'http', 'stks', 'rhf'], ['costco', 'premier', 'retail', 'dividend', 'play', 'https', 'uhts', 'cost'], ['tesla', 'motor', 'recall', 'model', 'suvs', 'tsla', 'https', 'xdgraexkkz'], ['nke', 'gap', 'time', 'highs', 'http', 'stks', 'jau', 'tradeideas', 'http', 'stks'], ['see', 'profit', 'rise', 'uk', 'contract', 'problems', 'remain'], ['aapl', 'action', 'close', 'indicate', 'aapl', 'probably', 'hit', 'near', 'term', 'high', 'momentum', 'slow', 'huge', 'run'], ['gild', 'support', 'ibb', 'bib', 'https', 'gioof', 'zbkv'], ['ino', 'away'], ['astrazeneca', 'weigh', 'acerta', 'bid', 'secure', 'blood', 'cancer', 'drug'], ['dojiknows', 'th', 'sp', 'potential', 'qnx', 'be', 'bbm', 'cross', 'platform', 'bring', 'good', 'news', 'time', 'bbry'], ['rsh', 'look', 'profitable', 'quarter', 'years', 'long', 'strong'], ['naturalgas', 'settle', 'year', 'low', 'dbo', 'bno', 'http', 'stks', 'qx'], ['catskillfishing', 'note', 'monthly', 'chart', 'gdx', 'recapture', 'support', 'gld', 'possible', 'double', 'set', 'http', 'stks', 'aw'], ['piper', 'upgrade', 'symantec', 'improve', 'renewal', 'rat', 'enterprise', 'growth', 'symc'], ['despite', 'sales', 'growth', 'uk', 'tesco', 'caution', 'recovery', 'bumpy'], ['dish', 'weakness', 'continue', 'area', 'resistance', 'week'], ['qcom', 'indicator', 'rsi', 'stand', 'upward', 'movement', 'expect', 'https', 'yfa', 'jcusqa'], ['astrazeneca', 'patent', 'asthma', 'drug', 'invalidate', 'court'], ['hal', 'bull', 'lucky', 'enuff', 'upside', 'gap', 'better', 'wouldn', 'chase', 'http', 'stks'], ['aapl', 'news', 'bullish', 'http', 'stks', 'tmu'], ['aapl', 'glad', 'get', 'stop', 'weeklies', 'enter', 'monday', 'earn', 'run'], ['tesco', 'share', 'price', 'dip', 'blinkbox', 'book', 'close', 'end', 'supermarket', 'digital'], ['amzn', 'trade', 'mid', 'upper', 'range', 'break', 'direction'], ['pierrules', 'siri', 'long'], ['update', 'bhp', 'billiton', 'credit', 'rat', 'fragile', 'fy', 'agencies', 'warn'], ['hitk', 'resume', 'advance', 'new', 'historical', 'highs'], ['walter', 'investment', 'management', 'corp', 'receive', 'sell', 'compass', 'point', 'wac', 'http', 'stks', 'ivx'], ['bp', 'join', 'force', 'det', 'norske', 'norway'], ['recap', 'msft', 'rumor', 'morning', 'spin', 'xbox', 'unit', 'stock', 'grind', 'day', 'close', 'highs'], ['boeing', 'company', 'nyse', 'ba', 'bearish', 'trader', 'bet', 'stock', 'sell', 'july', 'expiry', 'ba', 'http', 'stks', 'tcse'], ['gs', 'sell', 'flat'], ['shell', 'challenge', 'exxon', 'dominance', 'billion', 'pound', 'bid', 'bg'], ['sonc', 'amaze', 'run', 'middle', 'march', 'obvious', 'quality', 'tastiness', 'burgers', 'factor', 'price', 'advance'], ['aapl', 'pivot', 'area', 'intraday', 'chart', 'break', 'send', 'day', 'sma', 'http', 'stks', 'jpbn'], ['nvda', 'sideways'], ['astrazeneca', 'team', 'daiichi', 'sankyo', 'sell', 'movantik'], ['update', 'pricey', 'beers', 'lift', 'sabmiller', 'quarterly', 'underlie', 'sales'], ['save', 'break', 'downtrend', 'line', 'increase', 'volume', 'upside', 'http', 'stks'], ['wpp', 'world', 'largest', 'ad', 'agency', 'report', 'strong', 'growth'], ['royal', 'mail', 'get', 'mix', 'bag', 'ofcom', 'postal', 'regulation', 'report'], ['googl', 'short', 'upper', 'bb', 'overbought'], ['rimm', 'spx', 'nya', 'compq', 'djia', 'go'], ['whitbread', 'boss', 'andy', 'harrison', 'defend', 'sales', 'fall', 'blip'], ['fb', 'big', 'money', 'pour', 'facebook', 'directions', 'http', 'stks', 'sowg'], ['sainsbury', 'sales', 'slip', 'price', 'pressure', 'toll'], ['intc', 'aapl', 'strong', 'tech', 'lead', 'dow', 'higher'], ['sbux', 'downgrade', 'neutral', 'deutsche', 'bank', 'price', 'target', 'reduce'], ['ftse', 'flat', 'standard', 'charter', 'lead', 'risers'], ['qualcomm', 'dividend', 'increase', 'reward', 'patient', 'investors', 'future', 'look', 'bright', 'https', 'tjjvpqhhqd', 'qcom'], ['mylan', 'appoint', 'ranjan', 'ray', 'chaudhuri', 'global', 'commercial', 'lead', 'mylan'], ['rbi', 'surprise', 'street', 'sensex', 'par', 'gain', 'hit', 'mount'], ['fbr', 'capital', 'reiterate', 'outperform', 'rat', 'brcm', 'price', 'target', 'friday'], ['fb', 'go', 'green', 'day'], ['valeant', 'say', 'new', 'ceo', 'pearson', 'hospitalize'], ['long', 'sdlp', 'cpgx', 'twtr', 'bita', 'labu', 'fb', 'tsla', 'ete', 'sdrl', 'autocharts', 'https', 'nxlx', 'es', 'ny'], ['aapl', 'price', 'momentum', 'weaken', 'go', 'close'], ['bull', 'flag', 'daily', 'earn', 'table', 'tomorrow', 'straddle', 'earn', 'lot', 'vol', 'guarantee'], ['tsla', 'dip', 'test', 'day', 'ma', 'https', 'jeplmzqkgw'], ['barclays', 'appoint', 'jpmorgan', 'paul', 'compton', 'new', 'coo'], ['glencore', 'blame', 'rival', 'create', 'metal', 'glut'], ['astrazeneca', 'buy', 'zs', 'pharma', 'billion'], ['amrn', 'accumulate', 'think', 'buy', 'hold', 'peace', 'today', 'tomorrow'], ['entertainment', 'dispel', 'itv', 'takeover', 'rumour'], ['barronsonline', 'see', 'apple', 'share', 'year', 'today', 'grow', 'service', 'business', 'aapl', 'https', 'bdnekn'], ['aapl', 'right', 'buy', 'dip', 'bring', 'cnbc', 'lol'], ['fb', 'guess', 'want', 'look', 'sell', 'order'], ['rt', 'andrewnyquist', 'chartology', 'yahoo', 'http', 'stks', 'itr', 'yhoo', 'crazy', 'look', 'chart', 'near', 'breakout', 'resistance', 'line'], ['plug', 'close', 'short', 'position', 'small', 'gain', 'interest', 'options', 'expire', 'worthless'], ['qcor', 'little', 'pullback', 'fine', 'erase', 'todays', 'gain', 'believe', 'manipulation', 'capable'], ['stake', 'high', 'astrazeneca', 'heart', 'drug', 'face', 'tough', 'competition'], ['bullya', 'pollux', 'kors', 'call', 'go', 'bless', 'daughters', 'tuition'], ['ilmn', 'piper', 'jeffries', 'raise', 'pt', 'remain', 'long'], ['saudi', 'aramco', 'shell', 'plan', 'break', 'motiva', 'divide', 'assets'], ['microsoft', 'join', 'open', 'source', 'eclipse', 'foundation', 'https', 'czakeu', 'focus', 'collaboration', 'open', 'business', 'smart', 'strategy', 'msft'], ['brewer', 'ab', 'inbev', 'seek', 'bln', 'tie', 'sabmiller'], ['gild', 'chart', 'ibb', 'support', 'https', 'gprz', 'ujfc'], ['googl', 'hit', 'lawsuit', 'russian', 'search', 'engine', 'yndx', 'http', 'stks', 'kd'], ['apple', 'break', 'major', 'support', 'level', 'watch', 'http', 'stks', 'jrmw', 'aapl', 'qqq'], ['fti', 'breakout', 'today', 'report', 'earn', 'night'], ['ren', 'bottom', 'good', 'time', 'buy'], ['vrtx', 'vertex', 'monthly', 'lower', 'hi', 'lower', 'lo', 'long', 'term', 'uptrend', 'intract', 'far'], ['johnson', 'matthey', 'raise', 'prospect', 'investor', 'payout'], ['amrn', 'bull', 'spread', 'range', 'july', 'jan', 'let', 'baby'], ['osur', 'buy', 'signal', 'resistance', 'expect', 'pullback', 'nd', 'half', 'day', 'break', 'abov', 'continue', 'rally', 'days'], ['france', 'raise', 'concern', 'propose', 'lse', 'deutsche', 'boerse', 'deal'], ['yang', 'double'], ['tspt', 'long'], ['ea', 'launch', 'origin', 'online', 'game', 'distribution', 'mac', 'http', 'stks', 'aktu', 'macrumors', 'ea'], ['mpwr', 'ceo', 'sell', 'april', 'th', 'meh'], ['save', 'long', 'https', 'yejus', 'cmlc'], ['relief', 'lewis', 'tesco', 'see', 'sales', 'grow', 'time', 'year'], ['tsla', 'bad', 'day', 'short'], ['ab', 'inbev', 'attack', 'sabmiller', 'bid', 'rebuffal'], ['hsbc', 'say', 'unit', 'book', 'million', 'charge', 'settlement'], ['glaxosmithkline', 'set', 'complete', 'billion', 'novartis', 'asset', 'swap', 'week'], ['britain', 'ftse', 'forge', 'ahead', 'shire', 'surge'], ['morrisons', 'face', 'festive', 'sales', 'test'], ['potential', 'defect', 'row', 'seat', 'belt', 'tesla', 'motor', 'recall', 'model', 'suvs', 'tsla', 'https', 'yvydncdndi'], ['fda', 'approve', 'nps', 'drug', 'validate', 'shire', 'takeover', 'deal'], ['tesla', 'recall', 'model', 'cars', 'https', 'bkvstl', 'tsla'], ['dara', 'break'], ['long'], ['irish', 'say', 'chase', 'standard', 'charter', 'rbs', 'brexit', 'vote', 'near'], ['slv', 'awful'], ['harmongreg', 'bbry', 'wkly', 'inverse', 'head', 'shoulder', 'form', 'trigger', 'po', 'watch', 'http', 'stks', 'ipvj'], ['stumble', 'amaze', 'chart', 'ofix', 'holy', 'guac', 'super', 'overbought', 'http', 'stks', 'px'], ['tsla', 'look', 'good', 'love', 'base', 'action', 'let', 'rsi', 'breather', 'http', 'stks'], ['sbux', 'head', 'dma', 'certain', 'doom', 'hold'], ['vxx', 'start', 'creep', 'spy', 'sit', 'near', 'hod'], ['unilever', 'profit', 'rise', 'despite', 'sales', 'slump', 'china'], ['homebuilders', 'ryl', 'break', 'support', 'watch', 'spy'], ['london', 'stock', 'exchange', 'deutsche', 'boerse', 'merger', 'threat', 'brexit'], ['goodwin', 'face', 'scottish', 'prosecution', 'rbs'], ['diageo', 'receive', 'report', 'unite', 'spirit', 'financial', 'irregularities', 'involve'], ['bbry', 'sierra', 'great', 'cash', 'balance', 'impressive', 'growth', 'rate', 'wonderful', 'marriage'], ['timberrrr', 'tsla', 'https', 'mrbgfdhhva'], ['mako', 'hang', 'today', 'base', 'pattern', 'eye'], ['aapl', 'nice', 'rsi', 'bounce'], ['tzoo', 'close', 'ready', 'rock', 'roll'], ['aapl', 'long'], ['morning', 'agenda', 'shire', 'deal', 'nps'], ['fb', 'tsla', 'crack', 'lower', 'early', 'short', 'correction', 'stock'], ['athn', 'like', 'good', 'short', 'setup', 'stop', 'day', 'position'], ['yhoo', 'make', 'new', 'hod'], ['twtr', 'best', 'scenario', 'go', 'forward', 'stock', 'slowly', 'fall', 'everyday', 'probable'], ['ndx', 'component', 'tesla', 'announce', 'recall', 'model', 'suvs', 'tsla'], ['new', 'recommendation', 'carl', 'kirst', 'bmo', 'capital', 'market', 'wmb', 'buy', 'price', 'target', 'http', 'stks'], ['tesco', 'sales', 'rise', 'show', 'tentative', 'recovery', 'continue'], ['bullish', 'engulf', 'coca', 'cola', 'http', 'stks', 'fyco', 'ko'], ['volatility', 'squeeze', 'aapl', 'hope', 'get', 'resolve', 'upside'], ['japan', 'asahi', 'submit', 'bid', 'week', 'sabmiller', 'grolsch', 'peroni', 'yomiuri'], ['potential', 'bearish', 'shark', 'pattern', 'point', 'take', 'http', 'stks', 'ggh'], ['update', 'pearson', 'expect', 'grow', 'year', 'solid', 'end'], ['ge', 'sell', 'majority', 'stake', 'bank', 'bph', 'core', 'bank', 'alior', 'bank'], ['gevo', 'plunge'], ['spy', 'long', 'position'], ['millercoors', 'board', 'name', 'gavin', 'hattersley', 'interim', 'ceo'], ['roll', 'royce', 'win', 'billion', 'order', 'emirates', 'airline'], ['daily', 'mail', 'parent', 'company', 'talk', 'potential', 'partner', 'joint', 'bid', 'yahoo', 'internet', 'assets', 'https', 'mk', 'memtadt', 'yhoo'], ['alert', 'new', 'rsi', 'signal', 'create', 'cost', 'buy', 'time', 'strength', 'power', 'https', 'mhobzu', 'rmx'], ['novartis', 'buy', 'remain', 'right', 'gsk', 'treatment', 'deal', 'billion'], ['itv', 'share', 'price', 'jump', 'report', 'comcast', 'nbcuniversal', 'bid', 'takeover'], ['petrofac', 'share', 'price', 'rise', 'despite', 'cost', 'north', 'sea', 'project'], ['cdti', 'bounce', 'support', 'setup', 'area', 'important', 'bull', 'lose', 'http', 'stks', 'mf'], ['rd', 'red', 'day', 'row', 'tsla'], ['shell', 'offer', 'percent', 'premium', 'buy', 'bg', 'billion'], ['sell', 'tsla', 'put', 'morning', 'close', 'close', 'help', 'pay', 'monthly', 'expense'], ['iff', 'technical', 'alert', 'stochastic', 'sell', 'signal', 'dma', 'support', 'dma', 'support', 'http', 'stks', 'qy'], ['bad', 'idea', 'min', 'predictions', 'base', 'faith', 'rt', 'dandyduct', 'aapl', 'sell', 'signal', 'hit', 'min'], ['spain', 'caixabank', 'expect', 'close', 'deal', 'banco', 'bpi'], ['update', 'astrazeneca', 'buy', 'zs', 'pharma', 'billion', 'pip', 'actelion'], ['pg', 'ackman', 'make', 'big', 'add', 'efficiency', 'argument', 'bet', 'operational', 'imporvement', 'huge', 'conglomerate', 'way', 'imo'], ['crm', 'sep', 'call', 'entry', 'bang', 'http', 'stks', 'dedm'], ['rt', 'alphatrends', 'vmarkets', 'act', 'weak', 'http', 'stks', 'agn', 'spy', 'qqq', 'xlf', 'smh', 'iwm'], ['shire', 'say', 'internal', 'synergy', 'goals', 'baxalta', 'deal', 'higher'], ['mflx', 'pre', 'mkt', 'look', 'like', 'gap', 'fill', 'lookin', 'short', 'opt'], ['netflix', 'grow', 'efforts', 'create', 'loyal', 'customers', 'nflx', 'https', 'qxbkobphe'], ['astrazeneca', 'explore', 'potential', 'deal', 'acerta', 'cancer', 'drug'], ['barclays', 'share', 'price', 'subdue', 'bank', 'face', 'fresh', 'forex', 'probe'], ['shire', 'ceo', 'step', 'drive', 'baxalta', 'board', 'talk'], ['compass', 'group', 'say', 'positive', 'year', 'ahead'], ['valeant', 'name', 'interim', 'leader', 'ceo', 'remain', 'hospitalize'], ['tesco', 'share', 'price', 'tumble', 'negative', 'broker', 'note'], ['kgc', 'http', 'stks', 'qta', 'oversold', 'fall', 'wedge', 'positive', 'divergence', 'place', 'launch', 'pad', 'look', 'bounce'], ['update', 'stifel', 'buy', 'lehman', 'brokerage', 'barclays'], ['sheryl', 'sandberg', 'sell', 'share', 'facebook', 'fb', 'stock', 'https', 'vxt', 'amnpk', 'ratingsnetwork'], ['stock', 'resume', 'gain', 'rally', 'record', 'crh', 'tullow', 'climb'], ['isolationism', 'sell', 'rat', 'sell', 'rat', 'spy', 'qqq', 'iwm', 'company', 'https', 'fnnx', 'aapl', 'apple', 'axp', 'bac'], ['tesla', 'model', 'deliveries', 'germany', 'record', 'deliveries', 'march', 'chart', 'https', 'ycnclcbimv', 'tsla'], ['spy', 'vxx', 'aapl', 'party', 'load', 'uvxy', 'volatility'], ['tsla', 'recall', 'big', 'deal', 'problem', 'excuse', 'guide', 'way', 'way', 'lower'], ['aapl', 'rally', 'mode'], ['yndx', 'price', 'stock', 'time', 'lower', 'annual', 'earn', 'resist', 'buy', 'sell'], ['volc', 'stock', 'high', 'probability', 'rally', 'tomorrow', 'early', 'week'], ['mtd', 'mettler', 'toledo', 'ready', 'breakout'], ['gte', 'long'], ['double', 'handle', 'buy', 'point', 'ip', 'http', 'chart', 'ly', 'akvujxh'], ['shell', 'share', 'price', 'standard', 'life', 'announce', 'position', 'bg', 'acquisition'], ['follow', 'berkshire', 'hathaway', 'apple', 'stock'], ['isrg', 'trade', 'time', 'high', 'strong', 'earn', 'report', 'days', 'short'], ['add', 'cost', 'bounce', 'oi', 'pivot', 'moteltan', 'bto', 'aapl', 'apr', 'call', 'ride', 'ish'], ['nuan', 'hold', 'big', 'gain', 'maybe', 'finally', 'undervalue', 'major', 'upside'], ['aapl', 'near', 'drop', 'thats', 'lot', 'best', 'hold', 'er', 'lol'], ['kndi', 'break', 'hod', 'volume', 'nice', 'consolidation', 'complete', 'run'], ['aviva', 'plc', 'direct', 'line', 'insurance', 'group', 'plc', 'admiral', 'group', 'plc', 'set', 'soar'], ['crh', 'add', 'cr', 'laurence', 'acquisitions', 'tally', 'bn'], ['company', 'thetrainline', 'com', 'announce', 'arrival', 'london', 'ipo'], ['enb', 'ca', 'head', 'shoulder', 'bullish', 'reversal', 'setup', 'breakout', 'oil', 'gas', 'pipleline', 'stock', 'uso'], ['insight', 'hire', 'aviva', 'david', 'hillier', 'multi', 'asset', 'team'], ['follow', 'level', 'share', 'nflx', 'googl', 'tsla', 'call', 'nice', 'gain', 'hold', 'fb', 'call', 'week', 'morning'], ['bg', 'group', 'happy', 'shell', 'billion', 'offer'], ['nflx', 'vision', 'short', 'term', 'consolidation', 'movement', 'higher', 'http', 'stks', 'uu'], ['tesco', 'break', 'downward', 'slide', 'cut', 'sales', 'decline', 'half'], ['spy', 'wouldn', 'surprise', 'green', 'close'], ['etn', 'upgrade', 'today', 'ms', 'overweight', 'excellent', 'company', 'leadership'], ['today', 'close', 'long', 'tsla', 'amtd', 'twtr', 'fb', 'aapl', 'celg', 'longer', 'term', 'technical', 'swing', 'long', 'basis'], ['mcd', 'look', 'set', 'fall', 'http', 'stks', 'fgj'], ['trip', 'maintain', 'neutral', 'rat', 'jp', 'morgan', 'pt', 'cut'], ['ssys', 'test', 'low', 'rise', 'steadily', 'hit', 'trade', 'days', 'ago', 'sept', 'll'], ['prepare', 'breakout', 'trade', 'netflix', 'nflx', 'https', 'czhix', 'tuag', 'https', 'qb', 'xa', 'ld'], ['glencore', 'chief', 'blame', 'rival', 'overproduction', 'share', 'price', 'fall'], ['brcm', 'raise', 'revenue', 'forecast'], ['update', 'barclays', 'expect', 'gain', 'settle', 'lehman', 'bros', 'trustee'], ['buyback', 'trend', 'right', 'cpix', 'spend', 'share', 'pricier', 'hopefully', 'pull', 'close', 'vwap'], ['intuitiv', 'clne', 'gasoline', 'price', 'spike', 'california', 'http', 'stks', 'boi'], ['maybe', 'close', 'aapl', 'call', 'morning', 'bad', 'idea', 'money', 'leave', 'table'], ['go', 'long', 'cog', 'think'], ['tesco', 'criticise', 'disgraceful', 'advert', 'show', 'domestic', 'worker', 'slap'], ['british', 'american', 'tobacco', 'half', 'sales', 'hurt', 'currency', 'move'], ['fio', 'win', 'stay'], ['wpp', 'win', 'race', 'programmatic', 'buy', 'agency', 'essence', 'digital'], ['astrazeneca', 'profit', 'sales', 'stalwarts', 'fade'], ['hold', 'recent', 'double', 'buy', 'point', 'penny', 'today', 'wmt', 'http', 'chart', 'ly', 'nosp'], ['sbux', 'invert', 'head', 'shoulder', 'pattern', 'work', 'bullish'], ['shire', 'share', 'price', 'pressure', 'bn', 'baxalta', 'deal'], ['nugt', 'gold', 'wow'], ['break', 'tesla', 'recall', 'model', 'cars', 'detail', 'tsla'], ['glaxosmithkline', 'target', 'growth', 'units', 'scrap', 'viiv', 'ipo'], ['pretty', 'steady', 'accumulation', 'support', 'today', 'purdy', 'agu'], ['tsla', 'yeah', 'let', 'lol'], ['prlb', 'hang', 'tough', 'market', 'analyst', 'upgrade', 'week'], ['trouble', 'brew', 'legal', 'general', 'group', 'plc', 'aviva', 'plc'], ['shell', 'buy', 'bg', 'group', 'billion', 'takeover'], ['sppi', 'build', 'rs', 'sweet', 'want', 'break', 'new', 'week', 'earn', 'growth', 'justify', 'way', 'higher'], ['fb', 'trend', 'hit', 'mid', 'drop'], ['es_f', 'nice', 'little', 'cup', 'handle', 'shape', 'minute', 'end', 'day', 'spy', 'spx', 'favour', 'good', 'day', 'index', 'gap', 'open'], ['aapl', 'reject', 'hod', 'head', 'lower', 'sit', 'sideline'], ['yelp', 'wayyy', 'overvalue', 'right', 'imo', 'trade', 'single', 'digits', 'short', 'pos', 'earn', 'near', 'term', 'target'], ['barclays', 'bond', 'rise', 'lender', 'cut', 'dividends', 'shore', 'capital'], ['industry', 'newsmorrisons', 'unveil', 'store', 'close', 'job', 'face', 'axe'], ['je', 'look', 'like', 'bounce', 'nice', 'finish', 'today', 'hammer', 'nice', 'volume', 'finger', 'cross'], ['long', 'amzn'], ['astrazeneca', 'sell', 'caprelsa', 'right', 'sanofi', 'unit'], ['berkshire', 'hathaway', 'name', 'kara', 'raiguel', 'lead', 'general', 'unit'], ['aria', 'bounce', 'player', 'long', 'http', 'stks', 'wff'], ['shire', 'see', 'baxalta', 'deal', 'close', 'expect', 'new', 'rule'], ['tesco', 'share', 'price', 'grocer', 'face', 'sfo', 'investigation', 'outcome'], ['apple', 'rip', 'roar', 'rally', 'begin', 'aapl', 'investorplace', 'aapl', 'https', 'jrcfc', 'xly'], ['seat', 'belt', 'recall', 'care', 'buyer', 'tsla'], ['passengers', 'rise', 'easyjet', 'aer', 'lingus'], ['companiesdixons', 'carphone', 'close', 'uk', 'store', 'sales', 'jump'], ['ddd', 'systems', 'ddd', 'stock', 'receive', 'rat', 'downgrade', 'today', 'jefferies', 'http', 'stks', 'cqd'], ['companiescar', 'insurer', 'hastings', 'group', 'drive', 'ipo'], ['ftse', 'drop', 'pct', 'glencore', 'metal', 'price', 'fear'], ['tesco', 'abandon', 'video', 'stream', 'ambition', 'blinkbox', 'sale'], ['astrazeneca', 'medimmune', 'ink', 'license', 'deal', 'omnis', 'pharmaceuticals'], ['kingfisher', 'takeover', 'mr', 'bricolage', 'hit', 'brick', 'wall'], ['star', 'analyst', 'joe', 'wittine', 'longbow', 'research', 'reiterate', 'hold', 'rat', 'ntap'], ['greene', 'king', 'quarter', 'sales', 'boost', 'festive', 'season'], ['fastenal', 'miss', 'miss', 'revenue', 'fast', 'nyse', 'https', 'jhq', 'pwmn'], ['trow', 'ascend', 'triangle', 'give', 'bullish', 'bias', 'chart', 'breakout', 'positive', 'http', 'stks', 'ls'], ['fb', 'watch', 'bounce', 'tomorrow'], ['glaxosmithkline', 'start', 'hunt', 'successor', 'ceo', 'witty'], ['valeant', 'ceo', 'pledge', 'heed', 'critics', 'painful', 'experience'], ['tesco', 'share', 'price', 'jump', 'sales', 'estimate'], ['imperial', 'tobacco', 'add', 'quarterly', 'dividends', 'profit', 'rise'], ['bbry', 'actually', 'lose', 'share', 'incl', 'vz', 'debt', 'cash'], ['spy', 'mitk', 'fast', 'pc', 'dive', 'http', 'stks', 'ffn'], ['aapl', 'take', 'short', 'punish', 'reminder', 'spear', 'strongest', 'herd'], ['nasdboy', 'think', 'dnf', 'crew', 'nflx', 'short', 'days', 'head', 'earn'], ['csx', 'today', 'report', 'wall', 'street', 'expect', 'eps', 'revenues'], ['starbucks', 'share', 'sbux', 'https', 'jlgrprr'], ['britain', 'ftse', 'bounce', 'mondi', 'barratt', 'lead'], ['brief', 'aviva', 'aim', 'increase', 'dividend', 'pay', 'ratio', 'pct'], ['amazon', 'declare', 'best', 'black', 'friday', 'cyber', 'monday', 'kindle', 'family', 'http', 'stks', 'cetw', 'engadget', 'amzn'], ['enter', 'long', 'lockheed', 'martin', 'lmt', 'thursday', 'open', 'http', 'stks', 'exta'], ['upside', 'move', 'volatile', 'mine', 'sector', 'send', 'anglo', 'american', 'plc', 'aal', 'pm', 'london', 'time'], ['crus', 'upgrade', 'buy', 'alpha', 'street', 'research'], ['caixabank', 'do', 'santos', 'agree', 'plan', 'bpi', 'angola', 'exposure'], ['tesco', 'set', 'sell', 'kipa', 'giraffe', 'businesses', 'sky', 'news'], ['ftse', 'rally', 'month', 'low', 'boost', 'stanchart', 'sainsbury'], ['gpro', 'tue', 'morning'], ['windows', 'awful', 'force', 'upgrade', 'pc', 'consent', 'windows', 'microsoft', 'msft'], ['nihd', 'insiders', 'get', 'wrong', 'look', 'rsi'], ['aapl', 'goldman', 'sachs', 'reiterate', 'conviction', 'buy', 'apple', 'pt', 'spy', 'djia', 'gs', 'https', 'hmxsitwm'], ['dbs', 'julius', 'baer', 'emerge', 'potential', 'bidders', 'barclays', 'asia', 'wealth', 'unit'], ['oil', 'major', 'like', 'royal', 'dutch', 'shell', 'chevron', 'bp', 'fail', 'reserve', 'counter'], ['starbucks', 'digital', 'strategy', 'drive', 'significant', 'growth', 'customer', 'loyalty', 'sbux', 'https', 'xk', 'lz', 'ui'], ['fb', 'trend', 'nicely', 'intraday'], ['mark', 'recall', 'tesla', 'recall', 'modelx', 'faulty', 'rd', 'row', 'seat', 'https', 'hsqdovry', 'tsla', 'https', 'cs', 'cnzebb'], ['amzn', 'trail', 'months', 'operate', 'cash', 'flow', 'rise', 'billion', 'free', 'cash', 'flow', 'decrease', 'million', 'http', 'stks', 'zg'], ['diageo', 'share', 'surge', 'report', 'possible', 'takeover', 'lemann'], ['long', 'vvus', 'share', 'option', 'expiration', 'umm', 'today', 'hit', 'hod'], ['wft', 'closng', 'higher'], ['nsm', 'ascend', 'base', 'breakout', 'start', 'gain', 'traction', 'strong', 'stock', 'http', 'stks', 'gbsh'], ['amazon', 'attack', 'uk', 'grocery', 'market', 'morrisons', 'deal'], ['travis', 'perkins', 'hike', 'dividend', 'profit', 'revenue', 'rise'], ['crown', 'castle', 'buy', 'tower', 'development', 'corp', 'million'], ['intc', 'finally', 'nice', 'downside', 'look', 'handle', 'break'], ['amrn', 'get', 'sell', 'signal', 'force', 'target'], ['refile', 'update', 'britain', 'lloyds', 'pay', 'dividend', 'rescue'], ['itv', 'share', 'price', 'group', 'mull', 'takeover', 'canada', 'entertainment'], ['merkel', 'government', 'say', 'support', 'deutsche', 'boerse', 'lse', 'merger'], ['investors', 'remain', 'skeptical', 'shell', 'bg', 'deal'], ['yelp', 'go', 'green', 'short', 'toast'], ['tesco', 'sell', 'blinkbox', 'broadband', 'service', 'talktalk'], ['tsla', 'love', 'type', 'article', 'ss', 'rise', 'day', 'hit', 'low', 'http', 'stks', 'qkr'], ['britain', 'ftse', 'fall', 'ashtead', 'commodities', 'pressure'], ['spy', 'want', 'higher', 'think'], ['imrs', 'important', 'pragmatic', 'analysis', 'high', 'price', 'offer', 'head', 'wind', 'bullish', 'story', 'intact', 'evenif', 'market', 'roll'], ['standard', 'charter', 'rbs', 'escape', 'capital', 'raise', 'stress', 'test'], ['aberdeen', 'asset', 'management', 'gain', 'foothold', 'china'], ['amazon', 'grocery', 'deal', 'morrisons', 'begin'], ['gkn', 'buy', 'fokker', 'technologies', 'mln', 'euros'], ['russ', 'catch', 'fall', 'knives', 'think', 'entry', 'come', 'soon'], ['morrisons', 'book', 'second', 'consecutive', 'quarter', 'sales', 'growth'], ['endp', 'exit', 'reversal', 'share', 'long', 'get', 'follow', 'price', 'action'], ['share', 'bae', 'systems', 'hit', 'month', 'high', 'rat', 'upgrade'], ['tesco', 'shareholders', 'itv', 'head', 'chairman'], ['whitbread', 'profit', 'sales', 'continue', 'rise', 'look', 'new', 'ceo'], ['australia', 'clear', 'ab', 'inbev', 'billion', 'sabmiller', 'buyout', 'plan'], ['tsla', 'downside', 'weeks', 'careful', 'dollars', 'drop', 'potential', 'vs', 'move'], ['renn', 'top', 'tail', 'min', 'chart', 'short'], ['rxii', 'tang', 'toxic', 'bring', 'share', 'price', 'let', 'climb', 'little', 'drag'], ['sbux', 'pm', 'db', 'downgrade', 'pt', 'cut'], ['wgo', 'bod', 'right', 'reject', 'offer', 'company', 'low', 'economy', 'type', 'mismanagement'], ['rt', 'fitzstock', 'iyt', 'http', 'stks', 'nbf', 'transport', 'lead', 'way', 'break', 'dt', 'line', 'st', 'macd', 'cross', 'bull', 'flag'], ['shire', 'buy', 'nps', 'billion', 'boost', 'rare', 'disease', 'drug'], ['amzn', 'period', 'rsi', 'read', 'connors', 'book', 'trade', 'strategies'], ['pay', 'nd', 'time', 'test', 'zone', 'break', 'move', 'stop'], ['rbs', 'reportedly', 'appoint', 'howard', 'davies', 'chairman'], ['lot', 'metal', 'stock', 'look', 'like', 'run', 'await', 'long', 'ssri', 'paas', 'nem', 'high', 'quality', 'name', 'metal', 'price', 'cooperate'], ['rost', 'ross', 'store', 'upgrade', 'outperform', 'rbc', 'capital', 'market', 'http', 'stks'], ['ctrp', 'break', 'good', 'vol', 'parser', 'buy', 'signal', 'notice', 'bob', 'langs', 'comment', 'look', 'fast'], ['verizon', 'accuse', 'hurt', 'rival'], ['marketsshire', 'baxalta', 'bn', 'deal'], ['aapl', 'test', 'high', 'today', 'probably', 'hours'], ['twtr', 'doom', 'chart', 'fb', 'goog', 'https', 'mpylireqjh', 'https', 'nlczawdohp'], ['reed', 'elsevier', 'share', 'price', 'slide', 'underwhelming', 'year', 'result'], ['isr', 'isoray', 'high', 'volume', 'http', 'stks', 'ifpo', 'biotech'], ['bioc', 'rsi', 'extremely', 'long', 'favor', 'look', 'bioc', 'historically'], ['tesla', 'motor', 'recall', 'model', 'suvs', 'https', 'bfws', 'dbm', 'tsla'], ['wynn', 'big', 'bounce'], ['nflx', 'tsla', 'make', 'kinds', 'gain'], ['japan', 'nikkei', 'land', 'financial', 'time', 'billion', 'deal'], ['bullish', 'stock', 'twitter', 'dip', 'yhoo', 'gdx', 'googl', 'stz', 'gold', 'ew', 'vz', 'celg', 'sbux', 'scty', 'https', 'iuzjelfwt'], ['spy', 'tomorrow', 'party', 'time', 'bear', 'goog', 'msft'], ['alert', 'new', 'macd', 'signal', 'create', 'ctxs', 'buy', 'time', 'strength', 'power', 'https', 'tdgjedllz'], ['qihu', 'totally', 'miss', 'jump', 'break', 'test', 'congrats', 'short'], ['surprise', 'jwn', 'sks', 'sales', 'number', 'hold', 'guess', 'high', 'end', 'concern'], ['share', 'hit', 'record', 'shire', 'takeover', 'talk'], ['astrazeneca', 'daiichi', 'sankyo', 'jointly', 'commercialise', 'movantik'], ['ab', 'inbev', 'look', 'win', 'sabmiller', 'investors'], ['binkster', 'er', 'lol', 'look', 'correlation', 'aria', 'foreign', 'price', 'chart', 'poise', 'breakout'], ['shell', 'bg', 'shareholders', 'vote', 'deal', 'end', 'january'], ['ma', 'http', 'stks', 'cyn', 'continue', 'consolidate', 'base'], ['royal', 'dutch', 'shell', 'buy', 'bg', 'group', 'nearly', 'billion'], ['aapl', 'dma', 'turn', 'macd', 'crossover', 'half', 'hair', 'away', 'weekly', 'eod', 'break', 'likely'], ['aapl', 'good', 'time', 'buy', 'run', 'come', 'earn'], ['rnn', 'day', 'traders', 'flush', 'start', 'go', 'slowly'], ['turnaround', 'buy', 'bhp', 'billiton', 'plc', 'home', 'retail', 'group', 'plc'], ['maglan', 'capital', 'february', 'long', 'fairpoint', 'http', 'stks', 'eqc', 'frp'], ['spy', 'extreme', 'win', 'today', 'cents', 'low', 'year', 'spy', 'percent', 'life', 'bowl', 'cherries', 'great', 'short', 'set'], ['dji', 'overbought', 'aapl', 'axp', 'ba', 'cvx', 'ibm', 'intc', 'vz', 'https', 'wmy', 'pnomjf'], ['tsla', 'recall', 'pretty', 'single', 'model', 'cnnbrk', 'get', 'short', 'work', 'jump', 'money', 'trade'], ['london', 'open', 'taylor', 'wimpey', 'ashtead', 'drive', 'market', 'higher', 'barclays', 'fall'], ['gps', 'gap', 'september', 'comparable', 'store', 'sales'], ['astrazeneca', 'plc', 'dixons', 'carphone', 'plc', 'red', 'hot', 'growth', 'star'], ['plug', 'bear', 'raid'], ['star', 'analyst', 'brianwieser', 'pivotal', 'research', 'upgrade', 'rat', 'googl', 'buy', 'brian', 'success', 'rate', 'https', 'dn', 'eoh'], ['market', 'report', 'day', 'rally', 'end', 'ftse', 'standard', 'charter'], ['add', 'long', 'friday', 'close', 'spy', 'labu', 'blue', 'amzn'], ['steal', 'tweet', 'wouldn', 'surprise', 'take', 'pin', 'rt', 'totalguru', 'possibly', 'today', 'aapl'], ['retail', 'giant', 'kingfisher', 'report', 'solid', 'start', 'year'], ['gmcr', 'way', 'act', 'fall', 'today', 'horrible', 'action', 'hit', 'yesterday'], ['aapl', 'aapl', 'finally', 'break', 'buybacks', 'week', 'look', 'aapl', 'test', 'support', 'area'], ['apple', 'february', 'low', 'little', 'fanfare', 'aapl'], ['bbry', 'ready'], ['drugmaker', 'shire', 'buy', 'baxalta', 'billion', 'month', 'pursuit'], ['uk', 'house', 'market', 'steady', 'brexit', 'dip', 'persimmon', 'say'], ['facebook', 'near', 'buy', 'point', 'week', 'face', 'different', 'technical', 'test', 'today', 'https', 'llmpinm', 'fb', 'aapl', 'nflx', 'https', 'fpfbytypuy'], ['tesco', 'lead', 'leap', 'ftse', 'mark', 'spencer', 'drop'], ['news', 'feedschroders', 'book', 'solid', 'earn', 'growth', 'board', 'change'], ['tsla', 'steam', 'stock', 'relentless', 'moment'], ['skx', 'turn', 'come', 'far', 'far', 'stock', 'price', 'imply', 'pay', 'business'], ['copper', 'market', 'style', 'supply', 'shock', 'glencore', 'closure'], ['news', 'feedftse', 'movers', 'lse', 'surge', 'ice', 'say', 'mull', 'offer', 'ashtead', 'barclays', 'tank'], ['retailers', 'kingfisher', 'sport', 'direct', 'rise', 'britain', 'share', 'index'], ['baba', 'days', 'wks', 'months', 'watch', 'happen', 'fb', 'twtr', 'ipo', 'mrkt', 'need', 'washout', 'hunt', 'need', 'wait', 'stalk'], ['kndi', 'let', 'higher', 'highs', 'higher', 'low', 'rest', 'day', 'slow', 'steady'], ['bid', 'mr', 'bricolage', 'run', 'trouble'], ['cost', 'costco', 'stellar', 'day', 'hold', 'day', 'move', 'average'], ['technik', 'smaller', 'gild', 'pos', 'tender', 'cash', 'volatility', 'reluctant', 'big', 'position'], ['tnh', 'look', 'like', 'explosive', 'setup', 'break', 'ema', 'level', 'http', 'stks', 'svh'], ['slw', 'weekly', 'call', 'volume', 'worth', 'chance', 'jmho', 'http', 'stks', 'qfg'], ['update', 'astrazeneca', 'boost', 'respiratory', 'unit', 'mln', 'takeda', 'deal'], ['astrazeneca', 'diabetes', 'drug', 'combination', 'face', 'delay', 'fda', 'rebuff'], ['nflx', 'long', 'stream', 'service', 'rapidly', 'outpace', 'traditional', 'cable'], ['update', 'barclays', 'chairman', 'mcfarlane', 'ax', 'ceo', 'speed', 'strategic', 'change'], ['yhoo', 'breakout', 'constitute', 'technical', 'entry', 'short', 'term', 'trader', 'http', 'stks', 'jkuf'], ['tesco', 'asda', 'sales', 'fall', 'march', 'discounters', 'continue', 'kantar'], ['analyst', 'view', 'astrazeneca', 'share', 'see', 'recent', 'volatility'], ['intertek', 'group', 'announce', 'strategic', 'update', 'outline', 'plan'], ['mxwl', 'oh', 'snap', 'go', 'long', 'lt'], ['micron', 'technology', 'nasdaq', 'mu', 'today', 'short', 'https', 'eqqltfuiou'], ['johnson', 'matthey', 'profit', 'fall', 'dividend', 'rise'], ['vegastrader', 'look', 'like', 'good', 'entry', 'qihu'], ['aapl', 'double', 'mind'], ['kraft', 'cadbury', 'britvic', 'total', 'recall', 'pull', 'product', 'affect', 'profit'], ['deutsche', 'bank', 'downgrade', 'starbucks', 'new', 'loyalty', 'program', 'https', 'iy', 'lcugabc', 'sbux'], ['ymi', 'http', 'stks', 'xyf', 'long', 'setup', 'close', 'ma', 'macd', 'cross', 'november', 'catalyst'], ['tesco', 'share', 'price', 'close', 'higher', 'directors', 'leave', 'grocer'], ['stanchart', 'rbs', 'struggle', 'bank', 'england', 'stress', 'test'], ['doubt', 'grow', 'glaxosmithkline', 'bln', 'capital', 'return', 'plan'], ['royal', 'mail', 'breach', 'competition', 'law', 'delivery', 'service', 'change', 'ofcom', 'claim'], ['update', 'meggitt', 'reiterate', 'annual', 'outlook', 'tough'], ['severn', 'trent', 'share', 'price', 'jump', 'canadian', 'investor', 'renew', 'pursuit', 'utility']]\n"
     ]
    }
   ],
   "source": [
    "print(processed)"
   ]
  },
  {
   "cell_type": "code",
   "execution_count": 286,
   "id": "d917ea58",
   "metadata": {},
   "outputs": [
    {
     "name": "stdout",
     "output_type": "stream",
     "text": [
      "Dictionary(2299 unique tokens: ['close', 'come', 'fr', 'kjepeneter', 'plnr']...)\n"
     ]
    }
   ],
   "source": [
    "from gensim.corpora import Dictionary\n",
    "\n",
    "dictionary = Dictionary(processed) # construct word<->id mappings - it does it in alphabetical order\n",
    "print(dictionary)\n",
    "\n",
    "bow_corpus = [dictionary.doc2bow(doc) for doc in processed]"
   ]
  },
  {
   "cell_type": "code",
   "execution_count": 379,
   "id": "6317a642",
   "metadata": {},
   "outputs": [],
   "source": [
    "# Using LDA model to get mean_thetas\n",
    "\n",
    "from gensim.matutils import any2sparse\n",
    "from gensim.models import LdaModel\n",
    "\n",
    "lda_model =  LdaModel(bow_corpus, \n",
    "                      num_topics=10, \n",
    "                      id2word=dictionary,                                    \n",
    "                      passes=10,\n",
    "                    ) \n",
    "\n",
    "def get_tweet_topic_dists(train_documents, lda_model):\n",
    "    ### COMPLETE THE CODE HERE\n",
    "    # Save each theta_d distribution to the list 'thetas':\n",
    "    thetas = []\n",
    "    for i in range(len(train_documents)):\n",
    "        # Get the document from newsgroups_train\n",
    "        unseen_document = train_documents[i]\n",
    "\n",
    "        # Apply preprocessing to get a bag-of-words vector:\n",
    "        bow_vector = dictionary.doc2bow(preprocess(unseen_document))\n",
    "\n",
    "        # Use the LDA model to compute the topic distribution for this document:\n",
    "        theta_d = lda_model[bow_vector]\n",
    "\n",
    "        #######################\n",
    "\n",
    "        thetas.append(theta_d)\n",
    "\n",
    "    return thetas\n",
    "\n",
    "thetas = get_tweet_topic_dists(train_documents, lda_model)"
   ]
  },
  {
   "cell_type": "code",
   "execution_count": null,
   "id": "a87df7ba",
   "metadata": {},
   "outputs": [],
   "source": []
  },
  {
   "cell_type": "code",
   "execution_count": 326,
   "id": "d0d6bd01",
   "metadata": {},
   "outputs": [
    {
     "name": "stdout",
     "output_type": "stream",
     "text": [
      "[0.01000176 0.01000156 0.01000118 0.01000183 0.01000188]\n"
     ]
    },
    {
     "data": {
      "image/png": "[encoded data removed]",
      "text/plain": [
       "<Figure size 2000x1500 with 10 Axes>"
      ]
     },
     "metadata": {},
     "output_type": "display_data"
    }
   ],
   "source": [
    "import matplotlib.pyplot as plt\n",
    "import numpy as np\n",
    "\n",
    "# choose some colours for the topics\n",
    "colours = ['blue', 'green', 'red', 'cyan', 'magenta', 'yellow', 'black', 'teal', 'pink', 'purple',\n",
    "           'orange', 'gray', 'lime', 'darkgreen', 'lightgray', 'navy', 'gold', 'crimson', 'darkgray', 'fuchsia']\n",
    "\n",
    "def convert_theta_sparse_to_dense(theta_d_sparse, num_topics):\n",
    "    theta_d = np.zeros(num_topics)  # an empty array\n",
    "    \n",
    "    # split the output from lda_model into two lists\n",
    "    active_topics_in_d, probs = map(list, zip(*theta_d_sparse))\n",
    "    \n",
    "    # record the values in theta_d\n",
    "    for i, topic in enumerate(active_topics_in_d):\n",
    "        if topic >= num_topics:\n",
    "            break\n",
    "            \n",
    "        theta_d[topic] = probs[i]\n",
    "    \n",
    "    return theta_d\n",
    "\n",
    "#thetas_d = convert_theta_sparse_to_dense(thetas[0], 5)\n",
    "# a function for producing a bar chart for a document\n",
    "def plot_theta(thetas, d, num_docs, num_topics):\n",
    "    plt.subplot(int((num_docs+1)/2), 2, d+1)  # make a set of subplots inside a figure, with four subplots per row\n",
    "    \n",
    "    theta_d = convert_theta_sparse_to_dense(thetas[d], num_topics)\n",
    "    \n",
    "    # plot the results so that the same topics always occur at the same place along the x axis.\n",
    "    plt.bar(x=np.arange(len(theta_d)), height=theta_d, color=colours, tick_label=np.arange(num_topics))\n",
    "print(thetas_d)\n",
    "\n",
    "plt.figure(figsize=(20,15))\n",
    "\n",
    "### WRITE YOUR OWN CODE HERE\n",
    "num_docs = 10\n",
    "num_topics = 10\n",
    "counter = 0\n",
    "for d, theta in enumerate(thetas):\n",
    "    if (counter < 10):\n",
    "        plot_theta(thetas, d, num_docs, num_topics)\n",
    "        counter +=1\n",
    "\n",
    "############################\n",
    "\n",
    "plt.show()"
   ]
  },
  {
   "cell_type": "code",
   "execution_count": 327,
   "id": "b0756534",
   "metadata": {},
   "outputs": [
    {
     "name": "stdout",
     "output_type": "stream",
     "text": [
      "[['CEOs of BPM, UBI meet Italy econ minister as M&A talk heats up' '1']\n",
      " ['$PRGN A bottom right here?' '1']\n",
      " ['Whats up with $LULU?  Numbers looked good, not great, but good.  I think conference call will instill confidence.'\n",
      "  '1']\n",
      " ['$SPY Less than 0.2% down and people are calling it bearish. Some heading for exits already. Maybe 1% down will be \"the crash\"? Disturbing!'\n",
      "  '1']\n",
      " ['InterContinental Hotels Denies Reports of Starwood Merger Talks' '1']\n",
      " ['Goldman Sachs, Barclays, HSBC downplay Brexit threat' '1']\n",
      " ['ConAgra Names Former Hillshire Farms CEO Connolly to Top Post' '1']\n",
      " ['Barclays poised to replace Sir Mike Rake as he heads for exit' '1']\n",
      " ['$aapl short term fund/redemption liquidations.. Should have the channel cleared soon and on solid footing. $520 is new floor come July! :)'\n",
      "  '1']\n",
      " ['UPDATE 1-BP shareholders back more disclosure on climate change risks'\n",
      "  '1']\n",
      " ['FDA panel backs safety updates for AstraZeneca, Takeda drugs' '1']\n",
      " ['Sanofi poaches AstraZeneca scientist as new research head' '1']\n",
      " ['$AAPL 620 resistance area' '1']\n",
      " ['Ackman, in email, says supports Valeant CEO Pearson' '1']\n",
      " ['UPDATE 3-BP settles oil spill-related claims with Halliburton, Transocean'\n",
      "  '1']\n",
      " ['$UBNT still having some trouble at the resistance line. Should resolve soon.@cheri1 @strattonite   http://stks.co/c0sU4'\n",
      "  '1']\n",
      " ['Aviva shuts Friends Life head office in rapid integration move' '1']\n",
      " ['$YHOO fishy action. New party interested (DailyMail) bounce & retreats. Not short by any means, but action questions big up move. Thoughts?'\n",
      "  '1']\n",
      " ['Phew! So far good $BBRY did not break 10.40 coz I was told that is key support level.'\n",
      "  '1']\n",
      " [\"AB InBev's Latest Bid Said Unlikely to Win SABMiller's Approval\" '1']\n",
      " [\"CompaniesHome Retail trims gains but is considered 'in play'\" '1']\n",
      " ['Insurers: Admiral blows hot and cold but Aviva soars pre-Friends Life merger'\n",
      "  '1']\n",
      " [\"$XLI Potential intermediate top in an Uptrend on a 60'-15'-4' charts http://stks.co/j1TdF\"\n",
      "  '1']\n",
      " [\"ITV to pursue takeover of Canada's Entertainment One: Bloomberg\" '1']\n",
      " ['CompaniesLSE adds ex-SEC head Schapiro to board' '1']\n",
      " ['4 beaten-down Internet companies that may be ripe for a #takeover target: #Twitter $TWTR - #LinkedIn $LNKD - #Yahoo! $YHOO - #Groupon $GRPN'\n",
      "  '1']\n",
      " [\"AB InBev to Sell SABMiller Stake in China's Snow Beer\" '1']\n",
      " ['MarketsBP promotes upstream boss to deputy CEO' '1']\n",
      " [\"Can Christmas Save Sainsbury's plc And Tesco plc?\" '1']\n",
      " ['UPDATE 1-SABMiller 2nd-quarter underlying sales rise, forex impacts margins'\n",
      "  '1']\n",
      " ['TalkTalk hires BAE Systems to investigate cyber attack' '1']\n",
      " ['Royal Mail turnaround proving expensive in tough UK market' '1']\n",
      " ['Sainsbury CFO Rogers to Replace Home Retail CEO Walden' '1']\n",
      " ['BG Group appoints new CEO one month early' '1']\n",
      " ['$GLD http://stks.co/44ow On closer inspection.  Resistance 10 points north at 200d and downward trendline. Chart 2 of 2.'\n",
      "  '1']\n",
      " ['U.S. Debt Lures Schroders as ECB Depresses Rates' '1']\n",
      " ['Key level to watch in $FB for today is 25.53-- watching to see if it can hold as support http://stks.co/bOH4'\n",
      "  '1']\n",
      " ['$AAPL broke descending channel....will it hold?' '1']\n",
      " [\"$GLD http://stks.co/jr8 Daily chart - though RSI and Stoch. point at a possible move up, there's a lot of resistance.\"\n",
      "  '1']\n",
      " ['Randgold profit hit by poor gold price but dividend still increases'\n",
      "  '1']\n",
      " ['Coke dividend - 3%. Google dividend - 0%. For passive income Coke takes it. $GOOG $KO https://t.co/QBsoWjxOST'\n",
      "  '1']\n",
      " ['$AGN and $PYPL under pressure along with the market, however there were bullish options trades in both this morning https://t.co/9xG5W8nONT'\n",
      "  '1']\n",
      " [\"Insurer Old Mutual picks Standard Bank's Hemphill as new CEO\" '1']\n",
      " ['Irish housebuilder Cairn Homes plans London listing' '1']\n",
      " [\"RBS Pays $1.7 Billion to Scrap U.K. Treasury's Dividend Rights\" '1']\n",
      " ['easyJet expects resilient demand to withstand security fears' '1']\n",
      " [\"i-Grid shows $DIA capped for the long term at range of 123.40- 124.77;any rally beyond today's levels or into this range leads to meltdown.\"\n",
      "  '1']\n",
      " ['$AAPL Action into the close indicates that $AAPL probably hit a near term high.  Momentum slowing after a huge run.'\n",
      "  '1']\n",
      " ['$GILD 91 now support. $IBB $BIB https://t.co/GIoOf6zbKv' '1']\n",
      " [\"Despite sales growth, UK's Tesco cautions recovery to be bumpy\" '1']\n",
      " [\"$HAL If bulls lucky enuff to get an upside gap fill, better take it. Wouldn't chase it here. http://stks.co/r12Us\"\n",
      "  '1']\n",
      " [\"$AAPL Now I'm glad I got stopped out of my $113 weeklies when I did. Will re-enter next Monday for the #earnings run-up.\"\n",
      "  '1']\n",
      " ['$AMZN trades in mid to upper range. No break out yet, either direction'\n",
      "  '1']\n",
      " ['Shell challenges Exxon dominance with 47 billion-pound bid for BG' '1']\n",
      " ['$AAPL at pivot area on intraday chart- break here could send this to 50-day SMA, 457.80 http://stks.co/jPbN'\n",
      "  '1']\n",
      " ['$NVDA sideways' '1']\n",
      " ['Royal Mail gets mixed bag from Ofcom postal regulation report' '1']\n",
      " [\"Whitbread boss Andy Harrison defends sales fall as 'just a blip'\" '1']\n",
      " [\"Mylan Appoints Ranjan Ray Chaudhuri as Global Commercial Lead for Mylan's Over ...\"\n",
      "  '1']\n",
      " ['Valeant Said to Name New CEO With Pearson Still Hospitalized' '1']\n",
      " [\"Barclays appoints JPMorgan's Paul Compton as new COO\" '1']\n",
      " ['Entertainment One dispels ITV takeover rumours' '1']\n",
      " ['RT @andrewnyquist Chartology: Yahoo: http://stks.co/1itr $YHOO  Crazy looking chart, but nearing breakout resistance line...'\n",
      "  '1']\n",
      " ['$PLUG Closed short position. Small gain. Not interested in options expiring worthless'\n",
      "  '1']\n",
      " ['$QCOR a little pullback is fine but if this erases all of todays gains, I cannot believe the manipulation its capable of'\n",
      "  '1']\n",
      " ['Saudi Aramco, Shell plan to break up Motiva, divide up assets' '1']\n",
      " ['$GOOGL Hit With Lawsuit from Russian Search Engine $YNDX http://stks.co/b1kD8'\n",
      "  '1']\n",
      " ['EA Launches Origin Online Game Distribution for Mac http://stks.co/aKTU via MacRumors $EA'\n",
      "  '1']\n",
      " ['$MPWR CEO sells 450k april 15th..meh' '1']\n",
      " ['AB InBev attacks SABMiller bid rebuffal' '1']\n",
      " ['GlaxoSmithKline set to complete $20 billion Novartis asset swap next week'\n",
      "  '1']\n",
      " ['Morrisons faces festive sales test' '1']\n",
      " ['Irish Said Chasing Standard Chartered, RBS as Brexit Vote Nears' '1']\n",
      " ['$vxx starting to creep up while $spy sits near hod ...' '1']\n",
      " ['Goodwin not to face Scottish prosecution over RBS' '1']\n",
      " ['$mako hanging in well today. still in a basing pattern. have eyes on it'\n",
      "  '1']\n",
      " [\"Morning Agenda: Shire's Deal for NPS\" '1']\n",
      " ['volatility squeeze in $AAPL. I hope it gets resolved to the upside'\n",
      "  '1']\n",
      " ['MillerCoors Board Names Gavin Hattersley Interim CEO' '1']\n",
      " ['Petrofac share price rises despite Â£30m costs on North Sea project'\n",
      "  '1']\n",
      " ['Shell offers 50 percent premium to buy BG for $70 billion' '1']\n",
      " ['Sold some $TSLA Puts this morning Closed them at the close. Helps pay for monthly expenses'\n",
      "  '1']\n",
      " ['$PG Ackman making the big added efficiency argument. betting on operational imporvement in a huge conglomerate can go either way imo.'\n",
      "  '1']\n",
      " ['Shire CEO steps up drive to get Baxalta board talking' '1']\n",
      " ['Valeant Names Interim Leader as CEO Remains Hospitalized' '1']\n",
      " ['UPDATE 3-Stifel to buy former Lehman brokerage from Barclays' '1']\n",
      " ['Sheryl Sandberg Sells 109,000 Shares of Facebook Inc $FB Stock https://t.co/3vXT7AMnpk via @RatingsNetwork'\n",
      "  '1']\n",
      " ['$tsla X recall not a big deal... the problem is now they will have an excuse to guide way way lower...'\n",
      "  '1']\n",
      " ['Shell share price: Standard Life announce position against BG acquisition'\n",
      "  '1']\n",
      " ['Should You Follow Berkshire Hathaway Into Apple Stock?' '1']\n",
      " [\"Insight hires Aviva's David Hillier for multi-asset team\" '1']\n",
      " ['Tesco breaks its downward slide by cutting sales decline in half' '1']\n",
      " ['$TRIP maintains Neutral rating at JP Morgan- PT cut $61 from $66' '1']\n",
      " ['UPDATE: Barclays Expects Gain After Settling With Lehman Bros Trustee'\n",
      "  '1']\n",
      " ['Held its recent double bottom buy point of 56.57 almost to the penny today $WMT http://chart.ly/6nosp5q'\n",
      "  '1']\n",
      " ['Shire share price under pressure after $32bn Baxalta deal' '1']\n",
      " ['Berkshire Hathaway names Kara Raiguel to lead General Re unit' '1']\n",
      " ['CompaniesDixons Carphone to close 134 UK stores as sales jump' '1']\n",
      " ['Tesco Abandons Video-Streaming Ambitions in Blinkbox Sale' '1']\n",
      " ['GlaxoSmithKline starts hunt for successor to CEO Witty' '1']\n",
      " ['$AAPL Taking out the shorts here, a punishing reminder not to spear the  strongest in the herd.'\n",
      "  '1']\n",
      " ['Tesco set to sell Kipa, Giraffe businesses - Sky News' '1']\n",
      " ['$AMZN Trailing 12 months operating cash flow rose 48% to $4.98 billion & free cash flow decreased 63% to $388 million http://stks.co/c06zG'\n",
      "  '1']\n",
      " ['Tesco sells Blinkbox and broadband service to TalkTalk' '1']\n",
      " [\"$RUSS Don't catch falling knives, but I think an entry is coming soon on this\"\n",
      "  '1']\n",
      " ['Tesco shareholders back ITV head for chairman' '1']\n",
      " [\"$WGO's BoD was right to reject the offer. That company is low because of the economy, not because of any type of mismanagement or anything.\"\n",
      "  '1']\n",
      " ['$PAY 2nd time test of the 21.20-30 b/o zone.  Still not breaking out.  Moved my stop up to 20.80.'\n",
      "  '1']\n",
      " ['RBS will reportedly appoint Howard Davies as its next chairman' '1']\n",
      " ['Why $TWTR is doomed in 1 chart $FB $GOOG  https://t.co/MpyLiReQjh https://t.co/nlcZawDoHP'\n",
      "  '1']\n",
      " ['Shell and BG Shareholders to Vote on Deal at End of January' '1']\n",
      " ['$MA http://stks.co/1CYN continues to consolidate / base here' '1']\n",
      " ['Market Report: Eight-day rally ends for FTSE 100 and Standard Chartered'\n",
      "  '1']\n",
      " [\"stole my tweet. really wouldn't be surprised if we took out 423 and pinned around it RT @totalguru We could possibly even see425 today $AAPL\"\n",
      "  '1']\n",
      " ['$AAPL AAPL finally breaking under the 49 M.A.. With no buybacks this week, look for AAPL to test the 120 support area.'\n",
      "  '1']\n",
      " ['Facebook, near a buy point last week, faces a different technical test today https://t.co/c72LLMpiNM $FB $AAPL $NFLX https://t.co/fPFbYTYPuY'\n",
      "  '1']\n",
      " ['$BABA may take a few days wks months watch what happened to $FB $TWTR after they IPO. mrkt needs to washout. to hunt well need 2 wait stalk.'\n",
      "  '1']\n",
      " ['$COST Costco less than stellar day but it held the 50 day moving average'\n",
      "  '1']\n",
      " ['@technik I still have a smaller $GILD pos. Being very tender with cash due to volatility. So reluctant to keep many big positions.'\n",
      "  '1']\n",
      " ['$SLW is down, but weekly $34 calls (-28.95%), .23 x .25 have 321 volume. Worth a chance here, jmho: http://stks.co/1Qfg'\n",
      "  '1']\n",
      " ['Analyst Views: Astrazeneca shares have seen recent volatility; what will 2015 ...'\n",
      "  '1']\n",
      " ['Intertek Group announces strategic update outlining its plan' '1']\n",
      " ['Johnson Matthey profit falls but dividend rises' '1']\n",
      " [\"Kraft, Cadbury's and Britvic in Total Recall: how pulling a product affects profit\"\n",
      "  '1']\n",
      " ['UPDATE 1-Meggitt reiterates annual outlook after tough 2014' '1']]\n"
     ]
    }
   ],
   "source": [
    "arr = train_documents\n",
    "arr_2 = train_labels\n",
    "\n",
    "arrays = [arr,arr_2]\n",
    "new_arr = np.stack(arrays, axis=1)\n",
    "print(new_arr[new_arr[:,1] =='1'])"
   ]
  },
  {
   "cell_type": "code",
   "execution_count": 328,
   "id": "fcc5c725",
   "metadata": {},
   "outputs": [
    {
     "name": "stdout",
     "output_type": "stream",
     "text": [
      "[0.06442724 0.10432466 0.08602126 0.0785179  0.10453803 0.11906119\n",
      " 0.11367963 0.11495728 0.09040645 0.10887979]\n",
      "[0.09528659 0.08927227 0.11510305 0.0911793  0.07802061 0.11160254\n",
      " 0.10910186 0.08997838 0.10186579 0.09893997]\n",
      "[0.10631432 0.08914473 0.09953339 0.09347688 0.08890315 0.11076404\n",
      " 0.08719675 0.0948141  0.1044619  0.10451599]\n",
      "(3, 10)\n"
     ]
    }
   ],
   "source": [
    "np.set_printoptions(precision=8)\n",
    "# Create a numpy array which will store a matrix of values. Rows correspond to newsgroups and columns to LDA topics.\n",
    "def get_tweet_mean_topics():\n",
    "    \n",
    "    mean_thetas = np.zeros((len(['0','1','2']), 10))\n",
    "    # Create a matrix where each row corresponds to a label, and each column to a topic.\n",
    "    # In each entry, we will save the mean probability of the topic for the documents in that newsgroup.\n",
    "\n",
    "    label_arr = ['0','1','2']\n",
    "    for label in label_arr:\n",
    "        thetas_t_sparse = get_tweet_topic_dists(train_documents[new_arr[:,1] ==label], lda_model)\n",
    "        # convert the thetas to a dense vector format\n",
    "        thetas_t = []\n",
    "        for theta_d_t_sparse in thetas_t_sparse:\n",
    "            if not theta_d_t_sparse:\n",
    "                continue  # if it's empty\n",
    "            thetas_d = convert_theta_sparse_to_dense(theta_d_t_sparse, 10)\n",
    "            thetas_t.append(thetas_d)\n",
    "            # compute the mean theta for this newsgroup and store it in mean_thetas \n",
    "        ### WRITE YOUR OWN CODE HERE\n",
    "        mean_theta_t = np.mean(thetas_t, axis=0)\n",
    "        mean_thetas[int(label)] = mean_theta_t\n",
    "        print(mean_thetas[int(label)])\n",
    "    return mean_thetas\n",
    "   \n",
    "mean_arr = get_tweet_mean_topics()\n",
    "\n",
    "print(mean_arr.shape)"
   ]
  },
  {
   "cell_type": "code",
   "execution_count": null,
   "id": "13640615",
   "metadata": {},
   "outputs": [],
   "source": []
  },
  {
   "cell_type": "code",
   "execution_count": 329,
   "id": "bd31daf7",
   "metadata": {},
   "outputs": [
    {
     "name": "stdout",
     "output_type": "stream",
     "text": [
      "[0.06443826 0.10432531 0.08602086 0.0785178  0.10453746 0.11906084\n",
      " 0.11366901 0.11495759 0.09040692 0.1088794 ]\n",
      "[0.09528657 0.08927211 0.11510299 0.09117929 0.07802114 0.11160261\n",
      " 0.10910187 0.08997804 0.10187351 0.09893226]\n",
      "[0.10631571 0.08914402 0.09953179 0.0934765  0.08890268 0.11076381\n",
      " 0.08719674 0.09481411 0.10446377 0.10451611]\n"
     ]
    },
    {
     "data": {
      "image/png": "[encoded data removed]",
      "text/plain": [
       "<Figure size 640x480 with 1 Axes>"
      ]
     },
     "metadata": {},
     "output_type": "display_data"
    }
   ],
   "source": [
    "from IPython.display import clear_output\n",
    "\n",
    "def plot_tweet_topic_matrix():\n",
    "    # Run the function we defined above to get the mean topic distributions:\n",
    "    mean_thetas = get_tweet_mean_topics()\n",
    "    # Plot the matrix as a 2-D grid, where colours represent the values.\n",
    "    plt.imshow(mean_thetas)\n",
    "    # Change the labels on the axes\n",
    "    plt.show()\n",
    "plot_tweet_topic_matrix()"
   ]
  },
  {
   "cell_type": "code",
   "execution_count": 371,
   "id": "9873dde4",
   "metadata": {},
   "outputs": [
    {
     "name": "stdout",
     "output_type": "stream",
     "text": [
      "Topic: 0 \n",
      "Words: 0.003*upper + 0.003*dominance + 0.003*party + 0.003*best + 0.003*penny + 0.003*hopefully + 0.003*endp + 0.003*repurchase + 0.003*horizontal + 0.003*point\n",
      "\n",
      "\n",
      "Topic: 1 \n",
      "Words: 0.003*jsq + 0.003*matter + 0.003*bright + 0.003*hd + 0.003*exit + 0.003*xfnicwebeg + 0.003*tie + 0.003*aer + 0.002*pharmaceuticals + 0.002*pricey\n",
      "\n",
      "\n",
      "Topic: 2 \n",
      "Words: 0.004*cetw + 0.003*billion + 0.003*boat + 0.003*stumble + 0.003*brcm + 0.003*kara + 0.002*operational + 0.002*deal + 0.002*fin + 0.002*european\n",
      "\n",
      "\n",
      "Topic: 3 \n",
      "Words: 0.004*lower + 0.003*push + 0.003*street + 0.003*erase + 0.003*hi + 0.003*investorplace + 0.003*scale + 0.003*jdst + 0.003*expectations + 0.002*yst\n",
      "\n",
      "\n",
      "Topic: 4 \n",
      "Words: 0.003*pwmn + 0.003*upper + 0.003*glooks + 0.003*swing + 0.003*dyax + 0.003*lilly + 0.003*strong + 0.003*insight + 0.003*mutual + 0.003*qzzx\n",
      "\n",
      "\n",
      "Topic: 5 \n",
      "Words: 0.004*cyc + 0.003*player + 0.003*weeklies + 0.003*subdue + 0.003*constitute + 0.003*fundementals + 0.003*schroders + 0.003*aht + 0.003*sea + 0.002*expectations\n",
      "\n",
      "\n",
      "Topic: 6 \n",
      "Words: 0.003*ryandetrick + 0.003*wealth + 0.003*factor + 0.003*lkq + 0.003*unxl + 0.003*july + 0.003*langs + 0.003*disease + 0.003*invalidate + 0.002*blow\n",
      "\n",
      "\n",
      "Topic: 7 \n",
      "Words: 0.004*pretty + 0.003*mediacityuk + 0.003*wind + 0.003*fee + 0.003*bond + 0.003*know + 0.003*yelp + 0.003*venture + 0.002*number + 0.002*res\n",
      "\n",
      "\n",
      "Topic: 8 \n",
      "Words: 0.003*master + 0.003*bet + 0.003*approve + 0.003*bib + 0.003*concrete + 0.002*companiesdixons + 0.002*tinto + 0.002*idcc + 0.002*outlook + 0.002*hours\n",
      "\n",
      "\n",
      "Topic: 9 \n",
      "Words: 0.003*family + 0.003*tender + 0.003*pound + 0.003*technologies + 0.003*novartis + 0.002*euro + 0.002*pipleline + 0.002*steep + 0.002*ipo + 0.002*ld\n",
      "\n",
      "\n",
      "Topic: 10 \n",
      "Words: 0.003*media + 0.003*tax + 0.003*finally + 0.003*twitter + 0.003*loooooongggggg + 0.002*mf + 0.002*airline + 0.002*https + 0.002*homebuilders + 0.002*nyse\n",
      "\n",
      "\n",
      "Topic: 11 \n",
      "Words: 0.003*cnpc + 0.003*meh + 0.003*cliff + 0.003*spx + 0.003*lock + 0.003*companieshome + 0.003*bore + 0.002*store + 0.002*mkt + 0.002*david\n",
      "\n",
      "\n",
      "Topic: 12 \n",
      "Words: 0.004*tesla + 0.003*search + 0.003*ddd + 0.003*fishy + 0.003*gdxj + 0.002*fbr + 0.002*mediacityuk + 0.002*word + 0.002*ipvj + 0.002*mull\n",
      "\n",
      "\n",
      "Topic: 13 \n",
      "Words: 0.004*brokerage + 0.003*pcln + 0.003*announcement + 0.003*increase + 0.003*mull + 0.003*taylor + 0.002*van + 0.002*kndi + 0.002*iressa + 0.002*enterprise\n",
      "\n",
      "\n",
      "Topic: 14 \n",
      "Words: 0.003*sgyp + 0.003*leukaemia + 0.003*prove + 0.003*endâ + 0.003*megaas + 0.003*report + 0.002*factory + 0.002*sanction + 0.002*ddd + 0.002*compq\n",
      "\n",
      "\n",
      "Topic: 15 \n",
      "Words: 0.004*bdqv + 0.003*hmoegfhgvn + 0.003*best + 0.003*davies + 0.003*coo + 0.003*prgn + 0.003*prepare + 0.003*bubble + 0.003*baxalta + 0.002*dyax\n",
      "\n",
      "\n",
      "Topic: 16 \n",
      "Words: 0.003*britain + 0.003*hmxsitwm + 0.003*bto + 0.003*bã + 0.003*tmu + 0.003*rat + 0.003*bbcn + 0.003*jhq + 0.003*pm + 0.003*lingus\n",
      "\n",
      "\n",
      "Topic: 17 \n",
      "Words: 0.004*horizontal + 0.003*tax + 0.002*czhix + 0.002*st + 0.002*qh + 0.002*qcor + 0.002*big + 0.002*merkel + 0.002*report + 0.002*hastings\n",
      "\n",
      "\n",
      "Topic: 18 \n",
      "Words: 0.004*fcm + 0.003*giant + 0.003*lonmin + 0.003*swap + 0.002*internet + 0.002*cash + 0.002*flush + 0.002*prgn + 0.002*origin + 0.002*stellar\n",
      "\n",
      "\n",
      "Topic: 19 \n",
      "Words: 0.003*itr + 0.003*leukaemia + 0.003*pearson + 0.003*ppg + 0.003*ci + 0.003*guess + 0.003*hang + 0.002*entry + 0.002*qy + 0.002*love\n",
      "\n",
      "\n"
     ]
    }
   ],
   "source": [
    "from gensim.models import HdpModel\n",
    "\n",
    "### WRITE YOUR OWN CODE HERE\n",
    "hdp_model = HdpModel(bow_corpus, \n",
    "                     id2word=dictionary,\n",
    "                     alpha=10,\n",
    "                     gamma=1000)\n",
    "\n",
    "###\n",
    "\n",
    "# print the word-topic distributions for \n",
    "for idx, topic in hdp_model.print_topics(20):\n",
    "    print(\"Topic: {} \\nWords: {}\".format(idx, topic ))\n",
    "    print(\"\\n\")"
   ]
  },
  {
   "cell_type": "code",
   "execution_count": 372,
   "id": "4ec050e8",
   "metadata": {},
   "outputs": [
    {
     "data": {
      "image/png": "[encoded data removed]",
      "text/plain": [
       "<Figure size 640x480 with 1 Axes>"
      ]
     },
     "metadata": {},
     "output_type": "display_data"
    }
   ],
   "source": [
    "def plot_global_topic_weights(hdp_model):\n",
    "    global_topic_weights = hdp_model.m_varphi_ss / np.sum(hdp_model.m_varphi_ss)\n",
    "\n",
    "    plt.bar(np.arange(len(global_topic_weights)), global_topic_weights)\n",
    "    plt.ylabel('Probability')\n",
    "    plt.xlabel('Topic ID')\n",
    "    \n",
    "plot_global_topic_weights(hdp_model)"
   ]
  },
  {
   "cell_type": "code",
   "execution_count": 373,
   "id": "2a61eb75",
   "metadata": {},
   "outputs": [
    {
     "name": "stdout",
     "output_type": "stream",
     "text": [
      "$DUG weekly stochastics finally starting to turn up after long consolidation. Buying here.\n",
      "long: 1\n",
      "buy: 1\n",
      "weekly: 1\n",
      "consolidation: 1\n",
      "turn: 1\n",
      "start: 1\n",
      "finally: 1\n"
     ]
    }
   ],
   "source": [
    "test_document_idx = 0\n",
    "unseen_document = test_documents[test_document_idx]\n",
    "print(unseen_document)\n",
    "\n",
    "# Data preprocessing step for the unseen document - It is the same preprocessing we have performed for the training data\n",
    "bow_vector = dictionary.doc2bow(preprocess(unseen_document))\n",
    "\n",
    "for idx, count in bow_vector:\n",
    "    print(f'{dictionary[idx]}: {count}')"
   ]
  },
  {
   "cell_type": "code",
   "execution_count": 378,
   "id": "8b29b90b",
   "metadata": {},
   "outputs": [
    {
     "name": "stdout",
     "output_type": "stream",
     "text": [
      "[0. 0. 0. 0. 0. 0. 0. 0. 0. 0.]\n",
      "[0. 0. 0. 0. 0. 0. 0. 0. 0. 0.]\n",
      "[0.         0.         0.         0.         0.         0.\n",
      " 0.         0.         0.         0.00049173]\n",
      "(3, 10)\n",
      "[0. 0. 0. 0. 0. 0. 0. 0. 0. 0.]\n",
      "[0. 0. 0. 0. 0. 0. 0. 0. 0. 0.]\n",
      "[0.         0.         0.         0.         0.         0.\n",
      " 0.         0.         0.         0.00049173]\n"
     ]
    },
    {
     "data": {
      "image/png": "[encoded data removed]",
      "text/plain": [
       "<Figure size 640x480 with 1 Axes>"
      ]
     },
     "metadata": {},
     "output_type": "display_data"
    }
   ],
   "source": [
    "\n",
    "np.set_printoptions(precision=8)\n",
    "# Create a numpy array which will store a matrix of values. Rows correspond to newsgroups and columns to LDA topics.\n",
    "def get_tweet_mean_topics():\n",
    "    \n",
    "    mean_thetas = np.zeros((len(['0','1','2']), 10))\n",
    "    # Create a matrix where each row corresponds to a label, and each column to a topic.\n",
    "    # In each entry, we will save the mean probability of the topic for the documents in that newsgroup.\n",
    "\n",
    "    label_arr = ['0','1','2']\n",
    "    for label in label_arr:\n",
    "        thetas_t_sparse = get_tweet_topic_dists(train_documents[new_arr[:,1] ==label], hdp_model)\n",
    "        # convert the thetas to a dense vector format\n",
    "        thetas_t = []\n",
    "        for theta_d_t_sparse in thetas_t_sparse:\n",
    "            if not theta_d_t_sparse:\n",
    "                continue  # if it's empty\n",
    "            thetas_d = convert_theta_sparse_to_dense(theta_d_t_sparse, 10)\n",
    "            thetas_t.append(thetas_d)\n",
    "            # compute the mean theta for this newsgroup and store it in mean_thetas \n",
    "        ### WRITE YOUR OWN CODE HERE\n",
    "        mean_theta_t = np.mean(thetas_t, axis=0)\n",
    "        mean_thetas[int(label)] = mean_theta_t\n",
    "        print(mean_thetas[int(label)])\n",
    "    return mean_thetas\n",
    "   \n",
    "mean_arr = get_tweet_mean_topics()\n",
    "\n",
    "print(mean_arr.shape)\n",
    "\n",
    "def plot_tweet_topic_matrix():\n",
    "    # Run the function we defined above to get the mean topic distributions:\n",
    "    mean_thetas = get_tweet_mean_topics()\n",
    "    # Plot the matrix as a 2-D grid, where colours represent the values.\n",
    "    plt.imshow(mean_thetas)\n",
    "    # Change the labels on the axes\n",
    "    plt.show()\n",
    "plot_tweet_topic_matrix()"
   ]
  },
  {
   "cell_type": "code",
   "execution_count": null,
   "id": "ce06c56b",
   "metadata": {},
   "outputs": [],
   "source": []
  },
  {
   "cell_type": "code",
   "execution_count": null,
   "id": "abcaff5d",
   "metadata": {},
   "outputs": [],
   "source": []
  }
 ],
 "metadata": {
  "kernelspec": {
   "display_name": "data_analytics",
   "language": "python",
   "name": "data_analytics"
  },
  "language_info": {
   "codemirror_mode": {
    "name": "ipython",
    "version": 3
   },
   "file_extension": ".py",
   "mimetype": "text/x-python",
   "name": "python",
   "nbconvert_exporter": "python",
   "pygments_lexer": "ipython3",
   "version": "3.9.16"
  }
 },
 "nbformat": 4,
 "nbformat_minor": 5
}
